{
  "nbformat": 4,
  "nbformat_minor": 0,
  "metadata": {
    "colab": {
      "name": "scaffolding.ipynb",
      "provenance": [],
      "collapsed_sections": [],
      "authorship_tag": "ABX9TyPFpf0G9aRkYh5Bv88QTsRS",
      "include_colab_link": true
    },
    "kernelspec": {
      "name": "python3",
      "display_name": "Python 3"
    }
  },
  "cells": [
    {
      "cell_type": "markdown",
      "metadata": {
        "id": "view-in-github",
        "colab_type": "text"
      },
      "source": [
        "<a href=\"https://colab.research.google.com/github/96jonesa/CSE-517-Project/blob/main/scaffolding.ipynb\" target=\"_parent\"><img src=\"https://colab.research.google.com/assets/colab-badge.svg\" alt=\"Open In Colab\"/></a>"
      ]
    },
    {
      "cell_type": "markdown",
      "metadata": {
        "id": "kUxhN7LDSGGz"
      },
      "source": [
        "#Imports"
      ]
    },
    {
      "cell_type": "code",
      "metadata": {
        "id": "1Bn0eEsGSB3N"
      },
      "source": [
        "import torch\r\n",
        "import torch.nn as nn\r\n",
        "from torch import optim\r\n",
        "import torch.nn.functional as F"
      ],
      "execution_count": 33,
      "outputs": []
    },
    {
      "cell_type": "markdown",
      "metadata": {
        "id": "9IchYXapSJjH"
      },
      "source": [
        "#GRU"
      ]
    },
    {
      "cell_type": "markdown",
      "metadata": {
        "id": "1-YF6GyHzwE2"
      },
      "source": [
        "##GRU\r\n",
        "This is just a wrapper around nn.GRU for the sake of consistency. Used in the Price Encoder, day-level SMI Encoder, and temporal SMI Encoder."
      ]
    },
    {
      "cell_type": "code",
      "metadata": {
        "id": "D0OVZXsnSJH3"
      },
      "source": [
        "class GRU(nn.Module):\r\n",
        "    def __init__(self, input_size, hidden_size, batch_first=False):\r\n",
        "        super(GRU, self).__init__()\r\n",
        "        self.input_size = input_size\r\n",
        "        self.hidden_size = hidden_size\r\n",
        "        self.batch_first = batch_first\r\n",
        "\r\n",
        "        self.gru = nn.GRU(input_size, hidden_size, batch_first=self.batch_first)\r\n",
        "\r\n",
        "    def forward(self, input):\r\n",
        "        output, hn = self.gru(input)\r\n",
        "        return output, hn"
      ],
      "execution_count": 34,
      "outputs": []
    },
    {
      "cell_type": "markdown",
      "metadata": {
        "id": "qRniLDIGSf5Y"
      },
      "source": [
        "#Self-Attention"
      ]
    },
    {
      "cell_type": "markdown",
      "metadata": {
        "id": "iDM1G23a0J4V"
      },
      "source": [
        "##LinearAttention\r\n",
        "The attention mechanism used in Feng et. al. Used in the Price Encoder, day-level SMI Encoder, and temporal SMI Encoder. Given input $h$, returns\r\n",
        "$q_t = \\sum_{i=t-T}^T \\beta_i h_i$ where $\\beta_i = \\dfrac{\\exp\\left( u^T \\tanh \\left( W h_i + b \\right) \\right)}{\\sum_{k=t-T}^t \\exp\\left( u^T \\tanh \\left( W h_k + b \\right) \\right)}$."
      ]
    },
    {
      "cell_type": "code",
      "metadata": {
        "id": "UDJ054vAquLa"
      },
      "source": [
        "# attention weights are softmax(u^T tanh(W input + b)) where W is learned parameter matrix, u is a learned parameter vector, and b is a learned offset\r\n",
        "\r\n",
        "class LinearAttention(nn.Module):\r\n",
        "    def __init__(self, input_size, intermediate_size, weights_size):\r\n",
        "        super(LinearAttention, self).__init__()\r\n",
        "        self.input_size = input_size\r\n",
        "        self.intermediate_size = intermediate_size\r\n",
        "        self.weights_size = weights_size\r\n",
        "\r\n",
        "        self.linear_1 = nn.Linear(self.input_size, self.intermediate_size, bias=True)\r\n",
        "        self.linear_2 = nn.Linear(self.intermediate_size, self.weights_size, bias=False)\r\n",
        "        self.tanh = nn.Tanh()\r\n",
        "        self.softmax = nn.Softmax(dim=2)\r\n",
        "\r\n",
        "    def forward(self, input):\r\n",
        "        intermediate = self.tanh(self.linear_1(input))\r\n",
        "        attention_weights = self.softmax(self.linear_2(intermediate))\r\n",
        "        attention_weights = attention_weights.permute(0, 2, 1)\r\n",
        "        output_features = torch.bmm(attention_weights, input)\r\n",
        "\r\n",
        "        return output_features"
      ],
      "execution_count": 35,
      "outputs": []
    },
    {
      "cell_type": "markdown",
      "metadata": {
        "id": "4qkvwOlPW3kt"
      },
      "source": [
        "#Blending"
      ]
    },
    {
      "cell_type": "markdown",
      "metadata": {
        "id": "7AMUuaLR06Ph"
      },
      "source": [
        "##Blend\r\n",
        "Applies a learned bilinear transformation to the left and right vectors, then inputs the result to a ReLU non-linearity. Used to obtain Multi-Modal Encodings from Price Encodings and temporal SMI Encodings. Given Price Encodings $q_t$ and temporal SMI Encodings $c_t$, returns\r\n",
        "$x_t = \\mathcal{B} \\left( c_t, q_t \\right) = \\text{ReLU} \\left( q_t^T W c_t + b \\right)$."
      ]
    },
    {
      "cell_type": "code",
      "metadata": {
        "id": "kmdq6ozMV1u8"
      },
      "source": [
        "# output is ReLU(left^T W right + b) where W is a learned paramater matrix\r\n",
        "# and b is a learned bias\r\n",
        "\r\n",
        "class Blend(nn.Module):\r\n",
        "    def __init__(self, left_size, right_size, output_size):\r\n",
        "        super(Blend, self).__init__()\r\n",
        "        self.left_size = left_size\r\n",
        "        self.right_size = right_size\r\n",
        "        self.output_size = output_size\r\n",
        "\r\n",
        "        self.bilinear = nn.Bilinear(self.left_size, self.right_size, output_size, bias=True)\r\n",
        "        self.relu = nn.ReLU()\r\n",
        "    \r\n",
        "    def forward(self, left, right):\r\n",
        "        output = self.relu(self.bilinear(left, right))\r\n",
        "\r\n",
        "        return output"
      ],
      "execution_count": 36,
      "outputs": []
    },
    {
      "cell_type": "markdown",
      "metadata": {
        "id": "1zknLj7UautA"
      },
      "source": [
        "#Single-Headed Graph Attention Network (SGAT)"
      ]
    },
    {
      "cell_type": "markdown",
      "metadata": {
        "id": "3MQfBWhE1XR6"
      },
      "source": [
        "##SharedLinear\r\n",
        "This is just a wrapper around nn.Linear for the sake of consistency. Used to apply a shared linear transformation to all inputs of an SGAT layer. Under current implementation, this should be applied before passing inputs to SGAT."
      ]
    },
    {
      "cell_type": "code",
      "metadata": {
        "id": "7DYXTg2piK_J"
      },
      "source": [
        "# need shared learned parameter matrix W to multiply against each input vector\r\n",
        "\r\n",
        "class SharedLinear(nn.Module):\r\n",
        "    def __init__(self, input_size, output_size):\r\n",
        "        super(SharedLinear, self).__init__()\r\n",
        "        self.input_size = input_size\r\n",
        "        self.output_size = output_size\r\n",
        "        \r\n",
        "        self.linear = nn.Linear(input_size, output_size, bias=False)\r\n",
        "    \r\n",
        "    def forward(self, input):\r\n",
        "        output = self.linear(input)\r\n",
        "\r\n",
        "        return output"
      ],
      "execution_count": 37,
      "outputs": []
    },
    {
      "cell_type": "markdown",
      "metadata": {
        "id": "iu7zaUMD10iy"
      },
      "source": [
        "##SGAT\r\n",
        "A single-headed GAT layer. A shared linear transform $W$ is applied to all the nodes *before* passing them as input to this module (by passing them as input to a SharedLinear layer), then a shared self-attention mechanism is applied to each node $i$ in its immediate neighborhood $\\mathcal{N}_i$. For each node $j\\in \\mathcal{N}_i$, normalized attention coefficients $\\alpha_{i,j}$ are computed to represent the importance of the relations between stocks $i$ and $j$. That is,\r\n",
        "$\\alpha_{i,j} = \\dfrac{\\exp ( \\text{LeakyReLU} ( a_w^T [ W x_i \r\n",
        "\\oplus W x_j ] ) )}{\\sum_{k\\in \\mathcal{N}_i} \\exp ( \\text{LeakyReLU} ( a_w^T [ W x_i \\oplus W x_k ] ) )}$\r\n",
        "where $\\oplus$ denotes concatenation and $a_w$ is a learned parameter matrix. An updated feature vector $z_i$ for the $i$-th stock is computed by applying these attention weights to the linearly transformed multi-modal feature vectors of all of the stocks in $\\mathcal{N}_i$"
      ]
    },
    {
      "cell_type": "code",
      "metadata": {
        "id": "z0uaOH5UW2cc"
      },
      "source": [
        "# merge code with MGAT code to form general case GAT code\r\n",
        "\r\n",
        "class SGAT(nn.Module):\r\n",
        "    def __init__(self, input_size, weights_size, leakyrelu_slope=0.01):\r\n",
        "        super(SGAT, self).__init__()\r\n",
        "        self.input_size = input_size\r\n",
        "        self.weights_size = weights_size\r\n",
        "        self.leakyrelu_slope = leakyrelu_slope\r\n",
        "        \r\n",
        "        self.linear = nn.Linear(2 * input_size, weights_size, bias=False)\r\n",
        "        self.leakyrelu = nn.LeakyReLU(self.leakyrelu_slope)\r\n",
        "        self.softmax = nn.Softmax(dim=1)\r\n",
        "\r\n",
        "    def forward(self, input, neighborhoods, index):\r\n",
        "        stock = input[index]\r\n",
        "        neighborhood = neighborhoods[index]\r\n",
        "        stack_stock = stock.expand(len(neighborhood), stock.shape[0])\r\n",
        "        stack_neighbors = input[neighborhood]\r\n",
        "        cat_stock = torch.cat((stack_stock, stack_neighbors), dim=1)\r\n",
        "        print(cat_stock)\r\n",
        "        attention_weights = self.softmax(self.leakyrelu(self.linear(cat_stock)))  # check this\r\n",
        "        output_features = torch.mm(attention_weights.T, stack_neighbors)  # check this\r\n",
        "\r\n",
        "        return output_features"
      ],
      "execution_count": 38,
      "outputs": []
    },
    {
      "cell_type": "markdown",
      "metadata": {
        "id": "km8lDrqXkPIR"
      },
      "source": [
        "#MAN-SF"
      ]
    },
    {
      "cell_type": "code",
      "metadata": {
        "id": "wdXk_nhNs8Jm"
      },
      "source": [
        "class MANSF(nn.Module):\r\n",
        "    def __init__(self, T, num_stocks, gru_hidden_size, attn_inter_size, use_embed_size,\r\n",
        "                 blend_size, gat_1_inter_size, gat_2_inter_size, leakyrelu_slope, elu_alpha, U):\r\n",
        "        super(MANSF, self).__init__()\r\n",
        "        self.T = T\r\n",
        "        self.num_stocks = num_stocks\r\n",
        "        self.gru_hidden_size = gru_hidden_size\r\n",
        "        self.attn_inter_size = attn_inter_size\r\n",
        "        self.use_embed_size = use_embed_size\r\n",
        "        self.blend_size = blend_size\r\n",
        "        self.gat_1_inter_size = gat_1_inter_size\r\n",
        "        self.gat_2_inter_size = gat_2_inter_size\r\n",
        "        self.leakyrelu_slope = leakyrelu_slope\r\n",
        "        self.elu_alpha = elu_alpha\r\n",
        "        self.U = U\r\n",
        "\r\n",
        "        self.gru_p = GRU(3, gru_hidden_size, batch_first=True)\r\n",
        "        self.gru_m = GRU(use_embed_size, gru_hidden_size, batch_first=True)\r\n",
        "        self.gru_s = GRU(gru_hidden_size, gru_hidden_size, batch_first=True)\r\n",
        "        self.attn_p = LinearAttention(gru_hidden_size, attn_inter_size, 1)\r\n",
        "        self.attn_m = LinearAttention(gru_hidden_size, attn_inter_size, 1)\r\n",
        "        self.attn_s = LinearAttention(gru_hidden_size, attn_inter_size, 1)\r\n",
        "        self.blend = Blend(use_embed_size, use_embed_size, blend_size)\r\n",
        "        self.shared_linears_1 = []\r\n",
        "        for u in range(U):\r\n",
        "            self.shared_linears_1.append(SharedLinear(blend_size, gat_1_inter_size))\r\n",
        "        self.shared_linears_2 = []\r\n",
        "        for u in range(U):\r\n",
        "            self.shared_linears_2.append(SharedLinear(U * gat_1_inter_size, gat_2_inter_size))\r\n",
        "        self.mgat_1 = []\r\n",
        "        for u in range(U):\r\n",
        "            sgats = []\r\n",
        "            for i in range(num_stocks):\r\n",
        "                sgats.append(SGAT(gat_1_inter_size, 1, leakyrelu_slope=leakyrelu_slope))\r\n",
        "            self.mgat_1.append(sgats)\r\n",
        "            #self.mgat_1.append(SGAT(gat_1_inter_size, 1, leakyrelu_slope=leakyrelu_slope))\r\n",
        "        self.mgat_2 = []\r\n",
        "        for u in range(U):\r\n",
        "            sgats = []\r\n",
        "            for i in range(num_stocks):\r\n",
        "                sgats.append(SGAT(gat_2_inter_size, 1, leakyrelu_slope=leakyrelu_slope))\r\n",
        "            self.mgat_2.append(sgats)\r\n",
        "            #self.mgat_2.append(SGAT(gat_2_inter_size, 1, leakyrelu_slope=leakyrelu_slope))\r\n",
        "        self.sigmoid = nn.Sigmoid()\r\n",
        "        self.elu = nn.ELU(elu_alpha)\r\n",
        "        self.final_linear = nn.Linear(U * gat_2_inter_size, 1, bias=True)\r\n",
        "\r\n",
        "    # p is price data tensor of shape (num_stocks, T, 3), for the day under consideration\r\n",
        "    #\r\n",
        "    # m is smi data list of tensors of shape (num_stocks, K, use_embed_size) of length T,\r\n",
        "    #       where K is the number of tweets for the given stock on the day under consideration\r\n",
        "    #\r\n",
        "    # neighorhoods is a list of adjacency lists, where each stock is indexed with the same\r\n",
        "    #       indices they have in p and m\r\n",
        "    #\r\n",
        "    # TODO: tensorize day-level smi\r\n",
        "    # TODO: tensorize sgat \r\n",
        "    def forward(self, p, m, neighborhoods):\r\n",
        "        ## price encoding\r\n",
        "        h_p, _ = self.gru_p(p)\r\n",
        "        q = self.attn_p(h_p)\r\n",
        "\r\n",
        "        ## smi encoding (day level)\r\n",
        "        r = torch.zeros(self.num_stocks, 0, self.gru_hidden_size)\r\n",
        "        for t in range(self.T):\r\n",
        "            h_m, _ = self.gru_m(m[t])\r\n",
        "            r_t = self.attn_m(h_m)\r\n",
        "            r = torch.cat((r, r_t), 1)\r\n",
        "\r\n",
        "        ## smi encoding (aggregate)\r\n",
        "        h_s, _ = self.gru_s(r)\r\n",
        "        c = self.attn_s(h_s)\r\n",
        "\r\n",
        "        ## blending\r\n",
        "        x = self.blend(q, c)\r\n",
        "\r\n",
        "        ## reshaping (eliminating superfluous dimension)\r\n",
        "        x = x.view(x.shape[0], x.shape[2])\r\n",
        "\r\n",
        "        ## first gat layer\r\n",
        "        #  first head\r\n",
        "        shared_linear = self.shared_linears_1[0]\r\n",
        "        Wx = shared_linear(x)\r\n",
        "        #sgat = self.mgat_1[0]\r\n",
        "        sgat = self.mgat_1[0][0]\r\n",
        "        z = sgat(Wx, neighborhoods, 0)\r\n",
        "        z = self.elu(z)\r\n",
        "\r\n",
        "        for i in range(1, self.num_stocks):\r\n",
        "            sgat = self.mgat_1[0][i]  # this is the fix to the proceeding TODO\r\n",
        "            z_i = sgat(Wx, neighborhoods, i)  # TODO: use fresh SGAT for each stock\r\n",
        "            z_i = self.elu(z_i)\r\n",
        "            z = torch.cat((z, z_i), 0)\r\n",
        "\r\n",
        "        #  remaining heads\r\n",
        "        for u in range(1, self.U):\r\n",
        "            shared_linear = self.shared_linears_1[u]\r\n",
        "            Wx = shared_linear(x)\r\n",
        "            #sgat = self.mgat_1[u]\r\n",
        "            sgat = self.mgat_1[u][0]\r\n",
        "            z_u = sgat(Wx, neighborhoods, 0)\r\n",
        "            z_u = self.elu(z_u)\r\n",
        "\r\n",
        "            for i in range(1, self.num_stocks):\r\n",
        "                sgat = self.mgat_1[u][i]\r\n",
        "                z_u_i = sgat(Wx, neighborhoods, i)\r\n",
        "                z_u_i = self.elu(z_u_i)\r\n",
        "                z_u = torch.cat((z_u, z_u_i), 0)\r\n",
        "            \r\n",
        "            z = torch.cat((z, z_u), 1)\r\n",
        "        \r\n",
        "        ## second gat layer\r\n",
        "        #  first head\r\n",
        "        shared_linear = self.shared_linears_2[0]\r\n",
        "        Wx = shared_linear(z)\r\n",
        "        #sgat = self.mgat_2[0]\r\n",
        "        sgat = self.mgat_2[0][0]\r\n",
        "        new_z = sgat(Wx, neighborhoods, 0)\r\n",
        "        new_z = self.sigmoid(new_z)\r\n",
        "\r\n",
        "        for i in range(1, self.num_stocks):\r\n",
        "            sgat = self.mgat_2[0][i]\r\n",
        "            new_z_i = sgat(Wx, neighborhoods, i)\r\n",
        "            new_z_i = self.sigmoid(new_z_i)\r\n",
        "            new_z = torch.cat((new_z, new_z_i), 0)\r\n",
        "\r\n",
        "        #  remaining heads\r\n",
        "        for u in range(1, self.U):\r\n",
        "            shared_linear = self.shared_linears_2[u]\r\n",
        "            Wx = shared_linear(z)\r\n",
        "            #sgat = self.mgat_2[u]\r\n",
        "            sgat = self.mgat_2[u][0]\r\n",
        "            new_z_u = sgat(Wx, neighborhoods, 0)\r\n",
        "            new_z_u = self.sigmoid(new_z_u)\r\n",
        "\r\n",
        "            for i in range(1, self.num_stocks):\r\n",
        "                sgat = self.mgat_2[u][i]\r\n",
        "                new_z_u_i = sgat(Wx, neighborhoods, i)\r\n",
        "                new_z_u_i = self.sigmoid(new_z_u_i)\r\n",
        "                new_z_u = torch.cat((new_z_u, new_z_u_i), 0)\r\n",
        "            \r\n",
        "            new_z = torch.cat((new_z, new_z_u), 1)\r\n",
        "        \r\n",
        "        ## final layer\r\n",
        "        y = self.sigmoid(self.final_linear(new_z))\r\n",
        "\r\n",
        "        ## return result\r\n",
        "        return y"
      ],
      "execution_count": 39,
      "outputs": []
    },
    {
      "cell_type": "markdown",
      "metadata": {
        "id": "LGJlWH03F6Vm"
      },
      "source": [
        "#Testing"
      ]
    },
    {
      "cell_type": "code",
      "metadata": {
        "id": "KOrNDPkGF7Lx"
      },
      "source": [
        "p = torch.tensor([[[1.5, 1.8, 1.2], [1.7, 1.9, 1.3]], [[0.8, 0.9, 0.6], [0.6, 0.7, 0.4]]])"
      ],
      "execution_count": 40,
      "outputs": []
    },
    {
      "cell_type": "code",
      "metadata": {
        "colab": {
          "base_uri": "https://localhost:8080/"
        },
        "id": "u5RpydUnHCY_",
        "outputId": "0f68059e-e294-4e8d-93a6-72f0fcfbe0d9"
      },
      "source": [
        "print(p.shape)"
      ],
      "execution_count": 41,
      "outputs": [
        {
          "output_type": "stream",
          "text": [
            "torch.Size([2, 2, 3])\n"
          ],
          "name": "stdout"
        }
      ]
    },
    {
      "cell_type": "code",
      "metadata": {
        "id": "ajvv409nHEQW"
      },
      "source": [
        "m = [torch.zeros(2,1,64),torch.zeros(2,1,64)]"
      ],
      "execution_count": 42,
      "outputs": []
    },
    {
      "cell_type": "code",
      "metadata": {
        "colab": {
          "base_uri": "https://localhost:8080/"
        },
        "id": "wsW9psWTH5Q0",
        "outputId": "8505f435-00cc-4732-d17e-63732aa9e6da"
      },
      "source": [
        "print(m[0].shape)"
      ],
      "execution_count": 43,
      "outputs": [
        {
          "output_type": "stream",
          "text": [
            "torch.Size([2, 1, 64])\n"
          ],
          "name": "stdout"
        }
      ]
    },
    {
      "cell_type": "code",
      "metadata": {
        "id": "Wm8MhsktIEmL"
      },
      "source": [
        "neighborhoods = [[0,1],[0,1,]]"
      ],
      "execution_count": 44,
      "outputs": []
    },
    {
      "cell_type": "code",
      "metadata": {
        "id": "pHhPTGwtITTJ"
      },
      "source": [
        "Y = torch.tensor([[1.0],[0.0]])"
      ],
      "execution_count": 46,
      "outputs": []
    },
    {
      "cell_type": "code",
      "metadata": {
        "colab": {
          "base_uri": "https://localhost:8080/"
        },
        "id": "RAxznczuI1Mk",
        "outputId": "7a93695c-228d-4664-f2e6-49dba88aa533"
      },
      "source": [
        "print(Y.shape)"
      ],
      "execution_count": 47,
      "outputs": [
        {
          "output_type": "stream",
          "text": [
            "torch.Size([2, 1])\n"
          ],
          "name": "stdout"
        }
      ]
    },
    {
      "cell_type": "code",
      "metadata": {
        "id": "d71ifgz-I2HP"
      },
      "source": [
        "mansf = MANSF(T=2,\r\n",
        "              num_stocks=2,\r\n",
        "              gru_hidden_size=64,\r\n",
        "              attn_inter_size=32,\r\n",
        "              use_embed_size=64,\r\n",
        "              blend_size=32,\r\n",
        "              gat_1_inter_size=32,\r\n",
        "              gat_2_inter_size=32,\r\n",
        "              leakyrelu_slope=0.01,\r\n",
        "              elu_alpha=1.0,\r\n",
        "              U=8)"
      ],
      "execution_count": 50,
      "outputs": []
    },
    {
      "cell_type": "code",
      "metadata": {
        "id": "KPqWqHO3JSes",
        "colab": {
          "base_uri": "https://localhost:8080/"
        },
        "outputId": "aa528c6b-637f-461b-e259-c25ffad5b92d"
      },
      "source": [
        "y = mansf(p, m, neighborhoods)"
      ],
      "execution_count": 51,
      "outputs": [
        {
          "output_type": "stream",
          "text": [
            "tensor([[ 0.0281, -0.0294,  0.0129, -0.0423, -0.0087, -0.0358, -0.0134,  0.0651,\n",
            "         -0.0558, -0.0388,  0.0100,  0.0291,  0.0628, -0.0675,  0.0131,  0.0747,\n",
            "          0.0790,  0.0087, -0.0190, -0.0334, -0.0007, -0.0370, -0.0163, -0.0152,\n",
            "         -0.0352, -0.0133, -0.1151,  0.0095,  0.0727,  0.0009,  0.0278, -0.0074,\n",
            "          0.0281, -0.0294,  0.0129, -0.0423, -0.0087, -0.0358, -0.0134,  0.0651,\n",
            "         -0.0558, -0.0388,  0.0100,  0.0291,  0.0628, -0.0675,  0.0131,  0.0747,\n",
            "          0.0790,  0.0087, -0.0190, -0.0334, -0.0007, -0.0370, -0.0163, -0.0152,\n",
            "         -0.0352, -0.0133, -0.1151,  0.0095,  0.0727,  0.0009,  0.0278, -0.0074],\n",
            "        [ 0.0281, -0.0294,  0.0129, -0.0423, -0.0087, -0.0358, -0.0134,  0.0651,\n",
            "         -0.0558, -0.0388,  0.0100,  0.0291,  0.0628, -0.0675,  0.0131,  0.0747,\n",
            "          0.0790,  0.0087, -0.0190, -0.0334, -0.0007, -0.0370, -0.0163, -0.0152,\n",
            "         -0.0352, -0.0133, -0.1151,  0.0095,  0.0727,  0.0009,  0.0278, -0.0074,\n",
            "          0.0207, -0.0220,  0.0080, -0.0506,  0.0077, -0.0121,  0.0029,  0.0640,\n",
            "         -0.0197, -0.0467, -0.0085,  0.0265,  0.0459, -0.0514,  0.0138,  0.0693,\n",
            "          0.0687, -0.0078, -0.0062, -0.0219, -0.0017, -0.0285,  0.0203, -0.0124,\n",
            "         -0.0497, -0.0149, -0.0954,  0.0091,  0.0508,  0.0116,  0.0263, -0.0145]],\n",
            "       grad_fn=<CatBackward>)\n",
            "tensor([[ 0.0207, -0.0220,  0.0080, -0.0506,  0.0077, -0.0121,  0.0029,  0.0640,\n",
            "         -0.0197, -0.0467, -0.0085,  0.0265,  0.0459, -0.0514,  0.0138,  0.0693,\n",
            "          0.0687, -0.0078, -0.0062, -0.0219, -0.0017, -0.0285,  0.0203, -0.0124,\n",
            "         -0.0497, -0.0149, -0.0954,  0.0091,  0.0508,  0.0116,  0.0263, -0.0145,\n",
            "          0.0281, -0.0294,  0.0129, -0.0423, -0.0087, -0.0358, -0.0134,  0.0651,\n",
            "         -0.0558, -0.0388,  0.0100,  0.0291,  0.0628, -0.0675,  0.0131,  0.0747,\n",
            "          0.0790,  0.0087, -0.0190, -0.0334, -0.0007, -0.0370, -0.0163, -0.0152,\n",
            "         -0.0352, -0.0133, -0.1151,  0.0095,  0.0727,  0.0009,  0.0278, -0.0074],\n",
            "        [ 0.0207, -0.0220,  0.0080, -0.0506,  0.0077, -0.0121,  0.0029,  0.0640,\n",
            "         -0.0197, -0.0467, -0.0085,  0.0265,  0.0459, -0.0514,  0.0138,  0.0693,\n",
            "          0.0687, -0.0078, -0.0062, -0.0219, -0.0017, -0.0285,  0.0203, -0.0124,\n",
            "         -0.0497, -0.0149, -0.0954,  0.0091,  0.0508,  0.0116,  0.0263, -0.0145,\n",
            "          0.0207, -0.0220,  0.0080, -0.0506,  0.0077, -0.0121,  0.0029,  0.0640,\n",
            "         -0.0197, -0.0467, -0.0085,  0.0265,  0.0459, -0.0514,  0.0138,  0.0693,\n",
            "          0.0687, -0.0078, -0.0062, -0.0219, -0.0017, -0.0285,  0.0203, -0.0124,\n",
            "         -0.0497, -0.0149, -0.0954,  0.0091,  0.0508,  0.0116,  0.0263, -0.0145]],\n",
            "       grad_fn=<CatBackward>)\n",
            "tensor([[-0.0623, -0.0505,  0.0796, -0.0428,  0.0269, -0.0376, -0.0947,  0.0419,\n",
            "          0.0657, -0.1203,  0.0241, -0.0915, -0.0419,  0.0600, -0.0188, -0.0529,\n",
            "          0.0273,  0.0353, -0.0337, -0.0507,  0.0170, -0.0603,  0.0399,  0.0867,\n",
            "         -0.0352,  0.0264,  0.0375,  0.0513, -0.0054,  0.0430,  0.0510, -0.0501,\n",
            "         -0.0623, -0.0505,  0.0796, -0.0428,  0.0269, -0.0376, -0.0947,  0.0419,\n",
            "          0.0657, -0.1203,  0.0241, -0.0915, -0.0419,  0.0600, -0.0188, -0.0529,\n",
            "          0.0273,  0.0353, -0.0337, -0.0507,  0.0170, -0.0603,  0.0399,  0.0867,\n",
            "         -0.0352,  0.0264,  0.0375,  0.0513, -0.0054,  0.0430,  0.0510, -0.0501],\n",
            "        [-0.0623, -0.0505,  0.0796, -0.0428,  0.0269, -0.0376, -0.0947,  0.0419,\n",
            "          0.0657, -0.1203,  0.0241, -0.0915, -0.0419,  0.0600, -0.0188, -0.0529,\n",
            "          0.0273,  0.0353, -0.0337, -0.0507,  0.0170, -0.0603,  0.0399,  0.0867,\n",
            "         -0.0352,  0.0264,  0.0375,  0.0513, -0.0054,  0.0430,  0.0510, -0.0501,\n",
            "         -0.0468, -0.0368,  0.0516,  0.0081,  0.0214, -0.0120, -0.0766,  0.0069,\n",
            "          0.0341, -0.0512,  0.0053, -0.0823, -0.0345,  0.0391, -0.0180, -0.0168,\n",
            "          0.0088,  0.0599, -0.0082, -0.0647,  0.0431, -0.0400,  0.0517,  0.0711,\n",
            "         -0.0197,  0.0360, -0.0045,  0.0333, -0.0234,  0.0004,  0.0561, -0.0440]],\n",
            "       grad_fn=<CatBackward>)\n",
            "tensor([[-0.0468, -0.0368,  0.0516,  0.0081,  0.0214, -0.0120, -0.0766,  0.0069,\n",
            "          0.0341, -0.0512,  0.0053, -0.0823, -0.0345,  0.0391, -0.0180, -0.0168,\n",
            "          0.0088,  0.0599, -0.0082, -0.0647,  0.0431, -0.0400,  0.0517,  0.0711,\n",
            "         -0.0197,  0.0360, -0.0045,  0.0333, -0.0234,  0.0004,  0.0561, -0.0440,\n",
            "         -0.0623, -0.0505,  0.0796, -0.0428,  0.0269, -0.0376, -0.0947,  0.0419,\n",
            "          0.0657, -0.1203,  0.0241, -0.0915, -0.0419,  0.0600, -0.0188, -0.0529,\n",
            "          0.0273,  0.0353, -0.0337, -0.0507,  0.0170, -0.0603,  0.0399,  0.0867,\n",
            "         -0.0352,  0.0264,  0.0375,  0.0513, -0.0054,  0.0430,  0.0510, -0.0501],\n",
            "        [-0.0468, -0.0368,  0.0516,  0.0081,  0.0214, -0.0120, -0.0766,  0.0069,\n",
            "          0.0341, -0.0512,  0.0053, -0.0823, -0.0345,  0.0391, -0.0180, -0.0168,\n",
            "          0.0088,  0.0599, -0.0082, -0.0647,  0.0431, -0.0400,  0.0517,  0.0711,\n",
            "         -0.0197,  0.0360, -0.0045,  0.0333, -0.0234,  0.0004,  0.0561, -0.0440,\n",
            "         -0.0468, -0.0368,  0.0516,  0.0081,  0.0214, -0.0120, -0.0766,  0.0069,\n",
            "          0.0341, -0.0512,  0.0053, -0.0823, -0.0345,  0.0391, -0.0180, -0.0168,\n",
            "          0.0088,  0.0599, -0.0082, -0.0647,  0.0431, -0.0400,  0.0517,  0.0711,\n",
            "         -0.0197,  0.0360, -0.0045,  0.0333, -0.0234,  0.0004,  0.0561, -0.0440]],\n",
            "       grad_fn=<CatBackward>)\n",
            "tensor([[ 0.0541,  0.0485, -0.0461,  0.0810,  0.0344, -0.0400,  0.0556, -0.0484,\n",
            "         -0.0481,  0.0011, -0.0680,  0.0220, -0.0261,  0.0876, -0.0857, -0.0263,\n",
            "          0.0064,  0.1164,  0.0236,  0.0064,  0.0607, -0.0167, -0.0402,  0.0395,\n",
            "         -0.0015,  0.0016,  0.1058, -0.0855, -0.0669,  0.0164, -0.0839, -0.0193,\n",
            "          0.0541,  0.0485, -0.0461,  0.0810,  0.0344, -0.0400,  0.0556, -0.0484,\n",
            "         -0.0481,  0.0011, -0.0680,  0.0220, -0.0261,  0.0876, -0.0857, -0.0263,\n",
            "          0.0064,  0.1164,  0.0236,  0.0064,  0.0607, -0.0167, -0.0402,  0.0395,\n",
            "         -0.0015,  0.0016,  0.1058, -0.0855, -0.0669,  0.0164, -0.0839, -0.0193],\n",
            "        [ 0.0541,  0.0485, -0.0461,  0.0810,  0.0344, -0.0400,  0.0556, -0.0484,\n",
            "         -0.0481,  0.0011, -0.0680,  0.0220, -0.0261,  0.0876, -0.0857, -0.0263,\n",
            "          0.0064,  0.1164,  0.0236,  0.0064,  0.0607, -0.0167, -0.0402,  0.0395,\n",
            "         -0.0015,  0.0016,  0.1058, -0.0855, -0.0669,  0.0164, -0.0839, -0.0193,\n",
            "          0.0628,  0.0133, -0.0479,  0.0814,  0.0226, -0.0432,  0.0520, -0.0331,\n",
            "         -0.0366,  0.0216, -0.0397,  0.0081, -0.0155,  0.0873, -0.0495, -0.0135,\n",
            "          0.0156,  0.1127,  0.0084, -0.0103,  0.0433, -0.0013,  0.0006,  0.0145,\n",
            "         -0.0323, -0.0260,  0.0705, -0.0656, -0.0514,  0.0038, -0.0598, -0.0255]],\n",
            "       grad_fn=<CatBackward>)\n",
            "tensor([[ 0.0628,  0.0133, -0.0479,  0.0814,  0.0226, -0.0432,  0.0520, -0.0331,\n",
            "         -0.0366,  0.0216, -0.0397,  0.0081, -0.0155,  0.0873, -0.0495, -0.0135,\n",
            "          0.0156,  0.1127,  0.0084, -0.0103,  0.0433, -0.0013,  0.0006,  0.0145,\n",
            "         -0.0323, -0.0260,  0.0705, -0.0656, -0.0514,  0.0038, -0.0598, -0.0255,\n",
            "          0.0541,  0.0485, -0.0461,  0.0810,  0.0344, -0.0400,  0.0556, -0.0484,\n",
            "         -0.0481,  0.0011, -0.0680,  0.0220, -0.0261,  0.0876, -0.0857, -0.0263,\n",
            "          0.0064,  0.1164,  0.0236,  0.0064,  0.0607, -0.0167, -0.0402,  0.0395,\n",
            "         -0.0015,  0.0016,  0.1058, -0.0855, -0.0669,  0.0164, -0.0839, -0.0193],\n",
            "        [ 0.0628,  0.0133, -0.0479,  0.0814,  0.0226, -0.0432,  0.0520, -0.0331,\n",
            "         -0.0366,  0.0216, -0.0397,  0.0081, -0.0155,  0.0873, -0.0495, -0.0135,\n",
            "          0.0156,  0.1127,  0.0084, -0.0103,  0.0433, -0.0013,  0.0006,  0.0145,\n",
            "         -0.0323, -0.0260,  0.0705, -0.0656, -0.0514,  0.0038, -0.0598, -0.0255,\n",
            "          0.0628,  0.0133, -0.0479,  0.0814,  0.0226, -0.0432,  0.0520, -0.0331,\n",
            "         -0.0366,  0.0216, -0.0397,  0.0081, -0.0155,  0.0873, -0.0495, -0.0135,\n",
            "          0.0156,  0.1127,  0.0084, -0.0103,  0.0433, -0.0013,  0.0006,  0.0145,\n",
            "         -0.0323, -0.0260,  0.0705, -0.0656, -0.0514,  0.0038, -0.0598, -0.0255]],\n",
            "       grad_fn=<CatBackward>)\n",
            "tensor([[-4.9785e-02,  5.7147e-02, -8.1615e-04, -1.0425e-02,  7.8451e-02,\n",
            "          5.3520e-04, -4.9742e-02,  1.0058e-01, -1.4063e-02,  1.3313e-02,\n",
            "         -3.5240e-02,  8.2965e-02,  2.0396e-03,  2.3581e-02, -2.9657e-02,\n",
            "         -5.3033e-02,  4.9108e-02,  2.0559e-02, -6.6045e-02,  6.3724e-02,\n",
            "          4.7925e-02, -1.8686e-02,  3.6951e-02,  5.2806e-02,  2.2476e-02,\n",
            "          1.5882e-04,  6.4256e-03, -3.1905e-02,  1.1747e-02, -1.6784e-02,\n",
            "          1.3931e-01, -2.2025e-03, -4.9785e-02,  5.7147e-02, -8.1615e-04,\n",
            "         -1.0425e-02,  7.8451e-02,  5.3520e-04, -4.9742e-02,  1.0058e-01,\n",
            "         -1.4063e-02,  1.3313e-02, -3.5240e-02,  8.2965e-02,  2.0396e-03,\n",
            "          2.3581e-02, -2.9657e-02, -5.3033e-02,  4.9108e-02,  2.0559e-02,\n",
            "         -6.6045e-02,  6.3724e-02,  4.7925e-02, -1.8686e-02,  3.6951e-02,\n",
            "          5.2806e-02,  2.2476e-02,  1.5882e-04,  6.4256e-03, -3.1905e-02,\n",
            "          1.1747e-02, -1.6784e-02,  1.3931e-01, -2.2025e-03],\n",
            "        [-4.9785e-02,  5.7147e-02, -8.1615e-04, -1.0425e-02,  7.8451e-02,\n",
            "          5.3520e-04, -4.9742e-02,  1.0058e-01, -1.4063e-02,  1.3313e-02,\n",
            "         -3.5240e-02,  8.2965e-02,  2.0396e-03,  2.3581e-02, -2.9657e-02,\n",
            "         -5.3033e-02,  4.9108e-02,  2.0559e-02, -6.6045e-02,  6.3724e-02,\n",
            "          4.7925e-02, -1.8686e-02,  3.6951e-02,  5.2806e-02,  2.2476e-02,\n",
            "          1.5882e-04,  6.4256e-03, -3.1905e-02,  1.1747e-02, -1.6784e-02,\n",
            "          1.3931e-01, -2.2025e-03, -7.3453e-02,  1.9566e-02, -1.6206e-02,\n",
            "         -1.6237e-02,  5.8931e-02, -2.7244e-02, -3.1392e-02,  7.7579e-02,\n",
            "         -7.5422e-03,  1.5274e-02,  6.0347e-03,  7.5770e-02, -2.7576e-02,\n",
            "          4.4574e-02, -2.6298e-02, -5.2561e-02,  4.5590e-02,  3.1317e-02,\n",
            "         -6.2722e-02,  3.6926e-02,  2.6197e-02, -1.5941e-03,  4.4155e-02,\n",
            "          4.3091e-02,  3.5681e-02,  1.1184e-04, -2.8033e-02,  7.0876e-03,\n",
            "         -1.5486e-02, -1.7291e-02,  1.2201e-01, -3.1800e-03]],\n",
            "       grad_fn=<CatBackward>)\n",
            "tensor([[-7.3453e-02,  1.9566e-02, -1.6206e-02, -1.6237e-02,  5.8931e-02,\n",
            "         -2.7244e-02, -3.1392e-02,  7.7579e-02, -7.5422e-03,  1.5274e-02,\n",
            "          6.0347e-03,  7.5770e-02, -2.7576e-02,  4.4574e-02, -2.6298e-02,\n",
            "         -5.2561e-02,  4.5590e-02,  3.1317e-02, -6.2722e-02,  3.6926e-02,\n",
            "          2.6197e-02, -1.5941e-03,  4.4155e-02,  4.3091e-02,  3.5681e-02,\n",
            "          1.1184e-04, -2.8033e-02,  7.0876e-03, -1.5486e-02, -1.7291e-02,\n",
            "          1.2201e-01, -3.1800e-03, -4.9785e-02,  5.7147e-02, -8.1615e-04,\n",
            "         -1.0425e-02,  7.8451e-02,  5.3520e-04, -4.9742e-02,  1.0058e-01,\n",
            "         -1.4063e-02,  1.3313e-02, -3.5240e-02,  8.2965e-02,  2.0396e-03,\n",
            "          2.3581e-02, -2.9657e-02, -5.3033e-02,  4.9108e-02,  2.0559e-02,\n",
            "         -6.6045e-02,  6.3724e-02,  4.7925e-02, -1.8686e-02,  3.6951e-02,\n",
            "          5.2806e-02,  2.2476e-02,  1.5882e-04,  6.4256e-03, -3.1905e-02,\n",
            "          1.1747e-02, -1.6784e-02,  1.3931e-01, -2.2025e-03],\n",
            "        [-7.3453e-02,  1.9566e-02, -1.6206e-02, -1.6237e-02,  5.8931e-02,\n",
            "         -2.7244e-02, -3.1392e-02,  7.7579e-02, -7.5422e-03,  1.5274e-02,\n",
            "          6.0347e-03,  7.5770e-02, -2.7576e-02,  4.4574e-02, -2.6298e-02,\n",
            "         -5.2561e-02,  4.5590e-02,  3.1317e-02, -6.2722e-02,  3.6926e-02,\n",
            "          2.6197e-02, -1.5941e-03,  4.4155e-02,  4.3091e-02,  3.5681e-02,\n",
            "          1.1184e-04, -2.8033e-02,  7.0876e-03, -1.5486e-02, -1.7291e-02,\n",
            "          1.2201e-01, -3.1800e-03, -7.3453e-02,  1.9566e-02, -1.6206e-02,\n",
            "         -1.6237e-02,  5.8931e-02, -2.7244e-02, -3.1392e-02,  7.7579e-02,\n",
            "         -7.5422e-03,  1.5274e-02,  6.0347e-03,  7.5770e-02, -2.7576e-02,\n",
            "          4.4574e-02, -2.6298e-02, -5.2561e-02,  4.5590e-02,  3.1317e-02,\n",
            "         -6.2722e-02,  3.6926e-02,  2.6197e-02, -1.5941e-03,  4.4155e-02,\n",
            "          4.3091e-02,  3.5681e-02,  1.1184e-04, -2.8033e-02,  7.0876e-03,\n",
            "         -1.5486e-02, -1.7291e-02,  1.2201e-01, -3.1800e-03]],\n",
            "       grad_fn=<CatBackward>)\n",
            "tensor([[-5.1522e-02,  1.9076e-02, -6.8341e-02,  4.8698e-02,  1.8644e-03,\n",
            "         -7.2410e-03, -9.0504e-02, -2.6903e-02, -9.2754e-04, -5.6480e-02,\n",
            "          7.6515e-03, -6.7437e-02,  3.4715e-02, -1.8922e-02, -5.9099e-02,\n",
            "         -5.0264e-02, -6.5261e-02,  1.1236e-02,  6.9420e-05,  1.8968e-02,\n",
            "         -4.8337e-02,  5.1250e-02,  3.4985e-02,  5.6316e-02,  1.2682e-02,\n",
            "          2.0382e-02,  3.3376e-02, -2.0776e-02, -1.2554e-02, -3.8009e-02,\n",
            "          4.1425e-02,  3.6999e-02, -5.1522e-02,  1.9076e-02, -6.8341e-02,\n",
            "          4.8698e-02,  1.8644e-03, -7.2410e-03, -9.0504e-02, -2.6903e-02,\n",
            "         -9.2754e-04, -5.6480e-02,  7.6515e-03, -6.7437e-02,  3.4715e-02,\n",
            "         -1.8922e-02, -5.9099e-02, -5.0264e-02, -6.5261e-02,  1.1236e-02,\n",
            "          6.9420e-05,  1.8968e-02, -4.8337e-02,  5.1250e-02,  3.4985e-02,\n",
            "          5.6316e-02,  1.2682e-02,  2.0382e-02,  3.3376e-02, -2.0776e-02,\n",
            "         -1.2554e-02, -3.8009e-02,  4.1425e-02,  3.6999e-02],\n",
            "        [-5.1522e-02,  1.9076e-02, -6.8341e-02,  4.8698e-02,  1.8644e-03,\n",
            "         -7.2410e-03, -9.0504e-02, -2.6903e-02, -9.2754e-04, -5.6480e-02,\n",
            "          7.6515e-03, -6.7437e-02,  3.4715e-02, -1.8922e-02, -5.9099e-02,\n",
            "         -5.0264e-02, -6.5261e-02,  1.1236e-02,  6.9420e-05,  1.8968e-02,\n",
            "         -4.8337e-02,  5.1250e-02,  3.4985e-02,  5.6316e-02,  1.2682e-02,\n",
            "          2.0382e-02,  3.3376e-02, -2.0776e-02, -1.2554e-02, -3.8009e-02,\n",
            "          4.1425e-02,  3.6999e-02, -4.7454e-02,  1.5023e-02, -5.2489e-02,\n",
            "          6.4448e-02, -2.7033e-03, -2.8714e-02, -3.9035e-02, -3.8373e-02,\n",
            "          1.4800e-02, -8.0716e-02,  1.4666e-02, -7.9582e-02,  2.5443e-02,\n",
            "          4.2493e-03, -3.8896e-02, -6.3897e-02, -3.3499e-02, -3.2011e-03,\n",
            "          2.3273e-02, -8.7380e-03, -4.0860e-02,  5.5055e-02,  4.6469e-02,\n",
            "          2.8587e-02,  2.8159e-02,  7.8501e-03,  2.5964e-02, -3.9154e-02,\n",
            "         -1.0774e-02, -2.3844e-02, -8.0500e-03,  5.2973e-02]],\n",
            "       grad_fn=<CatBackward>)\n",
            "tensor([[-4.7454e-02,  1.5023e-02, -5.2489e-02,  6.4448e-02, -2.7033e-03,\n",
            "         -2.8714e-02, -3.9035e-02, -3.8373e-02,  1.4800e-02, -8.0716e-02,\n",
            "          1.4666e-02, -7.9582e-02,  2.5443e-02,  4.2493e-03, -3.8896e-02,\n",
            "         -6.3897e-02, -3.3499e-02, -3.2011e-03,  2.3273e-02, -8.7380e-03,\n",
            "         -4.0860e-02,  5.5055e-02,  4.6469e-02,  2.8587e-02,  2.8159e-02,\n",
            "          7.8501e-03,  2.5964e-02, -3.9154e-02, -1.0774e-02, -2.3844e-02,\n",
            "         -8.0500e-03,  5.2973e-02, -5.1522e-02,  1.9076e-02, -6.8341e-02,\n",
            "          4.8698e-02,  1.8644e-03, -7.2410e-03, -9.0504e-02, -2.6903e-02,\n",
            "         -9.2754e-04, -5.6480e-02,  7.6515e-03, -6.7437e-02,  3.4715e-02,\n",
            "         -1.8922e-02, -5.9099e-02, -5.0264e-02, -6.5261e-02,  1.1236e-02,\n",
            "          6.9420e-05,  1.8968e-02, -4.8337e-02,  5.1250e-02,  3.4985e-02,\n",
            "          5.6316e-02,  1.2682e-02,  2.0382e-02,  3.3376e-02, -2.0776e-02,\n",
            "         -1.2554e-02, -3.8009e-02,  4.1425e-02,  3.6999e-02],\n",
            "        [-4.7454e-02,  1.5023e-02, -5.2489e-02,  6.4448e-02, -2.7033e-03,\n",
            "         -2.8714e-02, -3.9035e-02, -3.8373e-02,  1.4800e-02, -8.0716e-02,\n",
            "          1.4666e-02, -7.9582e-02,  2.5443e-02,  4.2493e-03, -3.8896e-02,\n",
            "         -6.3897e-02, -3.3499e-02, -3.2011e-03,  2.3273e-02, -8.7380e-03,\n",
            "         -4.0860e-02,  5.5055e-02,  4.6469e-02,  2.8587e-02,  2.8159e-02,\n",
            "          7.8501e-03,  2.5964e-02, -3.9154e-02, -1.0774e-02, -2.3844e-02,\n",
            "         -8.0500e-03,  5.2973e-02, -4.7454e-02,  1.5023e-02, -5.2489e-02,\n",
            "          6.4448e-02, -2.7033e-03, -2.8714e-02, -3.9035e-02, -3.8373e-02,\n",
            "          1.4800e-02, -8.0716e-02,  1.4666e-02, -7.9582e-02,  2.5443e-02,\n",
            "          4.2493e-03, -3.8896e-02, -6.3897e-02, -3.3499e-02, -3.2011e-03,\n",
            "          2.3273e-02, -8.7380e-03, -4.0860e-02,  5.5055e-02,  4.6469e-02,\n",
            "          2.8587e-02,  2.8159e-02,  7.8501e-03,  2.5964e-02, -3.9154e-02,\n",
            "         -1.0774e-02, -2.3844e-02, -8.0500e-03,  5.2973e-02]],\n",
            "       grad_fn=<CatBackward>)\n",
            "tensor([[-0.0134,  0.0119, -0.0431, -0.0186, -0.0468,  0.0476,  0.0084, -0.0183,\n",
            "          0.0784,  0.0585, -0.0623, -0.0306, -0.0215,  0.0028,  0.0849,  0.0100,\n",
            "         -0.0277, -0.0437,  0.0580,  0.0237,  0.0048,  0.0193,  0.0531,  0.0401,\n",
            "          0.0367, -0.0302,  0.0801, -0.0722, -0.0338,  0.0111,  0.0810,  0.0484,\n",
            "         -0.0134,  0.0119, -0.0431, -0.0186, -0.0468,  0.0476,  0.0084, -0.0183,\n",
            "          0.0784,  0.0585, -0.0623, -0.0306, -0.0215,  0.0028,  0.0849,  0.0100,\n",
            "         -0.0277, -0.0437,  0.0580,  0.0237,  0.0048,  0.0193,  0.0531,  0.0401,\n",
            "          0.0367, -0.0302,  0.0801, -0.0722, -0.0338,  0.0111,  0.0810,  0.0484],\n",
            "        [-0.0134,  0.0119, -0.0431, -0.0186, -0.0468,  0.0476,  0.0084, -0.0183,\n",
            "          0.0784,  0.0585, -0.0623, -0.0306, -0.0215,  0.0028,  0.0849,  0.0100,\n",
            "         -0.0277, -0.0437,  0.0580,  0.0237,  0.0048,  0.0193,  0.0531,  0.0401,\n",
            "          0.0367, -0.0302,  0.0801, -0.0722, -0.0338,  0.0111,  0.0810,  0.0484,\n",
            "         -0.0033,  0.0106, -0.0231, -0.0068, -0.0083,  0.0247,  0.0013, -0.0108,\n",
            "          0.0490,  0.0163, -0.0666, -0.0367, -0.0158, -0.0179,  0.0761, -0.0121,\n",
            "         -0.0093, -0.0363,  0.0295,  0.0055,  0.0104,  0.0085,  0.0611,  0.0221,\n",
            "          0.0613, -0.0085,  0.0613, -0.0654,  0.0005, -0.0084,  0.0407,  0.0269]],\n",
            "       grad_fn=<CatBackward>)\n",
            "tensor([[-0.0033,  0.0106, -0.0231, -0.0068, -0.0083,  0.0247,  0.0013, -0.0108,\n",
            "          0.0490,  0.0163, -0.0666, -0.0367, -0.0158, -0.0179,  0.0761, -0.0121,\n",
            "         -0.0093, -0.0363,  0.0295,  0.0055,  0.0104,  0.0085,  0.0611,  0.0221,\n",
            "          0.0613, -0.0085,  0.0613, -0.0654,  0.0005, -0.0084,  0.0407,  0.0269,\n",
            "         -0.0134,  0.0119, -0.0431, -0.0186, -0.0468,  0.0476,  0.0084, -0.0183,\n",
            "          0.0784,  0.0585, -0.0623, -0.0306, -0.0215,  0.0028,  0.0849,  0.0100,\n",
            "         -0.0277, -0.0437,  0.0580,  0.0237,  0.0048,  0.0193,  0.0531,  0.0401,\n",
            "          0.0367, -0.0302,  0.0801, -0.0722, -0.0338,  0.0111,  0.0810,  0.0484],\n",
            "        [-0.0033,  0.0106, -0.0231, -0.0068, -0.0083,  0.0247,  0.0013, -0.0108,\n",
            "          0.0490,  0.0163, -0.0666, -0.0367, -0.0158, -0.0179,  0.0761, -0.0121,\n",
            "         -0.0093, -0.0363,  0.0295,  0.0055,  0.0104,  0.0085,  0.0611,  0.0221,\n",
            "          0.0613, -0.0085,  0.0613, -0.0654,  0.0005, -0.0084,  0.0407,  0.0269,\n",
            "         -0.0033,  0.0106, -0.0231, -0.0068, -0.0083,  0.0247,  0.0013, -0.0108,\n",
            "          0.0490,  0.0163, -0.0666, -0.0367, -0.0158, -0.0179,  0.0761, -0.0121,\n",
            "         -0.0093, -0.0363,  0.0295,  0.0055,  0.0104,  0.0085,  0.0611,  0.0221,\n",
            "          0.0613, -0.0085,  0.0613, -0.0654,  0.0005, -0.0084,  0.0407,  0.0269]],\n",
            "       grad_fn=<CatBackward>)\n",
            "tensor([[ 0.0645,  0.0033,  0.0098,  0.0097,  0.0416, -0.0612, -0.0342, -0.0122,\n",
            "         -0.0022,  0.0283,  0.0100,  0.0215,  0.0893,  0.0679,  0.0167,  0.0408,\n",
            "          0.0200, -0.0177, -0.0737,  0.0617, -0.0144,  0.0115, -0.0171, -0.0166,\n",
            "         -0.0367, -0.0416,  0.1138, -0.0301, -0.0379, -0.0262,  0.0048, -0.0459,\n",
            "          0.0645,  0.0033,  0.0098,  0.0097,  0.0416, -0.0612, -0.0342, -0.0122,\n",
            "         -0.0022,  0.0283,  0.0100,  0.0215,  0.0893,  0.0679,  0.0167,  0.0408,\n",
            "          0.0200, -0.0177, -0.0737,  0.0617, -0.0144,  0.0115, -0.0171, -0.0166,\n",
            "         -0.0367, -0.0416,  0.1138, -0.0301, -0.0379, -0.0262,  0.0048, -0.0459],\n",
            "        [ 0.0645,  0.0033,  0.0098,  0.0097,  0.0416, -0.0612, -0.0342, -0.0122,\n",
            "         -0.0022,  0.0283,  0.0100,  0.0215,  0.0893,  0.0679,  0.0167,  0.0408,\n",
            "          0.0200, -0.0177, -0.0737,  0.0617, -0.0144,  0.0115, -0.0171, -0.0166,\n",
            "         -0.0367, -0.0416,  0.1138, -0.0301, -0.0379, -0.0262,  0.0048, -0.0459,\n",
            "          0.0369, -0.0236,  0.0088,  0.0023,  0.0285, -0.0344, -0.0502, -0.0229,\n",
            "          0.0164,  0.0210,  0.0063,  0.0261,  0.0930,  0.0803, -0.0095,  0.0310,\n",
            "         -0.0043, -0.0125, -0.0772,  0.0217,  0.0150, -0.0126,  0.0047, -0.0163,\n",
            "         -0.0155, -0.0293,  0.0515,  0.0072, -0.0398,  0.0040,  0.0123, -0.0064]],\n",
            "       grad_fn=<CatBackward>)\n",
            "tensor([[ 0.0369, -0.0236,  0.0088,  0.0023,  0.0285, -0.0344, -0.0502, -0.0229,\n",
            "          0.0164,  0.0210,  0.0063,  0.0261,  0.0930,  0.0803, -0.0095,  0.0310,\n",
            "         -0.0043, -0.0125, -0.0772,  0.0217,  0.0150, -0.0126,  0.0047, -0.0163,\n",
            "         -0.0155, -0.0293,  0.0515,  0.0072, -0.0398,  0.0040,  0.0123, -0.0064,\n",
            "          0.0645,  0.0033,  0.0098,  0.0097,  0.0416, -0.0612, -0.0342, -0.0122,\n",
            "         -0.0022,  0.0283,  0.0100,  0.0215,  0.0893,  0.0679,  0.0167,  0.0408,\n",
            "          0.0200, -0.0177, -0.0737,  0.0617, -0.0144,  0.0115, -0.0171, -0.0166,\n",
            "         -0.0367, -0.0416,  0.1138, -0.0301, -0.0379, -0.0262,  0.0048, -0.0459],\n",
            "        [ 0.0369, -0.0236,  0.0088,  0.0023,  0.0285, -0.0344, -0.0502, -0.0229,\n",
            "          0.0164,  0.0210,  0.0063,  0.0261,  0.0930,  0.0803, -0.0095,  0.0310,\n",
            "         -0.0043, -0.0125, -0.0772,  0.0217,  0.0150, -0.0126,  0.0047, -0.0163,\n",
            "         -0.0155, -0.0293,  0.0515,  0.0072, -0.0398,  0.0040,  0.0123, -0.0064,\n",
            "          0.0369, -0.0236,  0.0088,  0.0023,  0.0285, -0.0344, -0.0502, -0.0229,\n",
            "          0.0164,  0.0210,  0.0063,  0.0261,  0.0930,  0.0803, -0.0095,  0.0310,\n",
            "         -0.0043, -0.0125, -0.0772,  0.0217,  0.0150, -0.0126,  0.0047, -0.0163,\n",
            "         -0.0155, -0.0293,  0.0515,  0.0072, -0.0398,  0.0040,  0.0123, -0.0064]],\n",
            "       grad_fn=<CatBackward>)\n",
            "tensor([[ 0.0448, -0.0476, -0.0165, -0.0271,  0.0532, -0.0592,  0.0284,  0.0657,\n",
            "          0.0884,  0.0540,  0.0292, -0.0706,  0.0152, -0.0495, -0.0406, -0.0290,\n",
            "         -0.0717, -0.0242, -0.0872,  0.0080, -0.0256,  0.0041,  0.0795,  0.0003,\n",
            "         -0.0344, -0.0320,  0.0467,  0.0196,  0.0066,  0.0194,  0.0554, -0.0261,\n",
            "          0.0448, -0.0476, -0.0165, -0.0271,  0.0532, -0.0592,  0.0284,  0.0657,\n",
            "          0.0884,  0.0540,  0.0292, -0.0706,  0.0152, -0.0495, -0.0406, -0.0290,\n",
            "         -0.0717, -0.0242, -0.0872,  0.0080, -0.0256,  0.0041,  0.0795,  0.0003,\n",
            "         -0.0344, -0.0320,  0.0467,  0.0196,  0.0066,  0.0194,  0.0554, -0.0261],\n",
            "        [ 0.0448, -0.0476, -0.0165, -0.0271,  0.0532, -0.0592,  0.0284,  0.0657,\n",
            "          0.0884,  0.0540,  0.0292, -0.0706,  0.0152, -0.0495, -0.0406, -0.0290,\n",
            "         -0.0717, -0.0242, -0.0872,  0.0080, -0.0256,  0.0041,  0.0795,  0.0003,\n",
            "         -0.0344, -0.0320,  0.0467,  0.0196,  0.0066,  0.0194,  0.0554, -0.0261,\n",
            "          0.0159, -0.0347, -0.0125, -0.0105,  0.0168, -0.0299,  0.0166,  0.0566,\n",
            "          0.0433,  0.0620,  0.0200, -0.0562,  0.0036, -0.0112, -0.0299, -0.0156,\n",
            "         -0.0405, -0.0419, -0.0723, -0.0111, -0.0184, -0.0126,  0.0623,  0.0049,\n",
            "         -0.0336, -0.0229,  0.0334,  0.0333,  0.0145,  0.0125,  0.0640, -0.0152]],\n",
            "       grad_fn=<CatBackward>)\n",
            "tensor([[ 0.0159, -0.0347, -0.0125, -0.0105,  0.0168, -0.0299,  0.0166,  0.0566,\n",
            "          0.0433,  0.0620,  0.0200, -0.0562,  0.0036, -0.0112, -0.0299, -0.0156,\n",
            "         -0.0405, -0.0419, -0.0723, -0.0111, -0.0184, -0.0126,  0.0623,  0.0049,\n",
            "         -0.0336, -0.0229,  0.0334,  0.0333,  0.0145,  0.0125,  0.0640, -0.0152,\n",
            "          0.0448, -0.0476, -0.0165, -0.0271,  0.0532, -0.0592,  0.0284,  0.0657,\n",
            "          0.0884,  0.0540,  0.0292, -0.0706,  0.0152, -0.0495, -0.0406, -0.0290,\n",
            "         -0.0717, -0.0242, -0.0872,  0.0080, -0.0256,  0.0041,  0.0795,  0.0003,\n",
            "         -0.0344, -0.0320,  0.0467,  0.0196,  0.0066,  0.0194,  0.0554, -0.0261],\n",
            "        [ 0.0159, -0.0347, -0.0125, -0.0105,  0.0168, -0.0299,  0.0166,  0.0566,\n",
            "          0.0433,  0.0620,  0.0200, -0.0562,  0.0036, -0.0112, -0.0299, -0.0156,\n",
            "         -0.0405, -0.0419, -0.0723, -0.0111, -0.0184, -0.0126,  0.0623,  0.0049,\n",
            "         -0.0336, -0.0229,  0.0334,  0.0333,  0.0145,  0.0125,  0.0640, -0.0152,\n",
            "          0.0159, -0.0347, -0.0125, -0.0105,  0.0168, -0.0299,  0.0166,  0.0566,\n",
            "          0.0433,  0.0620,  0.0200, -0.0562,  0.0036, -0.0112, -0.0299, -0.0156,\n",
            "         -0.0405, -0.0419, -0.0723, -0.0111, -0.0184, -0.0126,  0.0623,  0.0049,\n",
            "         -0.0336, -0.0229,  0.0334,  0.0333,  0.0145,  0.0125,  0.0640, -0.0152]],\n",
            "       grad_fn=<CatBackward>)\n",
            "tensor([[ 0.0703,  0.0319,  0.0208, -0.0434,  0.0380,  0.0363, -0.0611, -0.0416,\n",
            "         -0.0275, -0.0119,  0.0202, -0.0293,  0.0747, -0.0328, -0.0497,  0.0926,\n",
            "         -0.0189,  0.0474, -0.0041, -0.0745, -0.0180,  0.0026,  0.0037,  0.0886,\n",
            "          0.0339, -0.0878, -0.0208,  0.0442,  0.0024, -0.0608,  0.0014,  0.0123,\n",
            "          0.0703,  0.0319,  0.0208, -0.0434,  0.0380,  0.0363, -0.0611, -0.0416,\n",
            "         -0.0275, -0.0119,  0.0202, -0.0293,  0.0747, -0.0328, -0.0497,  0.0926,\n",
            "         -0.0189,  0.0474, -0.0041, -0.0745, -0.0180,  0.0026,  0.0037,  0.0886,\n",
            "          0.0339, -0.0878, -0.0208,  0.0442,  0.0024, -0.0608,  0.0014,  0.0123],\n",
            "        [ 0.0703,  0.0319,  0.0208, -0.0434,  0.0380,  0.0363, -0.0611, -0.0416,\n",
            "         -0.0275, -0.0119,  0.0202, -0.0293,  0.0747, -0.0328, -0.0497,  0.0926,\n",
            "         -0.0189,  0.0474, -0.0041, -0.0745, -0.0180,  0.0026,  0.0037,  0.0886,\n",
            "          0.0339, -0.0878, -0.0208,  0.0442,  0.0024, -0.0608,  0.0014,  0.0123,\n",
            "          0.0703,  0.0319,  0.0208, -0.0434,  0.0380,  0.0363, -0.0611, -0.0416,\n",
            "         -0.0275, -0.0119,  0.0202, -0.0293,  0.0747, -0.0328, -0.0497,  0.0926,\n",
            "         -0.0189,  0.0474, -0.0041, -0.0745, -0.0180,  0.0026,  0.0037,  0.0886,\n",
            "          0.0339, -0.0878, -0.0208,  0.0442,  0.0024, -0.0608,  0.0014,  0.0123]],\n",
            "       grad_fn=<CatBackward>)\n",
            "tensor([[ 0.0703,  0.0319,  0.0208, -0.0434,  0.0380,  0.0363, -0.0611, -0.0416,\n",
            "         -0.0275, -0.0119,  0.0202, -0.0293,  0.0747, -0.0328, -0.0497,  0.0926,\n",
            "         -0.0189,  0.0474, -0.0041, -0.0745, -0.0180,  0.0026,  0.0037,  0.0886,\n",
            "          0.0339, -0.0878, -0.0208,  0.0442,  0.0024, -0.0608,  0.0014,  0.0123,\n",
            "          0.0703,  0.0319,  0.0208, -0.0434,  0.0380,  0.0363, -0.0611, -0.0416,\n",
            "         -0.0275, -0.0119,  0.0202, -0.0293,  0.0747, -0.0328, -0.0497,  0.0926,\n",
            "         -0.0189,  0.0474, -0.0041, -0.0745, -0.0180,  0.0026,  0.0037,  0.0886,\n",
            "          0.0339, -0.0878, -0.0208,  0.0442,  0.0024, -0.0608,  0.0014,  0.0123],\n",
            "        [ 0.0703,  0.0319,  0.0208, -0.0434,  0.0380,  0.0363, -0.0611, -0.0416,\n",
            "         -0.0275, -0.0119,  0.0202, -0.0293,  0.0747, -0.0328, -0.0497,  0.0926,\n",
            "         -0.0189,  0.0474, -0.0041, -0.0745, -0.0180,  0.0026,  0.0037,  0.0886,\n",
            "          0.0339, -0.0878, -0.0208,  0.0442,  0.0024, -0.0608,  0.0014,  0.0123,\n",
            "          0.0703,  0.0319,  0.0208, -0.0434,  0.0380,  0.0363, -0.0611, -0.0416,\n",
            "         -0.0275, -0.0119,  0.0202, -0.0293,  0.0747, -0.0328, -0.0497,  0.0926,\n",
            "         -0.0189,  0.0474, -0.0041, -0.0745, -0.0180,  0.0026,  0.0037,  0.0886,\n",
            "          0.0339, -0.0878, -0.0208,  0.0442,  0.0024, -0.0608,  0.0014,  0.0123]],\n",
            "       grad_fn=<CatBackward>)\n",
            "tensor([[ 0.0671, -0.0095,  0.0692, -0.0454,  0.0322,  0.0339, -0.0007, -0.0187,\n",
            "         -0.0039, -0.0039,  0.0056,  0.0193,  0.0278,  0.0749,  0.0711,  0.0164,\n",
            "         -0.0841,  0.0508, -0.0625,  0.0080, -0.0752, -0.0216, -0.0290, -0.0348,\n",
            "         -0.0140,  0.0913, -0.0168,  0.0544,  0.0043, -0.0551,  0.0396, -0.0307,\n",
            "          0.0671, -0.0095,  0.0692, -0.0454,  0.0322,  0.0339, -0.0007, -0.0187,\n",
            "         -0.0039, -0.0039,  0.0056,  0.0193,  0.0278,  0.0749,  0.0711,  0.0164,\n",
            "         -0.0841,  0.0508, -0.0625,  0.0080, -0.0752, -0.0216, -0.0290, -0.0348,\n",
            "         -0.0140,  0.0913, -0.0168,  0.0544,  0.0043, -0.0551,  0.0396, -0.0307],\n",
            "        [ 0.0671, -0.0095,  0.0692, -0.0454,  0.0322,  0.0339, -0.0007, -0.0187,\n",
            "         -0.0039, -0.0039,  0.0056,  0.0193,  0.0278,  0.0749,  0.0711,  0.0164,\n",
            "         -0.0841,  0.0508, -0.0625,  0.0080, -0.0752, -0.0216, -0.0290, -0.0348,\n",
            "         -0.0140,  0.0913, -0.0168,  0.0544,  0.0043, -0.0551,  0.0396, -0.0307,\n",
            "          0.0671, -0.0095,  0.0692, -0.0454,  0.0322,  0.0339, -0.0007, -0.0187,\n",
            "         -0.0039, -0.0039,  0.0056,  0.0193,  0.0278,  0.0749,  0.0711,  0.0164,\n",
            "         -0.0841,  0.0508, -0.0625,  0.0080, -0.0752, -0.0216, -0.0290, -0.0348,\n",
            "         -0.0140,  0.0913, -0.0168,  0.0544,  0.0043, -0.0551,  0.0396, -0.0307]],\n",
            "       grad_fn=<CatBackward>)\n",
            "tensor([[ 0.0671, -0.0095,  0.0692, -0.0454,  0.0322,  0.0339, -0.0007, -0.0187,\n",
            "         -0.0039, -0.0039,  0.0056,  0.0193,  0.0278,  0.0749,  0.0711,  0.0164,\n",
            "         -0.0841,  0.0508, -0.0625,  0.0080, -0.0752, -0.0216, -0.0290, -0.0348,\n",
            "         -0.0140,  0.0913, -0.0168,  0.0544,  0.0043, -0.0551,  0.0396, -0.0307,\n",
            "          0.0671, -0.0095,  0.0692, -0.0454,  0.0322,  0.0339, -0.0007, -0.0187,\n",
            "         -0.0039, -0.0039,  0.0056,  0.0193,  0.0278,  0.0749,  0.0711,  0.0164,\n",
            "         -0.0841,  0.0508, -0.0625,  0.0080, -0.0752, -0.0216, -0.0290, -0.0348,\n",
            "         -0.0140,  0.0913, -0.0168,  0.0544,  0.0043, -0.0551,  0.0396, -0.0307],\n",
            "        [ 0.0671, -0.0095,  0.0692, -0.0454,  0.0322,  0.0339, -0.0007, -0.0187,\n",
            "         -0.0039, -0.0039,  0.0056,  0.0193,  0.0278,  0.0749,  0.0711,  0.0164,\n",
            "         -0.0841,  0.0508, -0.0625,  0.0080, -0.0752, -0.0216, -0.0290, -0.0348,\n",
            "         -0.0140,  0.0913, -0.0168,  0.0544,  0.0043, -0.0551,  0.0396, -0.0307,\n",
            "          0.0671, -0.0095,  0.0692, -0.0454,  0.0322,  0.0339, -0.0007, -0.0187,\n",
            "         -0.0039, -0.0039,  0.0056,  0.0193,  0.0278,  0.0749,  0.0711,  0.0164,\n",
            "         -0.0841,  0.0508, -0.0625,  0.0080, -0.0752, -0.0216, -0.0290, -0.0348,\n",
            "         -0.0140,  0.0913, -0.0168,  0.0544,  0.0043, -0.0551,  0.0396, -0.0307]],\n",
            "       grad_fn=<CatBackward>)\n",
            "tensor([[-0.0342,  0.0341,  0.0308,  0.0236, -0.0731, -0.0630, -0.1012,  0.0569,\n",
            "         -0.0258, -0.0579,  0.0248,  0.0148, -0.0977,  0.0013,  0.0426, -0.0683,\n",
            "         -0.0030,  0.0085, -0.0338,  0.0566,  0.0650,  0.0480,  0.0187, -0.0262,\n",
            "          0.0906,  0.0059,  0.0227,  0.0747,  0.0313, -0.0772, -0.0194,  0.0650,\n",
            "         -0.0342,  0.0341,  0.0308,  0.0236, -0.0731, -0.0630, -0.1012,  0.0569,\n",
            "         -0.0258, -0.0579,  0.0248,  0.0148, -0.0977,  0.0013,  0.0426, -0.0683,\n",
            "         -0.0030,  0.0085, -0.0338,  0.0566,  0.0650,  0.0480,  0.0187, -0.0262,\n",
            "          0.0906,  0.0059,  0.0227,  0.0747,  0.0313, -0.0772, -0.0194,  0.0650],\n",
            "        [-0.0342,  0.0341,  0.0308,  0.0236, -0.0731, -0.0630, -0.1012,  0.0569,\n",
            "         -0.0258, -0.0579,  0.0248,  0.0148, -0.0977,  0.0013,  0.0426, -0.0683,\n",
            "         -0.0030,  0.0085, -0.0338,  0.0566,  0.0650,  0.0480,  0.0187, -0.0262,\n",
            "          0.0906,  0.0059,  0.0227,  0.0747,  0.0313, -0.0772, -0.0194,  0.0650,\n",
            "         -0.0342,  0.0341,  0.0308,  0.0236, -0.0731, -0.0630, -0.1012,  0.0569,\n",
            "         -0.0258, -0.0579,  0.0248,  0.0148, -0.0977,  0.0013,  0.0426, -0.0683,\n",
            "         -0.0030,  0.0085, -0.0338,  0.0566,  0.0650,  0.0480,  0.0187, -0.0262,\n",
            "          0.0906,  0.0059,  0.0227,  0.0747,  0.0313, -0.0772, -0.0194,  0.0650]],\n",
            "       grad_fn=<CatBackward>)\n",
            "tensor([[-0.0342,  0.0341,  0.0308,  0.0236, -0.0731, -0.0630, -0.1012,  0.0569,\n",
            "         -0.0258, -0.0579,  0.0248,  0.0148, -0.0977,  0.0013,  0.0426, -0.0683,\n",
            "         -0.0030,  0.0085, -0.0338,  0.0566,  0.0650,  0.0480,  0.0187, -0.0262,\n",
            "          0.0906,  0.0059,  0.0227,  0.0747,  0.0313, -0.0772, -0.0194,  0.0650,\n",
            "         -0.0342,  0.0341,  0.0308,  0.0236, -0.0731, -0.0630, -0.1012,  0.0569,\n",
            "         -0.0258, -0.0579,  0.0248,  0.0148, -0.0977,  0.0013,  0.0426, -0.0683,\n",
            "         -0.0030,  0.0085, -0.0338,  0.0566,  0.0650,  0.0480,  0.0187, -0.0262,\n",
            "          0.0906,  0.0059,  0.0227,  0.0747,  0.0313, -0.0772, -0.0194,  0.0650],\n",
            "        [-0.0342,  0.0341,  0.0308,  0.0236, -0.0731, -0.0630, -0.1012,  0.0569,\n",
            "         -0.0258, -0.0579,  0.0248,  0.0148, -0.0977,  0.0013,  0.0426, -0.0683,\n",
            "         -0.0030,  0.0085, -0.0338,  0.0566,  0.0650,  0.0480,  0.0187, -0.0262,\n",
            "          0.0906,  0.0059,  0.0227,  0.0747,  0.0313, -0.0772, -0.0194,  0.0650,\n",
            "         -0.0342,  0.0341,  0.0308,  0.0236, -0.0731, -0.0630, -0.1012,  0.0569,\n",
            "         -0.0258, -0.0579,  0.0248,  0.0148, -0.0977,  0.0013,  0.0426, -0.0683,\n",
            "         -0.0030,  0.0085, -0.0338,  0.0566,  0.0650,  0.0480,  0.0187, -0.0262,\n",
            "          0.0906,  0.0059,  0.0227,  0.0747,  0.0313, -0.0772, -0.0194,  0.0650]],\n",
            "       grad_fn=<CatBackward>)\n",
            "tensor([[ 0.0019, -0.0004,  0.0228, -0.0325, -0.0226, -0.0028, -0.0714,  0.0534,\n",
            "          0.0325,  0.0414, -0.0690, -0.0274, -0.0368,  0.0126,  0.0499, -0.0608,\n",
            "          0.0400, -0.0305, -0.0274,  0.0543,  0.0415,  0.0013,  0.0497, -0.0107,\n",
            "          0.0153,  0.0624,  0.0545, -0.0370, -0.0455,  0.0218, -0.0335,  0.0067,\n",
            "          0.0019, -0.0004,  0.0228, -0.0325, -0.0226, -0.0028, -0.0714,  0.0534,\n",
            "          0.0325,  0.0414, -0.0690, -0.0274, -0.0368,  0.0126,  0.0499, -0.0608,\n",
            "          0.0400, -0.0305, -0.0274,  0.0543,  0.0415,  0.0013,  0.0497, -0.0107,\n",
            "          0.0153,  0.0624,  0.0545, -0.0370, -0.0455,  0.0218, -0.0335,  0.0067],\n",
            "        [ 0.0019, -0.0004,  0.0228, -0.0325, -0.0226, -0.0028, -0.0714,  0.0534,\n",
            "          0.0325,  0.0414, -0.0690, -0.0274, -0.0368,  0.0126,  0.0499, -0.0608,\n",
            "          0.0400, -0.0305, -0.0274,  0.0543,  0.0415,  0.0013,  0.0497, -0.0107,\n",
            "          0.0153,  0.0624,  0.0545, -0.0370, -0.0455,  0.0218, -0.0335,  0.0067,\n",
            "          0.0019, -0.0004,  0.0228, -0.0325, -0.0226, -0.0028, -0.0714,  0.0534,\n",
            "          0.0325,  0.0414, -0.0690, -0.0274, -0.0368,  0.0126,  0.0499, -0.0608,\n",
            "          0.0400, -0.0305, -0.0274,  0.0543,  0.0415,  0.0013,  0.0497, -0.0107,\n",
            "          0.0153,  0.0624,  0.0545, -0.0370, -0.0455,  0.0218, -0.0335,  0.0067]],\n",
            "       grad_fn=<CatBackward>)\n",
            "tensor([[ 0.0019, -0.0004,  0.0228, -0.0325, -0.0226, -0.0028, -0.0714,  0.0534,\n",
            "          0.0325,  0.0414, -0.0690, -0.0274, -0.0368,  0.0126,  0.0499, -0.0608,\n",
            "          0.0400, -0.0305, -0.0274,  0.0543,  0.0415,  0.0013,  0.0497, -0.0107,\n",
            "          0.0153,  0.0624,  0.0545, -0.0370, -0.0455,  0.0218, -0.0335,  0.0067,\n",
            "          0.0019, -0.0004,  0.0228, -0.0325, -0.0226, -0.0028, -0.0714,  0.0534,\n",
            "          0.0325,  0.0414, -0.0690, -0.0274, -0.0368,  0.0126,  0.0499, -0.0608,\n",
            "          0.0400, -0.0305, -0.0274,  0.0543,  0.0415,  0.0013,  0.0497, -0.0107,\n",
            "          0.0153,  0.0624,  0.0545, -0.0370, -0.0455,  0.0218, -0.0335,  0.0067],\n",
            "        [ 0.0019, -0.0004,  0.0228, -0.0325, -0.0226, -0.0028, -0.0714,  0.0534,\n",
            "          0.0325,  0.0414, -0.0690, -0.0274, -0.0368,  0.0126,  0.0499, -0.0608,\n",
            "          0.0400, -0.0305, -0.0274,  0.0543,  0.0415,  0.0013,  0.0497, -0.0107,\n",
            "          0.0153,  0.0624,  0.0545, -0.0370, -0.0455,  0.0218, -0.0335,  0.0067,\n",
            "          0.0019, -0.0004,  0.0228, -0.0325, -0.0226, -0.0028, -0.0714,  0.0534,\n",
            "          0.0325,  0.0414, -0.0690, -0.0274, -0.0368,  0.0126,  0.0499, -0.0608,\n",
            "          0.0400, -0.0305, -0.0274,  0.0543,  0.0415,  0.0013,  0.0497, -0.0107,\n",
            "          0.0153,  0.0624,  0.0545, -0.0370, -0.0455,  0.0218, -0.0335,  0.0067]],\n",
            "       grad_fn=<CatBackward>)\n",
            "tensor([[-0.0303, -0.0775,  0.0154, -0.0730,  0.0877, -0.0404, -0.0364,  0.0403,\n",
            "         -0.0033, -0.0467, -0.0159, -0.0038, -0.0941, -0.0389, -0.0018,  0.0615,\n",
            "          0.0008,  0.0225,  0.0301, -0.0188, -0.0309, -0.0456, -0.0186,  0.0073,\n",
            "         -0.1005, -0.0219, -0.0411,  0.0374, -0.0217, -0.0401,  0.0093,  0.0093,\n",
            "         -0.0303, -0.0775,  0.0154, -0.0730,  0.0877, -0.0404, -0.0364,  0.0403,\n",
            "         -0.0033, -0.0467, -0.0159, -0.0038, -0.0941, -0.0389, -0.0018,  0.0615,\n",
            "          0.0008,  0.0225,  0.0301, -0.0188, -0.0309, -0.0456, -0.0186,  0.0073,\n",
            "         -0.1005, -0.0219, -0.0411,  0.0374, -0.0217, -0.0401,  0.0093,  0.0093],\n",
            "        [-0.0303, -0.0775,  0.0154, -0.0730,  0.0877, -0.0404, -0.0364,  0.0403,\n",
            "         -0.0033, -0.0467, -0.0159, -0.0038, -0.0941, -0.0389, -0.0018,  0.0615,\n",
            "          0.0008,  0.0225,  0.0301, -0.0188, -0.0309, -0.0456, -0.0186,  0.0073,\n",
            "         -0.1005, -0.0219, -0.0411,  0.0374, -0.0217, -0.0401,  0.0093,  0.0093,\n",
            "         -0.0303, -0.0775,  0.0154, -0.0730,  0.0877, -0.0404, -0.0364,  0.0403,\n",
            "         -0.0033, -0.0467, -0.0159, -0.0038, -0.0941, -0.0389, -0.0018,  0.0615,\n",
            "          0.0008,  0.0225,  0.0301, -0.0188, -0.0309, -0.0456, -0.0186,  0.0073,\n",
            "         -0.1005, -0.0219, -0.0411,  0.0374, -0.0217, -0.0401,  0.0093,  0.0093]],\n",
            "       grad_fn=<CatBackward>)\n",
            "tensor([[-0.0303, -0.0775,  0.0154, -0.0730,  0.0877, -0.0404, -0.0364,  0.0403,\n",
            "         -0.0033, -0.0467, -0.0159, -0.0038, -0.0941, -0.0389, -0.0018,  0.0615,\n",
            "          0.0008,  0.0225,  0.0301, -0.0188, -0.0309, -0.0456, -0.0186,  0.0073,\n",
            "         -0.1005, -0.0219, -0.0411,  0.0374, -0.0217, -0.0401,  0.0093,  0.0093,\n",
            "         -0.0303, -0.0775,  0.0154, -0.0730,  0.0877, -0.0404, -0.0364,  0.0403,\n",
            "         -0.0033, -0.0467, -0.0159, -0.0038, -0.0941, -0.0389, -0.0018,  0.0615,\n",
            "          0.0008,  0.0225,  0.0301, -0.0188, -0.0309, -0.0456, -0.0186,  0.0073,\n",
            "         -0.1005, -0.0219, -0.0411,  0.0374, -0.0217, -0.0401,  0.0093,  0.0093],\n",
            "        [-0.0303, -0.0775,  0.0154, -0.0730,  0.0877, -0.0404, -0.0364,  0.0403,\n",
            "         -0.0033, -0.0467, -0.0159, -0.0038, -0.0941, -0.0389, -0.0018,  0.0615,\n",
            "          0.0008,  0.0225,  0.0301, -0.0188, -0.0309, -0.0456, -0.0186,  0.0073,\n",
            "         -0.1005, -0.0219, -0.0411,  0.0374, -0.0217, -0.0401,  0.0093,  0.0093,\n",
            "         -0.0303, -0.0775,  0.0154, -0.0730,  0.0877, -0.0404, -0.0364,  0.0403,\n",
            "         -0.0033, -0.0467, -0.0159, -0.0038, -0.0941, -0.0389, -0.0018,  0.0615,\n",
            "          0.0008,  0.0225,  0.0301, -0.0188, -0.0309, -0.0456, -0.0186,  0.0073,\n",
            "         -0.1005, -0.0219, -0.0411,  0.0374, -0.0217, -0.0401,  0.0093,  0.0093]],\n",
            "       grad_fn=<CatBackward>)\n",
            "tensor([[ 0.0024,  0.0202, -0.0161, -0.0521, -0.0395, -0.0377,  0.0374,  0.0468,\n",
            "          0.0639, -0.0110,  0.0242,  0.0079,  0.0901, -0.0447,  0.0060,  0.0393,\n",
            "          0.0556,  0.0112,  0.0731, -0.0321, -0.0312, -0.0917,  0.0203, -0.0096,\n",
            "          0.0668, -0.0165, -0.0462,  0.1034, -0.0278, -0.0444, -0.0210,  0.0159,\n",
            "          0.0024,  0.0202, -0.0161, -0.0521, -0.0395, -0.0377,  0.0374,  0.0468,\n",
            "          0.0639, -0.0110,  0.0242,  0.0079,  0.0901, -0.0447,  0.0060,  0.0393,\n",
            "          0.0556,  0.0112,  0.0731, -0.0321, -0.0312, -0.0917,  0.0203, -0.0096,\n",
            "          0.0668, -0.0165, -0.0462,  0.1034, -0.0278, -0.0444, -0.0210,  0.0159],\n",
            "        [ 0.0024,  0.0202, -0.0161, -0.0521, -0.0395, -0.0377,  0.0374,  0.0468,\n",
            "          0.0639, -0.0110,  0.0242,  0.0079,  0.0901, -0.0447,  0.0060,  0.0393,\n",
            "          0.0556,  0.0112,  0.0731, -0.0321, -0.0312, -0.0917,  0.0203, -0.0096,\n",
            "          0.0668, -0.0165, -0.0462,  0.1034, -0.0278, -0.0444, -0.0210,  0.0159,\n",
            "          0.0024,  0.0202, -0.0161, -0.0521, -0.0395, -0.0377,  0.0374,  0.0468,\n",
            "          0.0639, -0.0110,  0.0242,  0.0079,  0.0901, -0.0447,  0.0060,  0.0393,\n",
            "          0.0556,  0.0112,  0.0731, -0.0321, -0.0312, -0.0917,  0.0203, -0.0096,\n",
            "          0.0668, -0.0165, -0.0462,  0.1034, -0.0278, -0.0444, -0.0210,  0.0159]],\n",
            "       grad_fn=<CatBackward>)\n",
            "tensor([[ 0.0024,  0.0202, -0.0161, -0.0521, -0.0395, -0.0377,  0.0374,  0.0468,\n",
            "          0.0639, -0.0110,  0.0242,  0.0079,  0.0901, -0.0447,  0.0060,  0.0393,\n",
            "          0.0556,  0.0112,  0.0731, -0.0321, -0.0312, -0.0917,  0.0203, -0.0096,\n",
            "          0.0668, -0.0165, -0.0462,  0.1034, -0.0278, -0.0444, -0.0210,  0.0159,\n",
            "          0.0024,  0.0202, -0.0161, -0.0521, -0.0395, -0.0377,  0.0374,  0.0468,\n",
            "          0.0639, -0.0110,  0.0242,  0.0079,  0.0901, -0.0447,  0.0060,  0.0393,\n",
            "          0.0556,  0.0112,  0.0731, -0.0321, -0.0312, -0.0917,  0.0203, -0.0096,\n",
            "          0.0668, -0.0165, -0.0462,  0.1034, -0.0278, -0.0444, -0.0210,  0.0159],\n",
            "        [ 0.0024,  0.0202, -0.0161, -0.0521, -0.0395, -0.0377,  0.0374,  0.0468,\n",
            "          0.0639, -0.0110,  0.0242,  0.0079,  0.0901, -0.0447,  0.0060,  0.0393,\n",
            "          0.0556,  0.0112,  0.0731, -0.0321, -0.0312, -0.0917,  0.0203, -0.0096,\n",
            "          0.0668, -0.0165, -0.0462,  0.1034, -0.0278, -0.0444, -0.0210,  0.0159,\n",
            "          0.0024,  0.0202, -0.0161, -0.0521, -0.0395, -0.0377,  0.0374,  0.0468,\n",
            "          0.0639, -0.0110,  0.0242,  0.0079,  0.0901, -0.0447,  0.0060,  0.0393,\n",
            "          0.0556,  0.0112,  0.0731, -0.0321, -0.0312, -0.0917,  0.0203, -0.0096,\n",
            "          0.0668, -0.0165, -0.0462,  0.1034, -0.0278, -0.0444, -0.0210,  0.0159]],\n",
            "       grad_fn=<CatBackward>)\n",
            "tensor([[-0.0101,  0.0024,  0.0426,  0.0804, -0.0613, -0.0024,  0.0330,  0.0087,\n",
            "          0.0570,  0.0308, -0.0678, -0.0084,  0.0292,  0.0034,  0.1081, -0.0312,\n",
            "         -0.0066,  0.0570, -0.0650, -0.0127, -0.0025,  0.0366, -0.0791,  0.0485,\n",
            "         -0.0290,  0.0389,  0.0301, -0.0106,  0.0464, -0.0495,  0.0557,  0.0867,\n",
            "         -0.0101,  0.0024,  0.0426,  0.0804, -0.0613, -0.0024,  0.0330,  0.0087,\n",
            "          0.0570,  0.0308, -0.0678, -0.0084,  0.0292,  0.0034,  0.1081, -0.0312,\n",
            "         -0.0066,  0.0570, -0.0650, -0.0127, -0.0025,  0.0366, -0.0791,  0.0485,\n",
            "         -0.0290,  0.0389,  0.0301, -0.0106,  0.0464, -0.0495,  0.0557,  0.0867],\n",
            "        [-0.0101,  0.0024,  0.0426,  0.0804, -0.0613, -0.0024,  0.0330,  0.0087,\n",
            "          0.0570,  0.0308, -0.0678, -0.0084,  0.0292,  0.0034,  0.1081, -0.0312,\n",
            "         -0.0066,  0.0570, -0.0650, -0.0127, -0.0025,  0.0366, -0.0791,  0.0485,\n",
            "         -0.0290,  0.0389,  0.0301, -0.0106,  0.0464, -0.0495,  0.0557,  0.0867,\n",
            "         -0.0101,  0.0024,  0.0426,  0.0804, -0.0613, -0.0024,  0.0330,  0.0087,\n",
            "          0.0570,  0.0308, -0.0678, -0.0084,  0.0292,  0.0034,  0.1081, -0.0312,\n",
            "         -0.0066,  0.0570, -0.0650, -0.0127, -0.0025,  0.0366, -0.0791,  0.0485,\n",
            "         -0.0290,  0.0389,  0.0301, -0.0106,  0.0464, -0.0495,  0.0557,  0.0867]],\n",
            "       grad_fn=<CatBackward>)\n",
            "tensor([[-0.0101,  0.0024,  0.0426,  0.0804, -0.0613, -0.0024,  0.0330,  0.0087,\n",
            "          0.0570,  0.0308, -0.0678, -0.0084,  0.0292,  0.0034,  0.1081, -0.0312,\n",
            "         -0.0066,  0.0570, -0.0650, -0.0127, -0.0025,  0.0366, -0.0791,  0.0485,\n",
            "         -0.0290,  0.0389,  0.0301, -0.0106,  0.0464, -0.0495,  0.0557,  0.0867,\n",
            "         -0.0101,  0.0024,  0.0426,  0.0804, -0.0613, -0.0024,  0.0330,  0.0087,\n",
            "          0.0570,  0.0308, -0.0678, -0.0084,  0.0292,  0.0034,  0.1081, -0.0312,\n",
            "         -0.0066,  0.0570, -0.0650, -0.0127, -0.0025,  0.0366, -0.0791,  0.0485,\n",
            "         -0.0290,  0.0389,  0.0301, -0.0106,  0.0464, -0.0495,  0.0557,  0.0867],\n",
            "        [-0.0101,  0.0024,  0.0426,  0.0804, -0.0613, -0.0024,  0.0330,  0.0087,\n",
            "          0.0570,  0.0308, -0.0678, -0.0084,  0.0292,  0.0034,  0.1081, -0.0312,\n",
            "         -0.0066,  0.0570, -0.0650, -0.0127, -0.0025,  0.0366, -0.0791,  0.0485,\n",
            "         -0.0290,  0.0389,  0.0301, -0.0106,  0.0464, -0.0495,  0.0557,  0.0867,\n",
            "         -0.0101,  0.0024,  0.0426,  0.0804, -0.0613, -0.0024,  0.0330,  0.0087,\n",
            "          0.0570,  0.0308, -0.0678, -0.0084,  0.0292,  0.0034,  0.1081, -0.0312,\n",
            "         -0.0066,  0.0570, -0.0650, -0.0127, -0.0025,  0.0366, -0.0791,  0.0485,\n",
            "         -0.0290,  0.0389,  0.0301, -0.0106,  0.0464, -0.0495,  0.0557,  0.0867]],\n",
            "       grad_fn=<CatBackward>)\n",
            "tensor([[ 0.0348,  0.0008,  0.0069,  0.0699, -0.0680, -0.0144,  0.0616, -0.0126,\n",
            "         -0.0428,  0.0382, -0.0097,  0.0108,  0.0690,  0.0555,  0.0001, -0.0255,\n",
            "          0.0010,  0.0529,  0.0070, -0.0359, -0.0182,  0.0862, -0.0628,  0.0750,\n",
            "         -0.0279, -0.0383, -0.0133, -0.0123,  0.0572,  0.0309, -0.0229, -0.0908,\n",
            "          0.0348,  0.0008,  0.0069,  0.0699, -0.0680, -0.0144,  0.0616, -0.0126,\n",
            "         -0.0428,  0.0382, -0.0097,  0.0108,  0.0690,  0.0555,  0.0001, -0.0255,\n",
            "          0.0010,  0.0529,  0.0070, -0.0359, -0.0182,  0.0862, -0.0628,  0.0750,\n",
            "         -0.0279, -0.0383, -0.0133, -0.0123,  0.0572,  0.0309, -0.0229, -0.0908],\n",
            "        [ 0.0348,  0.0008,  0.0069,  0.0699, -0.0680, -0.0144,  0.0616, -0.0126,\n",
            "         -0.0428,  0.0382, -0.0097,  0.0108,  0.0690,  0.0555,  0.0001, -0.0255,\n",
            "          0.0010,  0.0529,  0.0070, -0.0359, -0.0182,  0.0862, -0.0628,  0.0750,\n",
            "         -0.0279, -0.0383, -0.0133, -0.0123,  0.0572,  0.0309, -0.0229, -0.0908,\n",
            "          0.0348,  0.0008,  0.0069,  0.0699, -0.0680, -0.0144,  0.0616, -0.0126,\n",
            "         -0.0428,  0.0382, -0.0097,  0.0108,  0.0690,  0.0555,  0.0001, -0.0255,\n",
            "          0.0010,  0.0529,  0.0070, -0.0359, -0.0182,  0.0862, -0.0628,  0.0750,\n",
            "         -0.0279, -0.0383, -0.0133, -0.0123,  0.0572,  0.0309, -0.0229, -0.0908]],\n",
            "       grad_fn=<CatBackward>)\n",
            "tensor([[ 0.0348,  0.0008,  0.0069,  0.0699, -0.0680, -0.0144,  0.0616, -0.0126,\n",
            "         -0.0428,  0.0382, -0.0097,  0.0108,  0.0690,  0.0555,  0.0001, -0.0255,\n",
            "          0.0010,  0.0529,  0.0070, -0.0359, -0.0182,  0.0862, -0.0628,  0.0750,\n",
            "         -0.0279, -0.0383, -0.0133, -0.0123,  0.0572,  0.0309, -0.0229, -0.0908,\n",
            "          0.0348,  0.0008,  0.0069,  0.0699, -0.0680, -0.0144,  0.0616, -0.0126,\n",
            "         -0.0428,  0.0382, -0.0097,  0.0108,  0.0690,  0.0555,  0.0001, -0.0255,\n",
            "          0.0010,  0.0529,  0.0070, -0.0359, -0.0182,  0.0862, -0.0628,  0.0750,\n",
            "         -0.0279, -0.0383, -0.0133, -0.0123,  0.0572,  0.0309, -0.0229, -0.0908],\n",
            "        [ 0.0348,  0.0008,  0.0069,  0.0699, -0.0680, -0.0144,  0.0616, -0.0126,\n",
            "         -0.0428,  0.0382, -0.0097,  0.0108,  0.0690,  0.0555,  0.0001, -0.0255,\n",
            "          0.0010,  0.0529,  0.0070, -0.0359, -0.0182,  0.0862, -0.0628,  0.0750,\n",
            "         -0.0279, -0.0383, -0.0133, -0.0123,  0.0572,  0.0309, -0.0229, -0.0908,\n",
            "          0.0348,  0.0008,  0.0069,  0.0699, -0.0680, -0.0144,  0.0616, -0.0126,\n",
            "         -0.0428,  0.0382, -0.0097,  0.0108,  0.0690,  0.0555,  0.0001, -0.0255,\n",
            "          0.0010,  0.0529,  0.0070, -0.0359, -0.0182,  0.0862, -0.0628,  0.0750,\n",
            "         -0.0279, -0.0383, -0.0133, -0.0123,  0.0572,  0.0309, -0.0229, -0.0908]],\n",
            "       grad_fn=<CatBackward>)\n"
          ],
          "name": "stdout"
        }
      ]
    },
    {
      "cell_type": "code",
      "metadata": {
        "id": "pZvi0n_YKF0x"
      },
      "source": [
        "print(y)  # initial predictions without training"
      ],
      "execution_count": null,
      "outputs": []
    },
    {
      "cell_type": "code",
      "metadata": {
        "id": "ln1XgFXjKXL2"
      },
      "source": [
        "optimizer = optim.Adam(mansf.parameters())\r\n",
        "loss_fn = nn.BCELoss()\r\n",
        "\r\n",
        "for epoch in range(100):\r\n",
        "    mansf.train()\r\n",
        "    y = mansf(p, m, neighborhoods)\r\n",
        "    loss = loss_fn(y.view(-1), Y.view(-1))\r\n",
        "    loss.backward()\r\n",
        "    optimizer.step()\r\n",
        "    optimizer.zero_grad()\r\n",
        "    print(y[0].item(), y[1].item(), y[2].item())"
      ],
      "execution_count": null,
      "outputs": []
    },
    {
      "cell_type": "code",
      "metadata": {
        "colab": {
          "base_uri": "https://localhost:8080/",
          "height": 165
        },
        "id": "laFsXLtlL6Ai",
        "outputId": "ba6f4d5f-e71d-4a96-ae8d-90e35ae24e16"
      },
      "source": [
        "print(y)"
      ],
      "execution_count": 1,
      "outputs": [
        {
          "output_type": "error",
          "ename": "NameError",
          "evalue": "ignored",
          "traceback": [
            "\u001b[0;31m---------------------------------------------------------------------------\u001b[0m",
            "\u001b[0;31mNameError\u001b[0m                                 Traceback (most recent call last)",
            "\u001b[0;32m<ipython-input-1-d9183e048de3>\u001b[0m in \u001b[0;36m<module>\u001b[0;34m()\u001b[0m\n\u001b[0;32m----> 1\u001b[0;31m \u001b[0mprint\u001b[0m\u001b[0;34m(\u001b[0m\u001b[0my\u001b[0m\u001b[0;34m)\u001b[0m\u001b[0;34m\u001b[0m\u001b[0;34m\u001b[0m\u001b[0m\n\u001b[0m",
            "\u001b[0;31mNameError\u001b[0m: name 'y' is not defined"
          ]
        }
      ]
    },
    {
      "cell_type": "code",
      "metadata": {
        "id": "lrZFtsoENPHE"
      },
      "source": [
        "p_test = torch.tensor([[[1.3, 1.6, 1.0], [1.4, 1.5, 1.2]], [[0.83, 0.91, 0.67], [0.75, 0.89, 0.56]]])"
      ],
      "execution_count": null,
      "outputs": []
    },
    {
      "cell_type": "code",
      "metadata": {
        "id": "nWn4om-ENfys"
      },
      "source": [
        "m_test = [torch.zeros(2,1,64),torch.zeros(2,1,64)]"
      ],
      "execution_count": null,
      "outputs": []
    },
    {
      "cell_type": "code",
      "metadata": {
        "id": "hUv2f2ofNizl"
      },
      "source": [
        "y_test = mansf(p_test, m_test, neighborhoods)"
      ],
      "execution_count": null,
      "outputs": []
    },
    {
      "cell_type": "code",
      "metadata": {
        "id": "mnvXt58hNone"
      },
      "source": [
        "print(y_test)"
      ],
      "execution_count": null,
      "outputs": []
    },
    {
      "cell_type": "code",
      "metadata": {
        "id": "d7WqGMFQOZA6"
      },
      "source": [
        "p_test2 = torch.tensor([[[0.83, 0.91, 0.67], [0.75, 0.89, 0.56]], [[1.3, 1.6, 1.0], [1.4, 1.5, 1.2]]])"
      ],
      "execution_count": null,
      "outputs": []
    },
    {
      "cell_type": "code",
      "metadata": {
        "id": "gshnkeQJOfDl"
      },
      "source": [
        "m_test2 = [torch.zeros(2,1,64),torch.zeros(2,1,64)]"
      ],
      "execution_count": null,
      "outputs": []
    },
    {
      "cell_type": "code",
      "metadata": {
        "id": "ieovkdZHOgWs"
      },
      "source": [
        "y_test2 = mansf(p_test2, m_test2, neighborhoods)"
      ],
      "execution_count": null,
      "outputs": []
    },
    {
      "cell_type": "code",
      "metadata": {
        "id": "dOzt8_FAOiCc"
      },
      "source": [
        "print(y_test2)"
      ],
      "execution_count": null,
      "outputs": []
    },
    {
      "cell_type": "markdown",
      "metadata": {
        "id": "cxCeTPkshTiD"
      },
      "source": [
        "#Sandbox"
      ]
    },
    {
      "cell_type": "markdown",
      "metadata": {
        "id": "bXK3JLoK4SgP"
      },
      "source": [
        "##Price Encoding"
      ]
    },
    {
      "cell_type": "code",
      "metadata": {
        "id": "XrA5qKZwhTK7"
      },
      "source": [
        "T = 5  # number of days in lookback window\r\n",
        "batch_size = 4\r\n",
        "gru_p_hidden_size = 64\r\n",
        "\r\n",
        "p = torch.rand(batch_size, T, 3)  # p_i = [p_i^c, p_i^h, p_i^l], not bothering to normalize for shape tests\r\n",
        "\r\n",
        "print('p.shape', p.shape)\r\n",
        "\r\n",
        "h_p_0 = torch.randn(1, batch_size, gru_p_hidden_size)  # randomly initialized initial hidden state\r\n",
        "gru_p = GRU(3, gru_p_hidden_size, batch_first=True)\r\n",
        "\r\n",
        "h_p, h_p_n = gru_p(p, h_p_0)\r\n",
        "\r\n",
        "print('h_p.shape', h_p.shape)\r\n",
        "print('h_p_n.shape', h_p_n.shape)"
      ],
      "execution_count": null,
      "outputs": []
    },
    {
      "cell_type": "code",
      "metadata": {
        "id": "AXkpe2m1oE7p"
      },
      "source": [
        "attn_p_intermediate_size = 10\r\n",
        "\r\n",
        "attn_p = LinearAttention(gru_p_hidden_size, attn_p_intermediate_size, 1)\r\n",
        "\r\n",
        "q = attn_p(h_p)\r\n",
        "\r\n",
        "print('q.shape', q.shape)"
      ],
      "execution_count": null,
      "outputs": []
    },
    {
      "cell_type": "markdown",
      "metadata": {
        "id": "rfVX_mwE4Upm"
      },
      "source": [
        "##SMI Encoding"
      ]
    },
    {
      "cell_type": "code",
      "metadata": {
        "id": "HpbYUa13FP2T"
      },
      "source": [
        "K = [7, 9, 11, 13, 15]  # number of tweets for each day in lookback window\r\n",
        "T = 5  # number or days in lookback window\r\n",
        "batch_size = 4\r\n",
        "gru_m_hidden_size = 64\r\n",
        "use_embedding_size = 512\r\n",
        "\r\n",
        "r = torch.zeros(batch_size, 0, gru_m_hidden_size)\r\n",
        "\r\n",
        "gru_m = GRU(use_embedding_size, gru_m_hidden_size, batch_first=True)\r\n",
        "\r\n",
        "for t in range(T):\r\n",
        "\r\n",
        "    m = torch.rand(batch_size, K[0], use_embedding_size)\r\n",
        "\r\n",
        "    print('m.shape', m.shape)\r\n",
        "\r\n",
        "    h_m_0 = torch.randn(1, batch_size, gru_m_hidden_size)  # randomly initialized initial hidden state\r\n",
        "\r\n",
        "    h_m, h_m_n = gru_m(m, h_m_0)\r\n",
        "\r\n",
        "    print('h_m.shape', h_m.shape)\r\n",
        "    print('h_m_n.shape', h_m_n.shape)\r\n",
        "\r\n",
        "    attn_m_intermediate_size = 10\r\n",
        "\r\n",
        "    attn_m = LinearAttention(gru_m_hidden_size, attn_m_intermediate_size, 1)\r\n",
        "\r\n",
        "    r_t = attn_m(h_m)\r\n",
        "\r\n",
        "    print('r_t.shape', r_t.shape)\r\n",
        "\r\n",
        "    r = torch.cat((r, r_t), 1)\r\n",
        "\r\n",
        "    print('r.shape', r.shape)\r\n",
        "\r\n",
        "    print()"
      ],
      "execution_count": null,
      "outputs": []
    },
    {
      "cell_type": "code",
      "metadata": {
        "id": "enAqzfkmdfeQ"
      },
      "source": [
        "gru_s_hidden_size = 64\r\n",
        "\r\n",
        "print('r.shape', r.shape)\r\n",
        "\r\n",
        "h_s_0 = torch.randn(1, batch_size, gru_s_hidden_size)  # randomly initialized initial hidden state\r\n",
        "gru_s = GRU(gru_m_hidden_size, gru_s_hidden_size, batch_first=True)\r\n",
        "\r\n",
        "h_s, h_s_n = gru_s(r, h_s_0)\r\n",
        "\r\n",
        "print('h_s.shape', h_s_0.shape)\r\n",
        "print('h_s_n.shape', h_s_n.shape)"
      ],
      "execution_count": null,
      "outputs": []
    },
    {
      "cell_type": "code",
      "metadata": {
        "id": "eXAAWKgffdf8"
      },
      "source": [
        "attn_s_intermediate_size = 10\r\n",
        "\r\n",
        "attn_s = LinearAttention(gru_s_hidden_size, attn_s_intermediate_size, 1)\r\n",
        "\r\n",
        "c = attn_s(h_s)\r\n",
        "\r\n",
        "print('c.shape', c.shape)"
      ],
      "execution_count": null,
      "outputs": []
    },
    {
      "cell_type": "markdown",
      "metadata": {
        "id": "13Jz8KgBl6e9"
      },
      "source": [
        "##Blending"
      ]
    },
    {
      "cell_type": "code",
      "metadata": {
        "id": "UzPwjITrmyf7"
      },
      "source": [
        "blend_size = 9"
      ],
      "execution_count": null,
      "outputs": []
    },
    {
      "cell_type": "code",
      "metadata": {
        "id": "j1Zr5i8_l50p"
      },
      "source": [
        "blend = Blend(q.shape[2], c.shape[2], blend_size)"
      ],
      "execution_count": null,
      "outputs": []
    },
    {
      "cell_type": "code",
      "metadata": {
        "id": "SeSZ46RQm0MU"
      },
      "source": [
        "x = blend(q, c)"
      ],
      "execution_count": null,
      "outputs": []
    },
    {
      "cell_type": "code",
      "metadata": {
        "id": "CcwZyMyem98Q"
      },
      "source": [
        "print('x.shape', x.shape)"
      ],
      "execution_count": null,
      "outputs": []
    },
    {
      "cell_type": "code",
      "metadata": {
        "id": "1odW9AqrnHsh"
      },
      "source": [
        "num_stocks = x.shape[0]"
      ],
      "execution_count": null,
      "outputs": []
    },
    {
      "cell_type": "code",
      "metadata": {
        "id": "kyQFkoZRnPGI"
      },
      "source": [
        "x = x.view(x.shape[0], x.shape[2])"
      ],
      "execution_count": null,
      "outputs": []
    },
    {
      "cell_type": "code",
      "metadata": {
        "id": "IrE9r47wnVTc"
      },
      "source": [
        "print('x.shape', x.shape)"
      ],
      "execution_count": null,
      "outputs": []
    },
    {
      "cell_type": "markdown",
      "metadata": {
        "id": "_wQptn1PhF4O"
      },
      "source": [
        "##GAT"
      ]
    },
    {
      "cell_type": "code",
      "metadata": {
        "id": "tYM_oYYiZ_MU"
      },
      "source": [
        "intermediate_size = 5"
      ],
      "execution_count": null,
      "outputs": []
    },
    {
      "cell_type": "code",
      "metadata": {
        "id": "2tqq-lLkfgyd"
      },
      "source": [
        "nhoods = [[0,1], [0,1,2], [1,2], [3]]"
      ],
      "execution_count": null,
      "outputs": []
    },
    {
      "cell_type": "code",
      "metadata": {
        "id": "8qG6e1Kcf_EV"
      },
      "source": [
        "shared_linear = SharedLinear(blend_size, intermediate_size)"
      ],
      "execution_count": null,
      "outputs": []
    },
    {
      "cell_type": "code",
      "metadata": {
        "id": "wrVwW5zQhJ3y"
      },
      "source": [
        "Wx = shared_linear(x)"
      ],
      "execution_count": null,
      "outputs": []
    },
    {
      "cell_type": "code",
      "metadata": {
        "id": "2BzfEWPBhkPr"
      },
      "source": [
        "print('Wx.shape', Wx.shape)"
      ],
      "execution_count": null,
      "outputs": []
    },
    {
      "cell_type": "markdown",
      "metadata": {
        "id": "uvWXAd_bkq3a"
      },
      "source": [
        "##MGAT 1"
      ]
    },
    {
      "cell_type": "code",
      "metadata": {
        "id": "pioV0X1TkrlQ"
      },
      "source": [
        "U = 8"
      ],
      "execution_count": null,
      "outputs": []
    },
    {
      "cell_type": "code",
      "metadata": {
        "id": "5PgSNyF_ozT_"
      },
      "source": [
        "elu = nn.ELU()"
      ],
      "execution_count": null,
      "outputs": []
    },
    {
      "cell_type": "code",
      "metadata": {
        "id": "k1Uu_ONMk_QD"
      },
      "source": [
        "sgat = SGAT(intermediate_size, 1)\r\n",
        "\r\n",
        "z = sgat(Wx, nhoods, 0)\r\n",
        "\r\n",
        "z = elu(z)\r\n",
        "\r\n",
        "for i in range(1, num_stocks):\r\n",
        "    z_i = sgat(Wx, nhoods, i)\r\n",
        "    z_i = elu(z_i)\r\n",
        "    z = torch.cat((z, z_i), 0)\r\n",
        "\r\n",
        "for u in range(1, U):\r\n",
        "    sgat = SGAT(intermediate_size, 1)\r\n",
        "\r\n",
        "    z_u = sgat(Wx, nhoods, 0)\r\n",
        "\r\n",
        "    z_u = elu(z_u)\r\n",
        "\r\n",
        "    for i in range(1, num_stocks):\r\n",
        "        z_u_i = sgat(Wx, nhoods, i)\r\n",
        "        z_u_i = elu(z_u_i)\r\n",
        "        z_u = torch.cat((z_u, z_u_i), 0)\r\n",
        "    \r\n",
        "    z = torch.cat((z, z_u), 1)"
      ],
      "execution_count": null,
      "outputs": []
    },
    {
      "cell_type": "code",
      "metadata": {
        "id": "oVvTf8HSlr8H"
      },
      "source": [
        "print('z.shape', z.shape)"
      ],
      "execution_count": null,
      "outputs": []
    },
    {
      "cell_type": "markdown",
      "metadata": {
        "id": "OPqJ4buPo8IK"
      },
      "source": [
        "##MGAT 2"
      ]
    },
    {
      "cell_type": "code",
      "metadata": {
        "id": "lT5pZ6tAou4N"
      },
      "source": [
        "U = 8"
      ],
      "execution_count": null,
      "outputs": []
    },
    {
      "cell_type": "code",
      "metadata": {
        "id": "PhQUWzqdpBPH"
      },
      "source": [
        "sigmoid = nn.Sigmoid()"
      ],
      "execution_count": null,
      "outputs": []
    },
    {
      "cell_type": "code",
      "metadata": {
        "id": "cWhGU4dGpYJ6"
      },
      "source": [
        "new_intermediate_size = 11"
      ],
      "execution_count": null,
      "outputs": []
    },
    {
      "cell_type": "code",
      "metadata": {
        "id": "MOBKmXt2pRL0"
      },
      "source": [
        "shared_linear = SharedLinear(z.shape[1], new_intermediate_size)"
      ],
      "execution_count": null,
      "outputs": []
    },
    {
      "cell_type": "code",
      "metadata": {
        "id": "VbWJ366upbMn"
      },
      "source": [
        "Wx = shared_linear(z)"
      ],
      "execution_count": null,
      "outputs": []
    },
    {
      "cell_type": "code",
      "metadata": {
        "id": "IuGp_MB6piJt"
      },
      "source": [
        "print('Wx.shape', Wx.shape)"
      ],
      "execution_count": null,
      "outputs": []
    },
    {
      "cell_type": "code",
      "metadata": {
        "id": "UMM1wNxhpCe6"
      },
      "source": [
        "sgat = SGAT(new_intermediate_size, 1)\r\n",
        "\r\n",
        "z = sgat(Wx, nhoods, 0)\r\n",
        "\r\n",
        "z = sigmoid(z)\r\n",
        "\r\n",
        "for i in range(1, num_stocks):\r\n",
        "    z_i = sgat(Wx, nhoods, i)\r\n",
        "    z_i = sigmoid(z_i)\r\n",
        "    z = torch.cat((z, z_i), 0)\r\n",
        "\r\n",
        "for u in range(1, U):\r\n",
        "    sgat = SGAT(new_intermediate_size, 1)\r\n",
        "\r\n",
        "    z_u = sgat(Wx, nhoods, 0)\r\n",
        "\r\n",
        "    z_u = sigmoid(z_u)\r\n",
        "\r\n",
        "    for i in range(1, num_stocks):\r\n",
        "        z_u_i = sgat(Wx, nhoods, i)\r\n",
        "        z_u_i = sigmoid(z_u_i)\r\n",
        "        z_u = torch.cat((z_u, z_u_i), 0)\r\n",
        "    \r\n",
        "    z = torch.cat((z, z_u), 1)"
      ],
      "execution_count": null,
      "outputs": []
    },
    {
      "cell_type": "code",
      "metadata": {
        "id": "yDpzJU-BpzTu"
      },
      "source": [
        "print('z.shape', z.shape)"
      ],
      "execution_count": null,
      "outputs": []
    },
    {
      "cell_type": "markdown",
      "metadata": {
        "id": "AH8yQvp8p6CP"
      },
      "source": [
        "##Final Layer"
      ]
    },
    {
      "cell_type": "code",
      "metadata": {
        "id": "hrhLolFHp_td"
      },
      "source": [
        "linear = nn.Linear(z.shape[1], 1, bias=True)\r\n",
        "sigmoid = nn.Sigmoid()"
      ],
      "execution_count": null,
      "outputs": []
    },
    {
      "cell_type": "code",
      "metadata": {
        "id": "aNdZdAALqgMn"
      },
      "source": [
        "sigmoid(linear(z))"
      ],
      "execution_count": null,
      "outputs": []
    },
    {
      "cell_type": "code",
      "metadata": {
        "id": "rIpPquknIZ23"
      },
      "source": [
        "print(sigmoid(linear(z)).shape)"
      ],
      "execution_count": null,
      "outputs": []
    }
  ]
}