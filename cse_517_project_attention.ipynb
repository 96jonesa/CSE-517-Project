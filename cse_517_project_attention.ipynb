{
  "nbformat": 4,
  "nbformat_minor": 0,
  "metadata": {
    "colab": {
      "name": "cse_517_project_attention.ipynb",
      "provenance": [],
      "collapsed_sections": [],
      "authorship_tag": "ABX9TyN1GLB0KwdaLgRPsM6jV+e/",
      "include_colab_link": true
    },
    "kernelspec": {
      "name": "python3",
      "display_name": "Python 3"
    }
  },
  "cells": [
    {
      "cell_type": "markdown",
      "metadata": {
        "id": "view-in-github",
        "colab_type": "text"
      },
      "source": [
        "<a href=\"https://colab.research.google.com/github/96jonesa/CSE-517-Project/blob/main/cse_517_project_attention.ipynb\" target=\"_parent\"><img src=\"https://colab.research.google.com/assets/colab-badge.svg\" alt=\"Open In Colab\"/></a>"
      ]
    },
    {
      "cell_type": "markdown",
      "metadata": {
        "id": "h33wbv2CqGIO"
      },
      "source": [
        "#Imports"
      ]
    },
    {
      "cell_type": "code",
      "metadata": {
        "id": "F4CmMfjfp3aO"
      },
      "source": [
        "import torch\r\n",
        "import torch.nn as nn\r\n",
        "from torch import optim\r\n",
        "import torch.nn.functional as F"
      ],
      "execution_count": null,
      "outputs": []
    },
    {
      "cell_type": "markdown",
      "metadata": {
        "id": "QczBU6aFrk-L"
      },
      "source": [
        "#Attention"
      ]
    },
    {
      "cell_type": "code",
      "metadata": {
        "id": "Jmrh5OlirjOO"
      },
      "source": [
        "class Attention(nn.module):\r\n",
        "    def __init__(self, gru_output_size, max_length):\r\n",
        "        super(Attention, self).__init__()\r\n",
        "        self.gru_output_size = gru_output_size\r\n",
        "        self.output_size = output_size\r\n",
        "        self.max_length = max_length\r\n",
        "\r\n",
        "        self.fc = nn.Linear(self.gru_output_size, self.max_length)  # should bias=False ? what should max_length be ?\r\n",
        "\r\n",
        "    def forward(self, gru_output, gru_hidden):\r\n",
        "        attention_weights = F.softmax(self.fc(gru_hidden))  # incorporate gru_output ... how to resolve shape ?\r\n",
        "        output_features = torch.mm(attention_weights, gru_output)  # check shape (might need to reshape and/or transpose)"
      ],
      "execution_count": null,
      "outputs": []
    }
  ]
}