{
  "nbformat": 4,
  "nbformat_minor": 0,
  "metadata": {
    "colab": {
      "name": "gru_into_attention.ipynb",
      "provenance": [],
      "collapsed_sections": [],
      "authorship_tag": "ABX9TyO3pZVRuIIF+BzE+ztFpk47",
      "include_colab_link": true
    },
    "kernelspec": {
      "name": "python3",
      "display_name": "Python 3"
    }
  },
  "cells": [
    {
      "cell_type": "markdown",
      "metadata": {
        "id": "view-in-github",
        "colab_type": "text"
      },
      "source": [
        "<a href=\"https://colab.research.google.com/github/96jonesa/CSE-517-Project/blob/main/gru_into_attention.ipynb\" target=\"_parent\"><img src=\"https://colab.research.google.com/assets/colab-badge.svg\" alt=\"Open In Colab\"/></a>"
      ]
    },
    {
      "cell_type": "markdown",
      "metadata": {
        "id": "0ra0ndnQSBpi"
      },
      "source": [
        "#Imports"
      ]
    },
    {
      "cell_type": "code",
      "metadata": {
        "id": "cvpNJDarRv4W"
      },
      "source": [
        "import torch\r\n",
        "import torch.nn as nn\r\n",
        "from torch import optim\r\n",
        "import torch.nn.functional as F"
      ],
      "execution_count": null,
      "outputs": []
    },
    {
      "cell_type": "markdown",
      "metadata": {
        "id": "kAwCQg0PSDrX"
      },
      "source": [
        "#GRU"
      ]
    },
    {
      "cell_type": "code",
      "metadata": {
        "id": "bCiCJMbGSbvT"
      },
      "source": [
        "class GRU(nn.module):\r\n",
        "    def __init__(self, input_size, hidden_size):\r\n",
        "        super(GRU, self).__init__()\r\n",
        "        self.input_size = input_size\r\n",
        "        self.hidden_size = hidden_size\r\n",
        "\r\n",
        "        self.gru = nn.GRU(input_size, hidden_size)\r\n",
        "\r\n",
        "    def forward(self, input, h_0):\r\n",
        "        output, hn = self.gru(input, h_0)\r\n",
        "        return output, hn"
      ],
      "execution_count": null,
      "outputs": []
    },
    {
      "cell_type": "markdown",
      "metadata": {
        "id": "CBoRhWFyVpo_"
      },
      "source": [
        "#Attention"
      ]
    },
    {
      "cell_type": "code",
      "metadata": {
        "id": "YiJ77r0zSDDe"
      },
      "source": [
        "class TemporalAttention(nn.module):\r\n",
        "    def __init__(self, gru_output_size, gru_hidden_size, weights_size):\r\n",
        "        super(TemporalAttention, self).__init__()\r\n",
        "        self.gru_output_size = gru_output_size\r\n",
        "        self.gru_hidden_size = gru_hidden_size\r\n",
        "        self.weights_size = weights_size\r\n",
        "\r\n",
        "        self.fc = nn.Linear(self.gru_output_size, self.weights_size, bias=False)\r\n",
        "\r\n",
        "    def forward(self, gru_output, gru_hidden):\r\n",
        "        attention_weights = F.softmax(torch.mm(self.fc(gru_output), gru_hidden))\r\n",
        "        output_features = torch.mm(attention_weights, gru_output)\r\n",
        "        return output_features, attention_weights"
      ],
      "execution_count": null,
      "outputs": []
    },
    {
      "cell_type": "markdown",
      "metadata": {
        "id": "Ar0GDm1FVq5Y"
      },
      "source": [
        "#GRU > Attention"
      ]
    },
    {
      "cell_type": "code",
      "metadata": {
        "id": "sX_boc0xSgTj"
      },
      "source": [
        "class GRUIntoAttention(nn.module):\r\n",
        "    def __init__(self, input_size, hidden_size, gru_output_size, weights_size):\r\n",
        "        super(GRUIntoAttention, self).__init__()\r\n",
        "        self.input_size = input_size\r\n",
        "        self.hidden_size = hidden_size\r\n",
        "        self.gru_output_size = gru_output_size\r\n",
        "        self.output_size = output_size\r\n",
        "\r\n",
        "        self.gru = nn.GRU(input_size, hidden_size)\r\n",
        "        self.fc = nn.Linear(self.gru_output_size, self.weights_size, bias=False)\r\n",
        "\r\n",
        "    def forward(self, input, h_0):\r\n",
        "        gru_output, gru_hidden = self.gru(input, h_0)\r\n",
        "        attention_weights = F.softmax(torch.mm(self.fc(gru_output), gru_hidden))\r\n",
        "        output_features = torch.mm(attention_weights, gru_output)\r\n",
        "        return output_features, attention_weights"
      ],
      "execution_count": null,
      "outputs": []
    }
  ]
}