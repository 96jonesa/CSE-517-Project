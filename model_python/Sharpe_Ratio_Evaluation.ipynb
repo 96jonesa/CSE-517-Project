{
 "cells": [
  {
   "cell_type": "code",
   "execution_count": 1,
   "metadata": {},
   "outputs": [],
   "source": [
    "!pip3 install --quiet pandas-market-calendars\n",
    "import os\n",
    "import pandas as pd\n",
    "import numpy as np\n",
    "import datetime as dt\n",
    "import pandas_market_calendars as mcal"
   ]
  },
  {
   "cell_type": "code",
   "execution_count": 2,
   "metadata": {},
   "outputs": [],
   "source": [
    "# Define date ranges\n",
    "train_start_date = '2014-01-01'\n",
    "train_end_date = '2015-07-31'\n",
    "val_start_date = '2015-08-01'\n",
    "val_end_date = '2015-09-30'\n",
    "test_start_date = '2015-10-01'\n",
    "test_end_date = '2016-01-01'"
   ]
  },
  {
   "cell_type": "code",
   "execution_count": 12,
   "metadata": {},
   "outputs": [
    {
     "name": "stdout",
     "output_type": "stream",
     "text": [
      "            AAPL  GOOG\n",
      "2014-01-01    -1     1\n",
      "2014-01-02     1     1\n",
      "2014-01-03     1    -1\n",
      "2014-01-04    -1    -1\n",
      "2014-01-05     1     1\n",
      "...          ...   ...\n",
      "2015-07-27     1     1\n",
      "2015-07-28    -1    -1\n",
      "2015-07-29    -1    -1\n",
      "2015-07-30     1     1\n",
      "2015-07-31     1    -1\n",
      "\n",
      "[577 rows x 2 columns]\n"
     ]
    }
   ],
   "source": [
    "# Construct Dummy Data\n",
    "np.random.seed(0)\n",
    "index = pd.date_range(start=train_start_date, end=train_end_date, freq='D')\n",
    "df_orders = pd.DataFrame(index=index, columns=['AAPL', 'GOOG'])\n",
    "df_orders['AAPL'] = np.random.choice([-1, 1],  size=len(df_orders))\n",
    "df_orders['GOOG'] = np.random.choice([-1, 1], size=len(df_orders))\n",
    "#df_orders['AAPL'] = 1\n",
    "#df_orders['GOOG'] = 0\n",
    "print(df_orders)"
   ]
  },
  {
   "cell_type": "code",
   "execution_count": 13,
   "metadata": {},
   "outputs": [],
   "source": [
    "# Get data for specific stock\n",
    "path = 'stocknet-dataset-master/price/raw'\n",
    "def get_data(symbols, dates):\n",
    "    \"\"\"Read stock data (adjusted close) for given symbols from CSV files.\"\"\"\n",
    "    df = pd.DataFrame(index=dates)\n",
    "    \n",
    "    \"\"\"Iterate over each symbol\"\"\"\n",
    "    for symbol in symbols:\n",
    "        \"\"\"Import new data\"\"\"\n",
    "        df_temp = pd.read_csv(os.path.join(path, symbol+'.csv'), index_col='Date',\n",
    "                parse_dates=True, usecols=['Date', 'Adj Close'], na_values=['nan'])\n",
    "        df_temp = df_temp.rename(columns={'Adj Close': symbol})\n",
    "        df = df.join(df_temp)\n",
    "    return df"
   ]
  },
  {
   "cell_type": "code",
   "execution_count": 14,
   "metadata": {},
   "outputs": [
    {
     "name": "stdout",
     "output_type": "stream",
     "text": [
      "                  AAPL\n",
      "2012-09-04   87.121140\n",
      "2012-09-05   86.509338\n",
      "2012-09-06   87.288956\n",
      "2012-09-07   87.827171\n",
      "2012-09-10   85.542564\n",
      "...                ...\n",
      "2017-08-28  161.470001\n",
      "2017-08-29  162.910004\n",
      "2017-08-30  163.350006\n",
      "2017-08-31  164.000000\n",
      "2017-09-01  164.050003\n",
      "\n",
      "[1258 rows x 1 columns]\n"
     ]
    }
   ],
   "source": [
    "print(get_data(['AAPL'], pd.date_range(start='1/1/1993', end='today')).dropna())"
   ]
  },
  {
   "cell_type": "code",
   "execution_count": 15,
   "metadata": {},
   "outputs": [],
   "source": [
    "cache = {}\n",
    "calendar = mcal.get_calendar('NYSE')\n",
    "def next_trading_day(start_day=None, SAFE_DELTA = 5):\n",
    "        \"\"\"Returns the next/previous trading date separated by a certain number of \n",
    "        trading days.\n",
    "        \"\"\"\n",
    "        if start_day is None:\n",
    "            start_day = datetime.datetime.utcnow().date()\n",
    "        if start_day in cache:\n",
    "            return cache[start_day]\n",
    "        start = pd.to_datetime(start_day)\n",
    "        end = start + np.timedelta64(SAFE_DELTA, 'D')\n",
    "        business_days = calendar.valid_days(start_date=start, end_date=end)\n",
    "        next_day = business_days[1].date()\n",
    "        next_day = next_day.strftime(\"%Y-%m-%d\")\n",
    "        cache[start_day] = next_day\n",
    "        return next_day"
   ]
  },
  {
   "cell_type": "code",
   "execution_count": 16,
   "metadata": {},
   "outputs": [],
   "source": [
    "# Calculate value change of portfolio assuming the order file and equal cash allocation\n",
    "def compute_portvals(df_orders, start_val = 100, commission=0, impact=0):\n",
    "    # prep variables and date range\n",
    "    df_orders.sort_index(inplace=True)\n",
    "    start_date = df_orders.index[0]\n",
    "    end_date = next_trading_day(df_orders.index[-1])\n",
    "    symbols = list(set(df_orders.columns.values))\n",
    "    \n",
    "    # get price data\n",
    "    df_prices = get_data(symbols, pd.date_range(start_date, end_date, freq='D')).dropna()\n",
    "    df_prices = df_prices[symbols]\n",
    "    df_price_change = df_prices.pct_change()\n",
    "    df_price_change.iloc[0] = 0\n",
    "    \n",
    "    # calculate cumulative holdings\n",
    "    df_holdings = pd.DataFrame(index=df_prices.index, columns=df_prices.columns.values)\n",
    "    df_holdings.iloc[0] = 0\n",
    "    df_holdings.update(df_orders)\n",
    "    df_holdings = df_holdings.ffill()\n",
    "    df_port_change = pd.DataFrame(columns=['portfolio'], index=df_price_change.index)\n",
    "    for index, row in df_holdings.iterrows():\n",
    "        vals = []\n",
    "        for col in df_holdings.columns.values:\n",
    "            if row[col] == 1:\n",
    "                vals.append(df_price_change.loc[index, col])\n",
    "            \n",
    "        if len(vals) == 0:\n",
    "            vals.append(0)\n",
    "        df_port_change.loc[index] = sum(vals)/len(vals) + 1\n",
    "    df_values = df_port_change.cumprod() * start_val\n",
    "    \n",
    "    # equal dollar allocation portfolio\n",
    "    return df_values"
   ]
  },
  {
   "cell_type": "code",
   "execution_count": 17,
   "metadata": {},
   "outputs": [
    {
     "name": "stdout",
     "output_type": "stream",
     "text": [
      "           portfolio\n",
      "2014-01-02       100\n",
      "2014-01-03   97.8034\n",
      "2014-01-06   98.3367\n",
      "2014-01-07   97.6335\n",
      "2014-01-08   98.0442\n",
      "...              ...\n",
      "2015-07-28   114.748\n",
      "2015-07-29   114.748\n",
      "2015-07-30   114.519\n",
      "2015-07-31   113.517\n",
      "2015-08-03   110.841\n",
      "\n",
      "[399 rows x 1 columns]\n"
     ]
    },
    {
     "data": {
      "text/plain": [
       "<matplotlib.axes._subplots.AxesSubplot at 0x7f18298de910>"
      ]
     },
     "execution_count": 17,
     "metadata": {},
     "output_type": "execute_result"
    },
    {
     "data": {
      "image/png": "[encoded data removed]",
      "text/plain": [
       "<Figure size 432x288 with 1 Axes>"
      ]
     },
     "metadata": {
      "needs_background": "light"
     },
     "output_type": "display_data"
    }
   ],
   "source": [
    "portvals = compute_portvals(df_orders)#[pd.to_datetime('2014-01-02')]\n",
    "print(portvals)\n",
    "portvals.plot()"
   ]
  },
  {
   "cell_type": "code",
   "execution_count": 9,
   "metadata": {},
   "outputs": [],
   "source": [
    "def sharpe(portvals, risk_free_rate=0):\n",
    "    daily_returns = portvals.pct_change().dropna()\n",
    "    avg_return = np.mean(daily_returns)\n",
    "    risk = np.std(daily_returns)\n",
    "    return (np.sqrt(252) * avg_return - risk_free_rate) / risk"
   ]
  },
  {
   "cell_type": "code",
   "execution_count": 10,
   "metadata": {},
   "outputs": [
    {
     "name": "stdout",
     "output_type": "stream",
     "text": [
      "portfolio    0.445192\n",
      "dtype: float64\n"
     ]
    }
   ],
   "source": [
    "print(sharpe(portvals))"
   ]
  },
  {
   "cell_type": "code",
   "execution_count": 11,
   "metadata": {},
   "outputs": [
    {
     "data": {
      "text/plain": [
       "<matplotlib.axes._subplots.AxesSubplot at 0x7f1829873790>"
      ]
     },
     "execution_count": 11,
     "metadata": {},
     "output_type": "execute_result"
    },
    {
     "data": {
      "image/png": "[encoded data removed]",
      "text/plain": [
       "<Figure size 432x288 with 1 Axes>"
      ]
     },
     "metadata": {
      "needs_background": "light"
     },
     "output_type": "display_data"
    }
   ],
   "source": [
    "portvals.plot()"
   ]
  },
  {
   "cell_type": "code",
   "execution_count": null,
   "metadata": {},
   "outputs": [],
   "source": []
  }
 ],
 "metadata": {
  "kernelspec": {
   "display_name": "Python 3",
   "language": "python",
   "name": "python3"
  },
  "language_info": {
   "codemirror_mode": {
    "name": "ipython",
    "version": 3
   },
   "file_extension": ".py",
   "mimetype": "text/x-python",
   "name": "python",
   "nbconvert_exporter": "python",
   "pygments_lexer": "ipython3",
   "version": "3.8.3"
  }
 },
 "nbformat": 4,
 "nbformat_minor": 4
}
