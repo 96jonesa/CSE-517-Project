{
  "nbformat": 4,
  "nbformat_minor": 0,
  "metadata": {
    "colab": {
      "name": "gru.ipynb",
      "provenance": [],
      "collapsed_sections": [],
      "authorship_tag": "ABX9TyOa02vyZMhFLa/SLyqqpcdp",
      "include_colab_link": true
    },
    "kernelspec": {
      "name": "python3",
      "display_name": "Python 3"
    }
  },
  "cells": [
    {
      "cell_type": "markdown",
      "metadata": {
        "id": "view-in-github",
        "colab_type": "text"
      },
      "source": [
        "<a href=\"https://colab.research.google.com/github/96jonesa/CSE-517-Project/blob/main/gru.ipynb\" target=\"_parent\"><img src=\"https://colab.research.google.com/assets/colab-badge.svg\" alt=\"Open In Colab\"/></a>"
      ]
    },
    {
      "cell_type": "markdown",
      "metadata": {
        "id": "cVrBds_UR8u_"
      },
      "source": [
        "#Imports"
      ]
    },
    {
      "cell_type": "code",
      "metadata": {
        "id": "0LXkCbNtE9gX"
      },
      "source": [
        "import torch\r\n",
        "import torch.nn as nn\r\n",
        "from torch import optim\r\n",
        "import torch.nn.functional as F"
      ],
      "execution_count": 1,
      "outputs": []
    },
    {
      "cell_type": "markdown",
      "metadata": {
        "id": "Yuk1yeQIR-rA"
      },
      "source": [
        "#GRU"
      ]
    },
    {
      "cell_type": "code",
      "metadata": {
        "id": "lAVuSM96HDFO"
      },
      "source": [
        "# input_size\r\n",
        "# hidden_size   64\r\n",
        "# output        contains each hidden state\r\n",
        "# hn            final hidden state\r\n",
        "class GRU(nn.module):\r\n",
        "    def __init__(self, input_size, hidden_size):\r\n",
        "        super(GRU, self).__init__()\r\n",
        "        self.input_size = input_size\r\n",
        "        self.hidden_size = hidden_size\r\n",
        "\r\n",
        "        self.gru = nn.GRU(input_size, hidden_size)\r\n",
        "\r\n",
        "    def forward(self, input, h_0):\r\n",
        "        output, hn = self.gru(input, h_0)\r\n",
        "        return output, hn"
      ],
      "execution_count": null,
      "outputs": []
    }
  ]
}