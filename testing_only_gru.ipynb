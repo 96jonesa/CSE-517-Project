{
 "cells": [
  {
   "cell_type": "markdown",
   "metadata": {
    "colab_type": "text",
    "id": "view-in-github"
   },
   "source": [
    "<a href=\"https://colab.research.google.com/github/96jonesa/CSE-517-Project/blob/main/testing.ipynb\" target=\"_parent\"><img src=\"https://colab.research.google.com/assets/colab-badge.svg\" alt=\"Open In Colab\"/></a>"
   ]
  },
  {
   "cell_type": "markdown",
   "metadata": {
    "id": "Qp0_axn_A0RP"
   },
   "source": [
    "#Imports"
   ]
  },
  {
   "cell_type": "code",
   "execution_count": 1,
   "metadata": {
    "id": "IouH5zC4C6tM"
   },
   "outputs": [],
   "source": [
    "!pip3 install --quiet \"tensorflow-hub>=0.7.0\"\n",
    "!pip3 install --quiet seaborn\n",
    "!pip3 install --quiet pandas-market-calendars"
   ]
  },
  {
   "cell_type": "code",
   "execution_count": 2,
   "metadata": {
    "id": "hkbW7y5PAL4E"
   },
   "outputs": [],
   "source": [
    "import torch\n",
    "import torch.nn as nn\n",
    "from torch import optim\n",
    "import torch.nn.functional as F\n",
    "from absl import logging\n",
    "import tensorflow.compat.v1 as tf\n",
    "import tensorflow_hub as hub\n",
    "import matplotlib.pyplot as plt\n",
    "import numpy as np\n",
    "import pandas as pd\n",
    "import os\n",
    "import re\n",
    "import seaborn as sns\n",
    "import json\n",
    "import itertools\n",
    "import pandas as pd\n",
    "import torch\n",
    "import pandas_market_calendars as mcal\n",
    "import datetime\n",
    "from torch.utils.data import Dataset, DataLoader\n",
    "from tqdm.notebook import tqdm"
   ]
  },
  {
   "cell_type": "markdown",
   "metadata": {
    "id": "B3_bjmyzAy67"
   },
   "source": [
    "#Layers"
   ]
  },
  {
   "cell_type": "code",
   "execution_count": 3,
   "metadata": {
    "id": "V_I8XFDzAQaW"
   },
   "outputs": [],
   "source": [
    "class GRU(nn.Module):\n",
    "    def __init__(self, input_size, hidden_size, batch_first=False):\n",
    "        super(GRU, self).__init__()\n",
    "        self.input_size = input_size\n",
    "        self.hidden_size = hidden_size\n",
    "        self.batch_first = batch_first\n",
    "\n",
    "        self.gru = nn.GRU(input_size, hidden_size, batch_first=self.batch_first)\n",
    "\n",
    "    def forward(self, input):\n",
    "        output, hn = self.gru(input)\n",
    "        return output, hn"
   ]
  },
  {
   "cell_type": "code",
   "execution_count": 4,
   "metadata": {},
   "outputs": [],
   "source": [
    "# output is ReLU(left^T W right + b) where W is a learned paramater matrix\n",
    "# and b is a learned bias\n",
    "\n",
    "class Blend(nn.Module):\n",
    "    def __init__(self, left_size, right_size, output_size):\n",
    "        super(Blend, self).__init__()\n",
    "        self.left_size = left_size\n",
    "        self.right_size = right_size\n",
    "        self.output_size = output_size\n",
    "\n",
    "        self.bilinear = nn.Bilinear(self.left_size, self.right_size, output_size, bias=True)\n",
    "        self.relu = nn.ReLU()\n",
    "    \n",
    "    def forward(self, left, right):\n",
    "        output = self.relu(self.bilinear(left, right))\n",
    "\n",
    "        return output"
   ]
  },
  {
   "cell_type": "code",
   "execution_count": 5,
   "metadata": {
    "id": "SgbnNp3nAh47"
   },
   "outputs": [],
   "source": [
    "class MANSF(nn.Module):\n",
    "    def __init__(self, T, gru_hidden_size, attn_inter_size, use_embed_size,\n",
    "                 blend_size, gat_1_inter_size, gat_2_inter_size, leakyrelu_slope, elu_alpha, U):\n",
    "        super(MANSF, self).__init__()\n",
    "        self.T = T\n",
    "        self.gru_hidden_size = gru_hidden_size\n",
    "        self.attn_inter_size = attn_inter_size\n",
    "        self.use_embed_size = use_embed_size\n",
    "        self.blend_size = blend_size\n",
    "        self.leakyrelu_slope = leakyrelu_slope\n",
    "        self.elu_alpha = elu_alpha\n",
    "        self.U = U\n",
    "\n",
    "        self.gru_p = GRU(3, gru_hidden_size, batch_first=True)\n",
    "        self.gru_m = GRU(use_embed_size, gru_hidden_size, batch_first=True)\n",
    "        self.gru_s = GRU(gru_hidden_size, gru_hidden_size, batch_first=True)\n",
    "        self.blend = Blend(gru_hidden_size, gru_hidden_size, blend_size)\n",
    "        self.sigmoid = nn.Sigmoid()\n",
    "        self.elu = nn.ELU(elu_alpha)\n",
    "        self.final_linear = nn.Linear(blend_size, 1, bias=True)\n",
    "\n",
    "    # p is price data tensor of shape (num_stocks, T, 3), for the day under consideration\n",
    "    # m is smi data list of tensors of shape (num_stocks, K, use_embed_size) of length T,\n",
    "    #       where K is the number of tweets for the given stock on the day under consideration\n",
    "    # neighorhoods is a list of adjacency lists, where each stock is indexed with the same\n",
    "    #       indices they have in p and m\n",
    "    def forward(self, p, m, m_mask, neighborhoods):\n",
    "        ## price encoding\n",
    "        _, h_p = self.gru_p(p)\n",
    "\n",
    "        ## smi encoding (day level)\n",
    "        r = torch.zeros(p.shape[0], 0, self.gru_hidden_size)\n",
    "        r = r.to(device)\n",
    "        for t in range(self.T):\n",
    "            h_m, _ = self.gru_m(m[t])\n",
    "            r = torch.cat((r, h_m), 1)\n",
    "\n",
    "        ## smi encoding (aggregate)\n",
    "        _, h_s = self.gru_s(r)\n",
    "\n",
    "        ## blending\n",
    "        x = self.blend(h_p, h_s)\n",
    "\n",
    "        ## reshaping (eliminating superfluous dimension)\n",
    "        x = x.squeeze()\n",
    "        \n",
    "        ## final layer\n",
    "        y = self.sigmoid(self.final_linear(x))\n",
    "\n",
    "        ## return result\n",
    "        return y"
   ]
  },
  {
   "cell_type": "markdown",
   "metadata": {
    "id": "TyyPL-psA4cU"
   },
   "source": [
    "#Data Processing"
   ]
  },
  {
   "cell_type": "code",
   "execution_count": 6,
   "metadata": {
    "id": "JZhP9VnQCyZm"
   },
   "outputs": [],
   "source": [
    "#!wget https://github.com/yumoxu/stocknet-dataset/archive/master.zip"
   ]
  },
  {
   "cell_type": "code",
   "execution_count": 7,
   "metadata": {
    "id": "aW75dPMQCzQ_"
   },
   "outputs": [],
   "source": [
    "#!unzip master.zip"
   ]
  },
  {
   "cell_type": "code",
   "execution_count": 8,
   "metadata": {
    "id": "xqxlViAXArti"
   },
   "outputs": [],
   "source": [
    "module_url = \"https://tfhub.dev/google/universal-sentence-encoder/2\" #@param [\"https://tfhub.dev/google/universal-sentence-encoder/2\", \"https://tfhub.dev/google/universal-sentence-encoder-large/3\"]"
   ]
  },
  {
   "cell_type": "code",
   "execution_count": 9,
   "metadata": {
    "id": "DRdIAHpeBJvw"
   },
   "outputs": [
    {
     "name": "stdout",
     "output_type": "stream",
     "text": [
      "WARNING:tensorflow:From /home/kxiao36/anaconda3/lib/python3.8/site-packages/tensorflow/python/compat/v2_compat.py:96: disable_resource_variables (from tensorflow.python.ops.variable_scope) is deprecated and will be removed in a future version.\n",
      "Instructions for updating:\n",
      "non-resource variables are not supported in the long term\n"
     ]
    }
   ],
   "source": [
    "tf.disable_v2_behavior()\n",
    "tf.compat.v1.disable_eager_execution()"
   ]
  },
  {
   "cell_type": "code",
   "execution_count": 10,
   "metadata": {
    "id": "uK1ab2p7BLDm"
   },
   "outputs": [],
   "source": [
    "stocknet_dataset_filepath = './stocknet-dataset-master'\n",
    "train_start_date = '2014-01-01'\n",
    "train_end_date = '2015-07-31'\n",
    "val_start_date = '2015-08-01'\n",
    "val_end_date = '2015-09-30'\n",
    "test_start_date = '2015-10-01'\n",
    "test_end_date = '2016-01-01'"
   ]
  },
  {
   "cell_type": "code",
   "execution_count": 11,
   "metadata": {
    "id": "oIRBbhAZy9ls"
   },
   "outputs": [],
   "source": [
    "def prep_dataset(dataset_filepath, start_date, end_date):\n",
    "    cache = {}\n",
    "    calendar = mcal.get_calendar('NYSE')\n",
    "    def next_trading_day(start_day=None, SAFE_DELTA = 4):\n",
    "        \"\"\"Returns the next/previous trading date separated by a certain number of \n",
    "        trading days.\n",
    "        \"\"\"\n",
    "        if start_day is None:\n",
    "            start_day = datetime.datetime.utcnow().date()\n",
    "        if start_day in cache:\n",
    "            return cache[start_day]\n",
    "        start = pd.to_datetime(start_day)\n",
    "        end = start + np.timedelta64(SAFE_DELTA, 'D')\n",
    "        business_days = calendar.valid_days(start_date=start, end_date=end)\n",
    "        next_day = business_days[1].date()\n",
    "        next_day = next_day.strftime(\"%Y-%m-%d\")\n",
    "        cache[start_day] = next_day\n",
    "        return next_day\n",
    "    \n",
    "    raw_prices_filepath = stocknet_dataset_filepath + '/price/raw'\n",
    "    preprocessed_tweets_filepath = stocknet_dataset_filepath + '/tweet/preprocessed'\n",
    "\n",
    "    company_to_price_df = {}\n",
    "    company_to_tweets = {}\n",
    "\n",
    "    for filename in os.listdir(raw_prices_filepath):\n",
    "        with open(raw_prices_filepath + '/' + filename) as file:\n",
    "            company_name = filename.split('.')[0]\n",
    "            \n",
    "            # Not enough data for GMRE\n",
    "            if company_name == 'GMRE':\n",
    "                continue\n",
    "            df = pd.read_csv(file)\n",
    "            df.columns = ['date', 'open', 'high', 'low', 'close', 'adjust_close', 'volume']\n",
    "            mask = (df['date'] >= start_date) & (df['date'] <= end_date)\n",
    "            df = df.loc[mask]\n",
    "            company_to_price_df[company_name] = df.dropna()\n",
    "\n",
    "    for filename in tqdm(os.listdir(preprocessed_tweets_filepath)):\n",
    "        company_name = filename.split('.')[0]\n",
    "        dates_to_tweets = {}\n",
    "        for tweet_filename in os.listdir(preprocessed_tweets_filepath + '/' + filename):\n",
    "            if tweet_filename < start_date or tweet_filename > end_date:\n",
    "                continue\n",
    "            with open(preprocessed_tweets_filepath + '/' + filename + '/' + tweet_filename) as file:\n",
    "                list_of_tweets = []\n",
    "                for line in file:\n",
    "                    tweet_json = json.loads(line)\n",
    "                    list_of_tweets.append(tweet_json)\n",
    "                date_idx = next_trading_day(tweet_filename)\n",
    "                if date_idx not in dates_to_tweets:\n",
    "                    dates_to_tweets[date_idx] = list_of_tweets\n",
    "                else:\n",
    "                    dates_to_tweets[date_idx] += list_of_tweets\n",
    "        company_to_tweets[company_name] = dates_to_tweets\n",
    "    \n",
    "    # Reduce logging output.\n",
    "    logging.set_verbosity(logging.ERROR)\n",
    "    tf.get_logger().setLevel(logging.ERROR)\n",
    "    tf.compat.v1.logging.set_verbosity(tf.compat.v1.logging.ERROR)\n",
    "\n",
    "    # Import the Universal Sentence Encoder's TF Hub module\n",
    "    def embed_useT(module):\n",
    "        with tf.Graph().as_default():\n",
    "            sentences = tf.placeholder(tf.string)\n",
    "            embed = hub.Module(module)\n",
    "            embeddings = embed(sentences)\n",
    "            session = tf.train.MonitoredSession()\n",
    "        return lambda x: session.run(embeddings, {sentences: x})\n",
    "    embed_fn = embed_useT(module_url)\n",
    "\n",
    "    # Generate embeddings\n",
    "    for company in tqdm(company_to_tweets.keys()):\n",
    "        for date in company_to_tweets[company].keys():\n",
    "            messages = []\n",
    "            for j in range(len(company_to_tweets[company][date])):\n",
    "                messages.append(' '.join(company_to_tweets[company][date][j]['text']))\n",
    "                message_embeddings = embed_fn(messages)\n",
    "            for k in range(len(company_to_tweets[company][date])):\n",
    "                company_to_tweets[company][date][k]['embedding'] = list(message_embeddings[k])\n",
    "    \n",
    "    # Create date mapping\n",
    "    date_universe = set()\n",
    "    for company in company_to_price_df.keys():\n",
    "        date_universe = date_universe.union(set(company_to_price_df[company].date))\n",
    "    for company in company_to_tweets.keys():\n",
    "        date_universe = date_universe.union(set(company_to_tweets[company].keys()))\n",
    "    date_universe = sorted(list(date_universe))\n",
    "    index_to_date = {i-5:d for i,d in enumerate(date_universe)}\n",
    "    date_to_index = {d:i-5 for i,d in enumerate(date_universe)}\n",
    "\n",
    "    # Calculate dimensions for tensor\n",
    "    n_stocks = len(company_to_tweets.keys())\n",
    "    n_days = len(date_universe)\n",
    "    max_tweets = 0\n",
    "    for c,d in itertools.product(company_to_tweets.keys(), date_universe):\n",
    "        if d in company_to_tweets[c]:\n",
    "            max_tweets = max(max_tweets, len(company_to_tweets[c][d]))\n",
    "    # Create index mapping for stocks alphabetically\n",
    "    company_to_index = {c:i for i,c in enumerate(sorted(list(company_to_tweets.keys())))}\n",
    "\n",
    "    return company_to_price_df, company_to_tweets, date_universe, n_days, n_stocks, max_tweets"
   ]
  },
  {
   "cell_type": "code",
   "execution_count": 12,
   "metadata": {
    "id": "7VwHfOnq19zW"
   },
   "outputs": [
    {
     "data": {
      "application/vnd.jupyter.widget-view+json": {
       "model_id": "cd222f17c55c449893f117d701f8c012",
       "version_major": 2,
       "version_minor": 0
      },
      "text/plain": [
       "HBox(children=(IntProgress(value=0, max=87), HTML(value='')))"
      ]
     },
     "metadata": {},
     "output_type": "display_data"
    },
    {
     "name": "stdout",
     "output_type": "stream",
     "text": [
      "\n"
     ]
    },
    {
     "data": {
      "application/vnd.jupyter.widget-view+json": {
       "model_id": "9ba602478c92431b937733ebc79b748c",
       "version_major": 2,
       "version_minor": 0
      },
      "text/plain": [
       "HBox(children=(IntProgress(value=0, max=87), HTML(value='')))"
      ]
     },
     "metadata": {},
     "output_type": "display_data"
    },
    {
     "name": "stdout",
     "output_type": "stream",
     "text": [
      "\n"
     ]
    },
    {
     "data": {
      "application/vnd.jupyter.widget-view+json": {
       "model_id": "0da78ed324fb4626bd132855d13fdd8a",
       "version_major": 2,
       "version_minor": 0
      },
      "text/plain": [
       "HBox(children=(IntProgress(value=0, max=87), HTML(value='')))"
      ]
     },
     "metadata": {},
     "output_type": "display_data"
    },
    {
     "name": "stdout",
     "output_type": "stream",
     "text": [
      "\n"
     ]
    },
    {
     "data": {
      "application/vnd.jupyter.widget-view+json": {
       "model_id": "96c317f8ea2b42eda6bfaa4e7a7860b6",
       "version_major": 2,
       "version_minor": 0
      },
      "text/plain": [
       "HBox(children=(IntProgress(value=0, max=87), HTML(value='')))"
      ]
     },
     "metadata": {},
     "output_type": "display_data"
    },
    {
     "name": "stdout",
     "output_type": "stream",
     "text": [
      "\n"
     ]
    },
    {
     "data": {
      "application/vnd.jupyter.widget-view+json": {
       "model_id": "66cd106ee2174a4e8688a43d5309c479",
       "version_major": 2,
       "version_minor": 0
      },
      "text/plain": [
       "HBox(children=(IntProgress(value=0, max=87), HTML(value='')))"
      ]
     },
     "metadata": {},
     "output_type": "display_data"
    },
    {
     "name": "stdout",
     "output_type": "stream",
     "text": [
      "\n"
     ]
    },
    {
     "data": {
      "application/vnd.jupyter.widget-view+json": {
       "model_id": "1b718590c2ec4772be544073810d303d",
       "version_major": 2,
       "version_minor": 0
      },
      "text/plain": [
       "HBox(children=(IntProgress(value=0, max=87), HTML(value='')))"
      ]
     },
     "metadata": {},
     "output_type": "display_data"
    },
    {
     "name": "stdout",
     "output_type": "stream",
     "text": [
      "\n"
     ]
    }
   ],
   "source": [
    "train_company_to_price_df, train_company_to_tweets, train_date_universe, train_n_days, train_n_stocks, train_max_tweets = prep_dataset(stocknet_dataset_filepath, train_start_date, train_end_date)\n",
    "val_company_to_price_df, val_company_to_tweets, val_date_universe, val_n_days, val_n_stocks, val_max_tweets = prep_dataset(stocknet_dataset_filepath, val_start_date, val_end_date)\n",
    "test_company_to_price_df, test_company_to_tweets, test_date_universe, test_n_days, test_n_stocks, test_max_tweets = prep_dataset(stocknet_dataset_filepath, test_start_date, test_end_date)"
   ]
  },
  {
   "cell_type": "markdown",
   "metadata": {
    "id": "Td7nHz4py1wv"
   },
   "source": [
    "#Dataset and DataLoader"
   ]
  },
  {
   "cell_type": "code",
   "execution_count": 13,
   "metadata": {
    "id": "8XrZt8s1Kys5"
   },
   "outputs": [],
   "source": [
    "class StockDataset(Dataset):\n",
    "    \"\"\"Price dataset\"\"\"\n",
    "\n",
    "    def __init__(self, company_to_price_df, company_to_tweets, date_universe, n_days, n_stocks, max_tweets):\n",
    "        # Initialize class members\n",
    "        self.n_stocks = n_stocks\n",
    "        self.n_days = n_days\n",
    "        self.max_tweets = max_tweets\n",
    "        self.window = 6\n",
    "        window = self.window\n",
    "\n",
    "        # Build maps\n",
    "        self.company_to_index = {c:i for i,c in enumerate(sorted(list(company_to_tweets.keys())))}\n",
    "        self.date_to_index = {d:i for i,d in enumerate(date_universe)}\n",
    "        self.index_to_date = {i:d for i,d in enumerate(date_universe)}\n",
    "\n",
    "        # Store data\n",
    "        self.company_to_price_df = company_to_price_df\n",
    "        self.company_to_tweets = company_to_tweets\n",
    "        \n",
    "        # Get price data tensor: n_stocks, n_days, 3\n",
    "        self.price_data = np.zeros((n_stocks, n_days, 3))\n",
    "        for company in company_to_price_df.keys():\n",
    "            df = company_to_price_df[company]\n",
    "            df.reset_index(inplace=True, drop=True)\n",
    "            # Look up specific rows in DF\n",
    "            for index, row in df.iterrows():\n",
    "                # Grab row with particular date\n",
    "                if index != 0:\n",
    "                    d_index = self.date_to_index[row['date']]\n",
    "                    c_index = self.company_to_index[company]\n",
    "                    self.price_data[c_index, d_index, 0] = row['high'] / prev_close\n",
    "                    self.price_data[c_index, d_index, 1] = row['low'] / prev_close\n",
    "                    self.price_data[c_index, d_index, 2] = row['close'] / prev_close\n",
    "                prev_close = row['close']\n",
    "                \n",
    "        # Which stocks are usable for these dates, shape n_days n_stocks\n",
    "        self.usable_stocks = torch.ones((self.n_days-7, self.n_stocks))\n",
    "    \n",
    "        # Labels of shape n_days, n_stocks\n",
    "        self.labels = torch.zeros((self.n_days-7, self.n_stocks))\n",
    "        \n",
    "\n",
    "        # Get labels\n",
    "        for i in range(self.n_days-7):\n",
    "            # Day after (for label)\n",
    "            day_after = self.index_to_date[i + window + 1]\n",
    "            # Current day\n",
    "            current_day = self.index_to_date[i + window]\n",
    "            for company in self.company_to_price_df.keys():\n",
    "                df = self.company_to_price_df[company]\n",
    "\n",
    "                # Grab row with particular date\n",
    "                post_row = df.loc[df['date'] == day_after]\n",
    "                row = df.loc[df['date'] == current_day]\n",
    "                c_index = self.company_to_index[company]\n",
    "\n",
    "                if (len(post_row['close']) > 0) and (len(row['close']) > 0):\n",
    "                    close = np.zeros((1))\n",
    "                    close[0] = post_row['close']\n",
    "                    close[0] /= row['close']\n",
    "                    if close >= 1.0055:\n",
    "                        self.labels[i, c_index] = 1\n",
    "                    elif close <= 0.995:\n",
    "                        self.labels[i, c_index] = 0\n",
    "                    else:\n",
    "                        self.usable_stocks[i, c_index] = 0\n",
    "                else:\n",
    "                    self.usable_stocks[i, c_index] = 0\n",
    "\n",
    "    def __len__(self):\n",
    "        return self.n_days-7\n",
    "\n",
    "    def __getitem__(self, idx):\n",
    "        \"\"\"\n",
    "        gets a price tensor of shape (n_stocks, 6, 3)\n",
    "        gets a smi tensor of shape (n_stocks, 6, K, 512)\n",
    "        \"\"\"\n",
    "        if torch.is_tensor(idx):\n",
    "            idx = idx.tolist()\n",
    "        \n",
    "        # Size of sliding window\n",
    "        window = self.window\n",
    "        \n",
    "        # Current day's usable stocks from price filter\n",
    "        usable_stocks = self.usable_stocks[idx]\n",
    "        \n",
    "        # Labels from price day\n",
    "        labels = self.labels[idx]\n",
    "\n",
    "        # Dates that we need to look up\n",
    "        dates_range = [self.index_to_date[i] for i in range(idx + 1, idx + window + 1)]\n",
    "\n",
    "        # Day after (for label)\n",
    "        day_after = self.index_to_date[idx + window + 1]\n",
    "\n",
    "        # Current day\n",
    "        current_day = self.index_to_date[idx + window]\n",
    "\n",
    "        # Get price data tensor: n_stocks, window, 3\n",
    "        price_data = self.price_data[:, idx+1:idx+window+1, :]\n",
    "\n",
    "        # Extract tweets for specific window\n",
    "        smi_data = np.zeros((self.n_stocks, window, self.max_tweets, 512))\n",
    "        tweet_counts = np.zeros((self.n_stocks, window))\n",
    "        for company in self.company_to_tweets.keys():\n",
    "\n",
    "            # Look up tweets from specific days\n",
    "            for date_idx, date in enumerate(dates_range):\n",
    "                n_tweets = 0\n",
    "                tweets = []\n",
    "                c_index = self.company_to_index[company]\n",
    "                if date in self.company_to_tweets[company]:\n",
    "                    n_tweets = len(self.company_to_tweets[company][date])\n",
    "                    tweets = [self.company_to_tweets[company][date][k]['embedding'] for k in range(n_tweets)]\n",
    "                else:\n",
    "                    usable_stocks[c_index] = 0\n",
    "                tweet_counts[c_index, date_idx] = n_tweets\n",
    "                if n_tweets == 0:\n",
    "                    usable_stocks[c_index] = 0\n",
    "                for i,embedding in enumerate(tweets): \n",
    "                    #stocks, day, lags, tweet, embedding\n",
    "                    smi_data[c_index, date_idx, i, :] = embedding[:]\n",
    "\n",
    "        usable_stocks = (usable_stocks == 1)\n",
    "\n",
    "        m_mask = torch.zeros(6, self.n_stocks, self.max_tweets, 1)\n",
    "        for t in range(6):\n",
    "            for i in range(self.n_stocks):\n",
    "                m_mask[t, i, 0:int(round(tweet_counts[i][t])), 0] = 1\n",
    "\n",
    "        price_output = price_data[usable_stocks,:,:]\n",
    "        smi_output = smi_data[usable_stocks,:,:,:]\n",
    "        tweet_count = tweet_counts[usable_stocks,:]\n",
    "        m_mask = m_mask[:,usable_stocks,:,:]\n",
    "        labels = labels[usable_stocks]\n",
    "        \n",
    "        # construct output\n",
    "        return price_output, smi_output, tweet_count, usable_stocks, labels, m_mask"
   ]
  },
  {
   "cell_type": "code",
   "execution_count": 14,
   "metadata": {
    "id": "8W_Y3YxELDp6"
   },
   "outputs": [],
   "source": [
    "train_dataset = StockDataset(train_company_to_price_df, train_company_to_tweets, train_date_universe, train_n_days, train_n_stocks, train_max_tweets)\n",
    "val_dataset = StockDataset(val_company_to_price_df, val_company_to_tweets, val_date_universe, val_n_days, val_n_stocks, val_max_tweets)\n",
    "test_dataset = StockDataset(test_company_to_price_df, test_company_to_tweets, test_date_universe, test_n_days, test_n_stocks, test_max_tweets)"
   ]
  },
  {
   "cell_type": "code",
   "execution_count": 15,
   "metadata": {
    "id": "qV_GvReJLFM5"
   },
   "outputs": [],
   "source": [
    "train_dataloader = DataLoader(train_dataset, batch_size=1,\n",
    "                        shuffle=True, num_workers=0)\n",
    "\n",
    "val_dataloader = DataLoader(val_dataset, batch_size=1,\n",
    "                        shuffle=False, num_workers=0)\n",
    "\n",
    "test_dataloader = DataLoader(test_dataset, batch_size=1,\n",
    "                        shuffle=False, num_workers=0)"
   ]
  },
  {
   "cell_type": "markdown",
   "metadata": {
    "id": "tlOeo8caLWKK"
   },
   "source": [
    "#Separator"
   ]
  },
  {
   "cell_type": "code",
   "execution_count": 16,
   "metadata": {
    "colab": {
     "base_uri": "https://localhost:8080/"
    },
    "id": "ANYU8fO-BdS6",
    "outputId": "8a8108c0-2e77-4b7e-ffee-2b12955a7925"
   },
   "outputs": [
    {
     "name": "stdout",
     "output_type": "stream",
     "text": [
      "cuda:0\n"
     ]
    }
   ],
   "source": [
    "device = torch.device(\"cuda:0\" if torch.cuda.is_available() else \"cpu\")\n",
    "print(device)"
   ]
  },
  {
   "cell_type": "markdown",
   "metadata": {
    "id": "tzGtCej6Bu_n"
   },
   "source": [
    "#Training"
   ]
  },
  {
   "cell_type": "code",
   "execution_count": 17,
   "metadata": {
    "id": "etylmeyDBtQ4"
   },
   "outputs": [],
   "source": [
    "mansf = MANSF(T=6,\n",
    "              gru_hidden_size=64,\n",
    "              attn_inter_size=32,\n",
    "              use_embed_size=512,\n",
    "              blend_size=32,\n",
    "              gat_1_inter_size=32,\n",
    "              gat_2_inter_size=32,\n",
    "              leakyrelu_slope=0.01,\n",
    "              elu_alpha=1.0,\n",
    "              U=8)"
   ]
  },
  {
   "cell_type": "code",
   "execution_count": 18,
   "metadata": {
    "id": "eNy0SuSXB0H2"
   },
   "outputs": [],
   "source": [
    "mansf = mansf.to(device)"
   ]
  },
  {
   "cell_type": "code",
   "execution_count": 19,
   "metadata": {
    "id": "ELS9f6JKCDCU"
   },
   "outputs": [],
   "source": [
    "optimizer = optim.Adam(mansf.parameters(), lr=5e-5)\n",
    "loss_fn = nn.BCELoss(reduction='mean')"
   ]
  },
  {
   "cell_type": "code",
   "execution_count": 20,
   "metadata": {
    "id": "TeuL7Yt_shSW"
   },
   "outputs": [],
   "source": [
    "train_acc_list = []\n",
    "val_acc_list = []"
   ]
  },
  {
   "cell_type": "code",
   "execution_count": 24,
   "metadata": {
    "id": "GhxL1HqYCEPD"
   },
   "outputs": [
    {
     "data": {
      "application/vnd.jupyter.widget-view+json": {
       "model_id": "c864444eadc74806a919598d6dafceeb",
       "version_major": 2,
       "version_minor": 0
      },
      "text/plain": [
       "HBox(children=(IntProgress(value=0, max=392), HTML(value='')))"
      ]
     },
     "metadata": {},
     "output_type": "display_data"
    },
    {
     "name": "stdout",
     "output_type": "stream",
     "text": [
      "tensor([], size=(1, 0, 6, 3))\n",
      "tensor([[[[ 97.3200,  96.4200,  91.3289],\n",
      "          [ 97.8400,  96.6400,  91.9313],\n",
      "          [ 99.2400,  97.5500,  93.2019],\n",
      "          [ 99.4400,  98.2500,  92.5995],\n",
      "          [ 98.7000,  97.6700,  92.3831],\n",
      "          [ 97.4500,  95.3300,  89.9829]],\n",
      "\n",
      "         [[122.3600, 121.3200, 113.3894],\n",
      "          [122.8800, 121.6700, 113.9273],\n",
      "          [123.0500, 121.6600, 113.7511],\n",
      "          [124.3900, 122.2500, 114.3632],\n",
      "          [131.2400, 128.6300, 120.5771],\n",
      "          [129.3400, 127.0400, 118.1472]],\n",
      "\n",
      "         [[364.8500, 358.5200, 358.6100],\n",
      "          [324.8700, 314.7600, 324.0100],\n",
      "          [324.8200, 316.5000, 320.4100],\n",
      "          [322.9000, 319.5000, 320.0000],\n",
      "          [322.7300, 318.5000, 322.5100],\n",
      "          [320.6800, 311.8600, 312.9900]],\n",
      "\n",
      "         [[ 50.4700,  49.9600,  48.9673],\n",
      "          [ 50.2000,  49.9400,  48.9087],\n",
      "          [ 50.0800,  49.5400,  48.5861],\n",
      "          [ 49.8700,  49.4200,  48.3123],\n",
      "          [ 50.2700,  49.6300,  48.8793],\n",
      "          [ 49.9200,  48.9100,  47.8233]],\n",
      "\n",
      "         [[ 25.9000,  25.6800,  23.4078],\n",
      "          [ 26.0200,  25.6800,  23.5347],\n",
      "          [ 26.0000,  25.5700,  23.4894],\n",
      "          [ 26.0100,  25.6900,  23.2991],\n",
      "          [ 25.8400,  25.4700,  23.2266],\n",
      "          [ 25.5000,  25.1700,  22.8641]],\n",
      "\n",
      "         [[597.8586, 590.1497, 591.7254],\n",
      "          [590.2395, 585.4227, 587.4073],\n",
      "          [590.8777, 583.1520, 588.9830],\n",
      "          [588.0854, 581.9174, 584.0066],\n",
      "          [587.8860, 582.4010, 585.8116],\n",
      "          [582.0520, 568.4393, 570.0350]],\n",
      "\n",
      "         [[ 59.3500,  58.9900,  54.6618],\n",
      "          [ 59.2700,  58.8400,  54.5140],\n",
      "          [ 59.2600,  58.6700,  54.6803],\n",
      "          [ 59.1300,  58.4400,  54.1722],\n",
      "          [ 59.2800,  58.6100,  54.4217],\n",
      "          [ 58.6800,  57.6600,  53.2761]],\n",
      "\n",
      "         [[ 45.0000,  44.3200,  40.8425],\n",
      "          [ 44.6600,  44.3000,  40.9344],\n",
      "          [ 44.5100,  43.9300,  40.4469],\n",
      "          [ 44.0900,  43.6400,  40.3733],\n",
      "          [ 44.1000,  43.2900,  40.0882],\n",
      "          [ 43.6900,  43.0800,  39.7018]],\n",
      "\n",
      "         [[ 30.5700,  30.3200,  26.9937],\n",
      "          [ 30.3500,  30.0800,  26.8602],\n",
      "          [ 30.1700,  29.7800,  26.7801],\n",
      "          [ 30.4900,  29.6900,  26.4509],\n",
      "          [ 29.5400,  29.0300,  26.2625],\n",
      "          [ 29.3200,  28.7000,  25.7598]],\n",
      "\n",
      "         [[ 35.7200,  35.0300,  30.4086],\n",
      "          [ 35.7000,  35.3600,  30.4429],\n",
      "          [ 35.7700,  35.5000,  30.5371],\n",
      "          [ 37.4800,  36.4600,  31.3423],\n",
      "          [ 36.6300,  36.0700,  31.1453],\n",
      "          [ 36.2100,  35.5100,  30.4857]]]])\n",
      "tensor([[[[  92.0243,   89.8429,   85.1153],\n",
      "          [  90.6900,   88.9286,   84.5304],\n",
      "          [  91.2486,   89.7500,   85.7258],\n",
      "          [  92.5557,   90.8729,   86.7047],\n",
      "          [  92.7671,   91.8014,   87.0449],\n",
      "          [  93.0371,   92.0671,   86.8055]],\n",
      "\n",
      "         [[ 314.6500,  307.5700,  312.5500],\n",
      "          [ 312.6000,  307.0000,  308.8400],\n",
      "          [ 307.9200,  305.0700,  307.1900],\n",
      "          [ 309.5000,  303.8400,  306.7800],\n",
      "          [ 327.9400,  306.9000,  323.5700],\n",
      "          [ 330.8800,  324.9300,  329.6700]],\n",
      "\n",
      "         [[  15.2300,   15.0700,   14.4631],\n",
      "          [  15.2800,   15.0500,   14.5777],\n",
      "          [  15.2800,   15.1100,   14.5300],\n",
      "          [  15.2600,   15.1500,   14.5300],\n",
      "          [  15.4800,   15.2200,   14.7401],\n",
      "          [  15.6500,   15.4300,   14.8930]],\n",
      "\n",
      "         [[  47.6000,   47.1500,   46.5038],\n",
      "          [  47.9600,   47.4300,   46.6895],\n",
      "          [  48.2600,   47.4600,   47.1099],\n",
      "          [  48.2000,   47.8200,   46.8068],\n",
      "          [  48.8000,   47.8900,   47.5400],\n",
      "          [  49.2000,   48.6200,   47.8333]],\n",
      "\n",
      "         [[  68.9900,   68.2200,   61.1297],\n",
      "          [  69.7700,   68.7400,   61.6971],\n",
      "          [  70.0200,   69.4600,   61.9364],\n",
      "          [  70.1100,   69.4200,   62.0960],\n",
      "          [  70.4200,   69.7900,   62.2555],\n",
      "          [  70.6000,   69.7300,   61.9187]],\n",
      "\n",
      "         [[  36.8500,   36.0600,   32.5861],\n",
      "          [  36.7200,   36.3200,   32.3826],\n",
      "          [  37.2500,   36.5000,   32.9046],\n",
      "          [  37.2900,   36.9000,   32.9753],\n",
      "          [  37.5600,   37.0900,   33.1435],\n",
      "          [  37.7300,   37.3400,   33.0992]],\n",
      "\n",
      "         [[  64.1700,   62.5600,   63.3000],\n",
      "          [  63.5900,   62.0500,   63.0800],\n",
      "          [  63.4200,   62.3200,   62.8700],\n",
      "          [  63.5900,   62.0700,   63.3400],\n",
      "          [  64.3600,   62.8200,   63.1900],\n",
      "          [  63.4800,   62.1500,   62.5000]],\n",
      "\n",
      "         [[ 559.8130,  554.3879,  558.3571],\n",
      "          [ 559.3643,  544.2358,  552.4133],\n",
      "          [ 550.8277,  541.0645,  543.4479],\n",
      "          [ 547.1079,  537.2749,  543.1687],\n",
      "          [ 553.4305,  542.9593,  552.3834],\n",
      "          [ 556.5320,  547.4271,  554.8068]],\n",
      "\n",
      "         [[  27.3200,   26.9300,   24.7877],\n",
      "          [  27.3500,   27.1200,   24.7332],\n",
      "          [  27.7000,   27.1200,   25.0962],\n",
      "          [  27.7600,   27.5000,   25.0417],\n",
      "          [  27.6600,   27.4300,   25.0962],\n",
      "          [  28.2100,   27.7300,   25.5589]],\n",
      "\n",
      "         [[  55.8800,   55.3100,   50.9797],\n",
      "          [  55.6500,   55.0200,   50.7779],\n",
      "          [  55.6600,   55.0900,   51.0073],\n",
      "          [  55.7300,   55.2500,   51.0807],\n",
      "          [  56.6600,   55.4900,   51.9522],\n",
      "          [  57.1300,   56.6500,   52.2641]],\n",
      "\n",
      "         [[  40.9700,   40.2500,   37.6597],\n",
      "          [  41.0900,   40.6800,   37.5217],\n",
      "          [  40.6800,   40.2500,   37.0618],\n",
      "          [  40.3700,   39.8600,   37.0894],\n",
      "          [  41.2500,   40.4000,   37.9081],\n",
      "          [  41.6600,   41.2400,   38.1564]],\n",
      "\n",
      "         [[1292.3300, 1269.0500, 1278.6300],\n",
      "          [1286.0000, 1260.2400, 1278.8000],\n",
      "          [1273.6200, 1256.2500, 1265.5100],\n",
      "          [1262.0000, 1244.6500, 1245.9700],\n",
      "          [1259.9500, 1245.6300, 1247.9600],\n",
      "          [1258.1600, 1234.1000, 1238.0800]]]])\n",
      "tensor([[[[ 126.4900,  124.3600,  118.6784],\n",
      "          [ 125.1200,  123.1000,  118.5067],\n",
      "          [ 125.5600,  124.1900,  119.5273],\n",
      "          [ 127.5100,  124.3300,  121.4634],\n",
      "          [ 128.1200,  125.9800,  120.1854],\n",
      "          [ 126.4000,  124.9700,  119.7943]],\n",
      "\n",
      "         [[ 377.7000,  371.5100,  372.1000],\n",
      "          [ 373.1600,  368.3400,  370.2600],\n",
      "          [ 373.2800,  369.0000,  372.2500],\n",
      "          [ 380.2000,  369.3600,  377.0400],\n",
      "          [ 379.3100,  374.0300,  374.4100],\n",
      "          [ 381.5800,  374.6500,  381.2000]],\n",
      "\n",
      "         [[  84.4500,   83.2000,   83.2400],\n",
      "          [  83.7200,   82.1800,   82.3600],\n",
      "          [  83.0000,   81.2500,   82.2800],\n",
      "          [  82.5900,   81.6140,   81.8200],\n",
      "          [  82.9500,   81.8800,   82.2100],\n",
      "          [  85.5400,   83.0660,   85.3900]],\n",
      "\n",
      "         [[  15.5200,   15.3800,   14.8462],\n",
      "          [  15.4600,   15.2500,   14.8655],\n",
      "          [  15.6200,   15.4300,   14.9909],\n",
      "          [  15.6000,   15.3400,   14.9619],\n",
      "          [  15.6500,   15.4500,   14.9137],\n",
      "          [  15.7400,   15.5000,   15.0584]],\n",
      "\n",
      "         [[  28.4600,   27.8900,   27.1863],\n",
      "          [  28.5400,   28.0250,   27.4704],\n",
      "          [  29.0900,   28.3000,   27.8940],\n",
      "          [  29.3200,   28.7500,   28.0240],\n",
      "          [  29.3400,   28.9100,   28.0770],\n",
      "          [  29.5950,   29.1150,   28.4910]],\n",
      "\n",
      "         [[  71.5400,   70.3300,   64.4593],\n",
      "          [  71.7900,   70.1300,   65.0414],\n",
      "          [  71.8300,   71.2300,   65.1051],\n",
      "          [  73.0000,   71.6800,   66.1329],\n",
      "          [  72.8500,   71.9100,   65.4416],\n",
      "          [  72.0400,   71.4100,   65.2597]],\n",
      "\n",
      "         [[  60.9400,   60.4200,   56.7039],\n",
      "          [  60.5700,   59.7300,   56.4872],\n",
      "          [  60.7000,   60.0000,   57.0243],\n",
      "          [  60.7500,   59.6500,   56.9772],\n",
      "          [  61.5000,   60.8500,   57.3352],\n",
      "          [  61.5600,   60.9400,   57.5237]],\n",
      "\n",
      "         [[1176.7200, 1160.5000, 1164.1500],\n",
      "          [1168.0000, 1146.5000, 1149.6000],\n",
      "          [1164.8000, 1146.1899, 1160.4399],\n",
      "          [1194.4600, 1154.1000, 1185.0100],\n",
      "          [1195.0000, 1183.9301, 1184.9800],\n",
      "          [1195.0000, 1180.6700, 1192.2500]],\n",
      "\n",
      "         [[  35.1300,   34.7600,   31.7742],\n",
      "          [  34.8400,   34.1100,   31.3541],\n",
      "          [  34.6300,   34.2200,   31.3998],\n",
      "          [  34.8100,   34.2300,   31.4911],\n",
      "          [  34.8900,   34.5100,   31.5459],\n",
      "          [  34.8400,   34.4200,   31.6372]],\n",
      "\n",
      "         [[  85.3400,   84.4600,   77.7550],\n",
      "          [  86.0000,   84.2600,   77.2610],\n",
      "          [  84.9400,   83.8500,   77.1146],\n",
      "          [  85.6400,   84.2000,   77.8738],\n",
      "          [  86.1700,   84.7600,   78.4410],\n",
      "          [  85.9000,   84.0200,   76.8951]]]])\n"
     ]
    },
    {
     "name": "stdout",
     "output_type": "stream",
     "text": [
      "tensor([[[[312.9800, 310.0100, 310.3500],\n",
      "          [314.7500, 306.9600, 308.5200],\n",
      "          [308.3800, 300.8500, 302.1900],\n",
      "          [303.0000, 292.3800, 295.2900],\n",
      "          [301.2800, 295.3300, 298.4200],\n",
      "          [303.1400, 296.1100, 300.4600]],\n",
      "\n",
      "         [[106.4700, 103.6900, 103.9400],\n",
      "          [104.7200, 102.5200, 103.6000],\n",
      "          [103.0200,  99.9000, 101.0000],\n",
      "          [103.8500, 100.1100, 103.3200],\n",
      "          [104.7400, 102.0300, 102.1300],\n",
      "          [105.3400, 102.6800, 105.0300]],\n",
      "\n",
      "         [[ 18.2100,  17.8900,  17.2040],\n",
      "          [ 18.0300,  17.6800,  17.2136],\n",
      "          [ 17.8100,  17.2900,  16.7136],\n",
      "          [ 17.4400,  16.7800,  16.2135],\n",
      "          [ 17.1800,  16.8700,  16.2905],\n",
      "          [ 17.3400,  17.1000,  16.6270]],\n",
      "\n",
      "         [[ 55.0700,  54.1000,  52.9178],\n",
      "          [ 54.6900,  53.7900,  53.0645],\n",
      "          [ 53.9600,  52.3300,  51.3922],\n",
      "          [ 52.7700,  50.5300,  49.5830],\n",
      "          [ 51.5500,  50.6200,  50.0426],\n",
      "          [ 52.0800,  51.5000,  50.7957]],\n",
      "\n",
      "         [[ 28.4100,  27.8100,  25.4034],\n",
      "          [ 28.1200,  27.3800,  25.3850],\n",
      "          [ 27.4500,  27.0000,  24.8793],\n",
      "          [ 27.6800,  27.0400,  24.8701],\n",
      "          [ 27.4000,  26.9800,  25.0999],\n",
      "          [ 28.0900,  27.4700,  25.2930]],\n",
      "\n",
      "         [[ 78.5100,  76.8000,  69.3319],\n",
      "          [ 77.6000,  76.5300,  69.8638],\n",
      "          [ 77.6000,  76.3000,  69.0163],\n",
      "          [ 77.9400,  76.0300,  68.6647],\n",
      "          [ 77.0100,  75.7200,  68.9442],\n",
      "          [ 77.7400,  76.8800,  69.7556]],\n",
      "\n",
      "         [[ 79.8000,  77.8600,  78.0200],\n",
      "          [ 78.9300,  77.7000,  78.4500],\n",
      "          [ 79.2500,  76.8600,  77.1900],\n",
      "          [ 77.5900,  75.3600,  76.1500],\n",
      "          [ 77.3600,  75.8200,  76.1500],\n",
      "          [ 78.2300,  76.0800,  78.1800]],\n",
      "\n",
      "         [[531.1417, 524.3604, 524.9587],\n",
      "          [529.8154, 522.6650, 523.3731],\n",
      "          [522.8944, 511.6552, 512.4630],\n",
      "          [514.7617, 499.6781, 500.5856],\n",
      "          [505.8552, 498.2820, 499.7280],\n",
      "          [502.1015, 489.6556, 501.3037]],\n",
      "\n",
      "         [[ 47.4400,  46.4500,  43.2662],\n",
      "          [ 47.4200,  46.5400,  43.5550],\n",
      "          [ 46.7300,  46.2500,  43.1545],\n",
      "          [ 46.7500,  45.5400,  42.5211],\n",
      "          [ 46.4600,  45.4900,  43.0613],\n",
      "          [ 47.7500,  46.7200,  44.3281]]]])\n",
      "tensor([[[[119.2500, 111.2700, 109.3196],\n",
      "          [115.7500, 112.7500, 108.9016],\n",
      "          [116.3500, 115.1100, 110.1367],\n",
      "          [117.2000, 115.2900, 109.7186],\n",
      "          [116.0800, 114.6400, 109.2531],\n",
      "          [114.6500, 111.6200, 106.7831]],\n",
      "\n",
      "         [[340.6400, 325.9300, 326.0000],\n",
      "          [327.9300, 323.2500, 326.3100],\n",
      "          [326.7700, 314.3600, 316.5000],\n",
      "          [318.5900, 313.4700, 316.9300],\n",
      "          [316.9300, 310.8400, 312.6300],\n",
      "          [316.5600, 304.8200, 306.6400]],\n",
      "\n",
      "         [[110.0500, 103.8960, 105.9900],\n",
      "          [110.0000, 106.6100, 109.8900],\n",
      "          [111.6800, 108.7980, 110.6400],\n",
      "          [110.5000, 108.9100, 109.1700],\n",
      "          [110.3500, 107.7600, 107.9000],\n",
      "          [107.4000, 104.2100, 105.0700]],\n",
      "\n",
      "         [[539.9276, 530.4037, 532.3384],\n",
      "          [534.0338, 528.3494, 532.2886],\n",
      "          [534.5284, 527.8109, 529.8652],\n",
      "          [535.8688, 527.1427, 535.8389],\n",
      "          [531.4310, 522.8445, 523.8218],\n",
      "          [529.5461, 522.3559, 525.5371]],\n",
      "\n",
      "         [[ 35.3700,  34.9100,  30.4279],\n",
      "          [ 35.0100,  34.1700,  29.7596],\n",
      "          [ 34.2600,  33.9200,  29.5079],\n",
      "          [ 34.1000,  33.7500,  29.4298],\n",
      "          [ 33.9500,  33.7200,  29.4559],\n",
      "          [ 34.0900,  33.8500,  29.4038]],\n",
      "\n",
      "         [[ 87.0700,  85.7500,  79.4410],\n",
      "          [ 86.7000,  85.9300,  79.6068],\n",
      "          [ 86.0000,  84.6800,  78.6988],\n",
      "          [ 84.8200,  83.6500,  78.5321],\n",
      "          [ 84.8200,  83.5100,  77.9391],\n",
      "          [ 84.6700,  83.8500,  78.0410]]]])\n",
      "tensor([[[[133.9700, 132.6900, 121.2634],\n",
      "          [132.8600, 130.5600, 119.6403],\n",
      "          [131.7100, 130.0300, 119.2756],\n",
      "          [132.0700, 130.3500, 119.7680],\n",
      "          [131.6000, 129.0700, 118.1540],\n",
      "          [131.4300, 130.0400, 119.4124]],\n",
      "\n",
      "         [[ 47.5100,  46.9800,  46.0639],\n",
      "          [ 46.9400,  46.1500,  45.4773],\n",
      "          [ 46.6800,  46.1700,  45.3991],\n",
      "          [ 46.7900,  46.0800,  45.7217],\n",
      "          [ 46.9500,  46.3800,  45.5067],\n",
      "          [ 47.0900,  46.6900,  45.7999]],\n",
      "\n",
      "         [[ 76.4400,  74.1250,  75.8750],\n",
      "          [ 76.3900,  74.0000,  74.4250],\n",
      "          [ 75.1000,  72.6500,  73.6600],\n",
      "          [ 74.1750,  72.8500,  73.6900],\n",
      "          [ 74.7500,  73.3950,  73.8250],\n",
      "          [ 74.8000,  73.5950,  74.0700]],\n",
      "\n",
      "         [[ 25.1250,  24.8400,  23.5916],\n",
      "          [ 25.1750,  24.5800,  23.8188],\n",
      "          [ 25.1550,  24.9200,  23.7620],\n",
      "          [ 25.4700,  24.8900,  24.0982],\n",
      "          [ 25.4700,  25.2200,  23.9798],\n",
      "          [ 25.6900,  25.2650,  24.3112]],\n",
      "\n",
      "         [[ 70.9900,  69.9200,  62.0163],\n",
      "          [ 70.7600,  69.9700,  61.5857],\n",
      "          [ 70.3700,  69.7800,  61.8053],\n",
      "          [ 70.2600,  68.9900,  60.6717],\n",
      "          [ 69.6500,  68.7000,  60.5662],\n",
      "          [ 69.2600,  68.7200,  60.6014]],\n",
      "\n",
      "         [[531.5406, 523.8517, 525.2081],\n",
      "          [524.4302, 516.0033, 518.5563],\n",
      "          [520.3713, 514.0287, 519.2045],\n",
      "          [528.3295, 516.1659, 527.4120],\n",
      "          [534.7618, 524.8590, 528.3195],\n",
      "          [537.7067, 530.4536, 537.4644]],\n",
      "\n",
      "         [[ 41.1800,  40.8300,  36.8757],\n",
      "          [ 40.9600,  40.4400,  36.5420],\n",
      "          [ 40.9100,  40.4500,  36.8757],\n",
      "          [ 40.7300,  40.4200,  36.7134],\n",
      "          [ 40.9300,  40.5700,  36.5962],\n",
      "          [ 40.8800,  40.5000,  36.8577]],\n",
      "\n",
      "         [[ 40.4500,  40.0500,  37.0158],\n",
      "          [ 40.4000,  39.5100,  36.4271],\n",
      "          [ 39.8400,  39.2700,  36.6386],\n",
      "          [ 39.8200,  39.4600,  36.5650],\n",
      "          [ 39.9400,  39.4600,  36.5006],\n",
      "          [ 40.3500,  39.7400,  37.1170]]]])\n",
      "tensor([[[[103.0200, 101.2700,  96.9290],\n",
      "          [104.1100, 102.6000,  97.4209],\n",
      "          [105.0500, 103.6300,  99.1614],\n",
      "          [105.4900, 104.5300,  99.5303],\n",
      "          [105.4800, 104.7000,  99.4262],\n",
      "          [106.7400, 105.3500, 100.9681]],\n",
      "\n",
      "         [[ 70.1300,  69.1500,  62.6015],\n",
      "          [ 70.7700,  69.8300,  62.6194],\n",
      "          [ 70.7500,  69.8900,  62.6820],\n",
      "          [ 70.9900,  70.0200,  63.2364],\n",
      "          [ 70.9400,  70.2400,  62.9145],\n",
      "          [ 70.7100,  69.7200,  63.2274]],\n",
      "\n",
      "         [[ 78.7400,  77.1500,  78.6900],\n",
      "          [ 79.8500,  78.0100,  78.3700],\n",
      "          [ 80.6300,  79.0100,  80.0400],\n",
      "          [ 80.8200,  79.3200,  80.6700],\n",
      "          [ 80.8000,  79.7600,  80.2800],\n",
      "          [ 81.1600,  79.5700,  80.7700]]]])\n",
      "tensor([[[[102.7800, 101.5600,  96.7209],\n",
      "          [102.9000, 102.2000,  96.9574],\n",
      "          [103.7400, 102.7200,  97.7141],\n",
      "          [103.2000,  98.5800,  93.5899],\n",
      "          [100.0900,  97.7900,  92.8142],\n",
      "          [ 99.3900,  98.3100,  93.6182]],\n",
      "\n",
      "         [[341.7900, 338.8000, 340.0200],\n",
      "          [341.8200, 337.6800, 339.0400],\n",
      "          [342.5000, 337.1600, 342.3800],\n",
      "          [343.2700, 337.5500, 339.0000],\n",
      "          [349.3800, 343.5800, 345.9500],\n",
      "          [346.8300, 342.5000, 346.3800]],\n",
      "\n",
      "         [[ 74.4300,  73.7300,  73.8600],\n",
      "          [ 74.8200,  74.0100,  74.8200],\n",
      "          [ 76.7000,  74.8200,  76.6800],\n",
      "          [ 77.4800,  75.6000,  75.8300],\n",
      "          [ 76.9300,  75.5300,  75.9500],\n",
      "          [ 77.3800,  75.6000,  77.2600]],\n",
      "\n",
      "         [[571.6805, 565.5473, 567.6415],\n",
      "          [570.4738, 565.5164, 570.0350],\n",
      "          [576.2479, 569.6261, 575.7493],\n",
      "          [581.3938, 573.4257, 576.3576],\n",
      "          [584.3956, 577.6341, 580.3865],\n",
      "          [584.9440, 580.3566, 584.4753]],\n",
      "\n",
      "         [[ 34.8100,  34.6100,  31.6474],\n",
      "          [ 34.9400,  34.6700,  31.8940],\n",
      "          [ 34.9100,  34.4300,  31.5743],\n",
      "          [ 34.8800,  34.4500,  31.5743],\n",
      "          [ 35.0900,  34.5200,  31.8848],\n",
      "          [ 35.1200,  34.8300,  31.9670]]]])\n",
      "tensor([[[[119.1900, 115.5600, 112.9582],\n",
      "          [120.0000, 116.8500, 111.3052],\n",
      "          [119.1700, 116.0800, 112.7017],\n",
      "          [119.0900, 117.6100, 112.7207],\n",
      "          [120.5100, 118.3100, 113.5853],\n",
      "          [120.2300, 119.2500, 114.3960]],\n",
      "\n",
      "         [[ 90.7400,  87.3600,  89.8100],\n",
      "          [ 92.0000,  88.1100,  89.0800],\n",
      "          [ 91.6600,  88.6100,  90.1300],\n",
      "          [ 91.6500,  89.9000,  90.6100],\n",
      "          [ 91.8800,  89.4800,  90.0000],\n",
      "          [ 89.8400,  86.1000,  87.0000]],\n",
      "\n",
      "         [[ 15.4900,  15.2000,  14.8384],\n",
      "          [ 15.4700,  15.1500,  14.5691],\n",
      "          [ 15.4900,  15.1200,  14.8672],\n",
      "          [ 15.9300,  15.6100,  15.2807],\n",
      "          [ 16.0000,  15.7500,  15.1846],\n",
      "          [ 16.0900,  15.9000,  15.3577]],\n",
      "\n",
      "         [[121.0900, 116.5500, 120.8700],\n",
      "          [124.2900, 118.8900, 119.1600],\n",
      "          [120.3500, 116.5000, 118.5700],\n",
      "          [119.7500, 114.4600, 117.6000],\n",
      "          [117.5500, 112.7800, 116.5700],\n",
      "          [120.5800, 117.0500, 120.0200]],\n",
      "\n",
      "         [[ 79.2700,  77.3500,  71.3514],\n",
      "          [ 78.8500,  76.8200,  69.3228],\n",
      "          [ 78.0400,  76.4400,  70.0712],\n",
      "          [ 78.8800,  77.1200,  70.8465],\n",
      "          [ 78.8500,  77.3800,  69.9900],\n",
      "          [ 78.8200,  77.3100,  70.9457]],\n",
      "\n",
      "         [[ 78.0200,  74.2100,  78.0000],\n",
      "          [ 78.1600,  75.7500,  75.9100],\n",
      "          [ 76.1400,  73.7500,  74.9900],\n",
      "          [ 75.5800,  73.8600,  75.4000],\n",
      "          [ 76.3500,  75.0100,  75.6300],\n",
      "          [ 75.9800,  75.2100,  75.6100]],\n",
      "\n",
      "         [[509.6906, 499.8277, 509.2618],\n",
      "          [538.3918, 514.1085, 533.0565],\n",
      "          [531.5406, 517.1302, 527.0330],\n",
      "          [531.9396, 521.8273, 527.7910],\n",
      "          [531.2136, 519.8428, 521.3287],\n",
      "          [527.0530, 520.6605, 526.1355]],\n",
      "\n",
      "         [[ 86.1100,  85.1500,  79.0214],\n",
      "          [ 85.2200,  84.2500,  77.7485],\n",
      "          [ 85.1400,  83.6800,  78.5141],\n",
      "          [ 86.0000,  85.1200,  79.2796],\n",
      "          [ 86.4800,  85.5500,  79.1321],\n",
      "          [ 86.7800,  86.1000,  79.9715]],\n",
      "\n",
      "         [[ 33.1000,  32.4100,  29.0111],\n",
      "          [ 33.4300,  32.7200,  28.9759],\n",
      "          [ 33.6200,  32.8000,  29.5393],\n",
      "          [ 34.3400,  33.6500,  30.2258],\n",
      "          [ 34.7500,  34.2300,  30.2874],\n",
      "          [ 34.6000,  34.3200,  30.4018]]]])\n"
     ]
    },
    {
     "ename": "KeyboardInterrupt",
     "evalue": "",
     "output_type": "error",
     "traceback": [
      "\u001b[0;31m---------------------------------------------------------------------------\u001b[0m",
      "\u001b[0;31mKeyboardInterrupt\u001b[0m                         Traceback (most recent call last)",
      "\u001b[0;32m<ipython-input-24-466d53eec4a3>\u001b[0m in \u001b[0;36m<module>\u001b[0;34m\u001b[0m\n\u001b[1;32m      4\u001b[0m     \u001b[0mtotal\u001b[0m \u001b[0;34m=\u001b[0m \u001b[0;36m0.0\u001b[0m\u001b[0;34m\u001b[0m\u001b[0;34m\u001b[0m\u001b[0m\n\u001b[1;32m      5\u001b[0m     \u001b[0mrunning_loss\u001b[0m \u001b[0;34m=\u001b[0m \u001b[0;36m0.0\u001b[0m\u001b[0;34m\u001b[0m\u001b[0;34m\u001b[0m\u001b[0m\n\u001b[0;32m----> 6\u001b[0;31m     \u001b[0;32mfor\u001b[0m \u001b[0mprice\u001b[0m\u001b[0;34m,\u001b[0m \u001b[0msmi\u001b[0m\u001b[0;34m,\u001b[0m \u001b[0mn_tweets\u001b[0m\u001b[0;34m,\u001b[0m \u001b[0musable_stocks\u001b[0m\u001b[0;34m,\u001b[0m \u001b[0mlabels\u001b[0m\u001b[0;34m,\u001b[0m \u001b[0mm_mask\u001b[0m \u001b[0;32min\u001b[0m \u001b[0mtqdm\u001b[0m\u001b[0;34m(\u001b[0m\u001b[0mtrain_dataloader\u001b[0m\u001b[0;34m)\u001b[0m\u001b[0;34m:\u001b[0m\u001b[0;34m\u001b[0m\u001b[0;34m\u001b[0m\u001b[0m\n\u001b[0m\u001b[1;32m      7\u001b[0m         \u001b[0mprice\u001b[0m \u001b[0;34m=\u001b[0m \u001b[0mprice\u001b[0m\u001b[0;34m.\u001b[0m\u001b[0mtype\u001b[0m\u001b[0;34m(\u001b[0m\u001b[0mtorch\u001b[0m\u001b[0;34m.\u001b[0m\u001b[0mFloatTensor\u001b[0m\u001b[0;34m)\u001b[0m\u001b[0;34m\u001b[0m\u001b[0;34m\u001b[0m\u001b[0m\n\u001b[1;32m      8\u001b[0m         \u001b[0msmi\u001b[0m \u001b[0;34m=\u001b[0m \u001b[0msmi\u001b[0m\u001b[0;34m.\u001b[0m\u001b[0mtype\u001b[0m\u001b[0;34m(\u001b[0m\u001b[0mtorch\u001b[0m\u001b[0;34m.\u001b[0m\u001b[0mFloatTensor\u001b[0m\u001b[0;34m)\u001b[0m\u001b[0;34m\u001b[0m\u001b[0;34m\u001b[0m\u001b[0m\n",
      "\u001b[0;32m~/anaconda3/lib/python3.8/site-packages/tqdm/notebook.py\u001b[0m in \u001b[0;36m__iter__\u001b[0;34m(self, *args, **kwargs)\u001b[0m\n\u001b[1;32m    220\u001b[0m     \u001b[0;32mdef\u001b[0m \u001b[0m__iter__\u001b[0m\u001b[0;34m(\u001b[0m\u001b[0mself\u001b[0m\u001b[0;34m,\u001b[0m \u001b[0;34m*\u001b[0m\u001b[0margs\u001b[0m\u001b[0;34m,\u001b[0m \u001b[0;34m**\u001b[0m\u001b[0mkwargs\u001b[0m\u001b[0;34m)\u001b[0m\u001b[0;34m:\u001b[0m\u001b[0;34m\u001b[0m\u001b[0;34m\u001b[0m\u001b[0m\n\u001b[1;32m    221\u001b[0m         \u001b[0;32mtry\u001b[0m\u001b[0;34m:\u001b[0m\u001b[0;34m\u001b[0m\u001b[0;34m\u001b[0m\u001b[0m\n\u001b[0;32m--> 222\u001b[0;31m             \u001b[0;32mfor\u001b[0m \u001b[0mobj\u001b[0m \u001b[0;32min\u001b[0m \u001b[0msuper\u001b[0m\u001b[0;34m(\u001b[0m\u001b[0mtqdm_notebook\u001b[0m\u001b[0;34m,\u001b[0m \u001b[0mself\u001b[0m\u001b[0;34m)\u001b[0m\u001b[0;34m.\u001b[0m\u001b[0m__iter__\u001b[0m\u001b[0;34m(\u001b[0m\u001b[0;34m*\u001b[0m\u001b[0margs\u001b[0m\u001b[0;34m,\u001b[0m \u001b[0;34m**\u001b[0m\u001b[0mkwargs\u001b[0m\u001b[0;34m)\u001b[0m\u001b[0;34m:\u001b[0m\u001b[0;34m\u001b[0m\u001b[0;34m\u001b[0m\u001b[0m\n\u001b[0m\u001b[1;32m    223\u001b[0m                 \u001b[0;31m# return super(tqdm...) will not catch exception\u001b[0m\u001b[0;34m\u001b[0m\u001b[0;34m\u001b[0m\u001b[0;34m\u001b[0m\u001b[0m\n\u001b[1;32m    224\u001b[0m                 \u001b[0;32myield\u001b[0m \u001b[0mobj\u001b[0m\u001b[0;34m\u001b[0m\u001b[0;34m\u001b[0m\u001b[0m\n",
      "\u001b[0;32m~/anaconda3/lib/python3.8/site-packages/tqdm/std.py\u001b[0m in \u001b[0;36m__iter__\u001b[0;34m(self)\u001b[0m\n\u001b[1;32m   1089\u001b[0m             \"\"\"), fp_write=getattr(self.fp, 'write', sys.stderr.write))\n\u001b[1;32m   1090\u001b[0m \u001b[0;34m\u001b[0m\u001b[0m\n\u001b[0;32m-> 1091\u001b[0;31m         \u001b[0;32mfor\u001b[0m \u001b[0mobj\u001b[0m \u001b[0;32min\u001b[0m \u001b[0miterable\u001b[0m\u001b[0;34m:\u001b[0m\u001b[0;34m\u001b[0m\u001b[0;34m\u001b[0m\u001b[0m\n\u001b[0m\u001b[1;32m   1092\u001b[0m             \u001b[0;32myield\u001b[0m \u001b[0mobj\u001b[0m\u001b[0;34m\u001b[0m\u001b[0;34m\u001b[0m\u001b[0m\n\u001b[1;32m   1093\u001b[0m             \u001b[0;31m# Update and possibly print the progressbar.\u001b[0m\u001b[0;34m\u001b[0m\u001b[0;34m\u001b[0m\u001b[0;34m\u001b[0m\u001b[0m\n",
      "\u001b[0;32m~/anaconda3/lib/python3.8/site-packages/torch/utils/data/dataloader.py\u001b[0m in \u001b[0;36m__next__\u001b[0;34m(self)\u001b[0m\n\u001b[1;32m    433\u001b[0m         \u001b[0;32mif\u001b[0m \u001b[0mself\u001b[0m\u001b[0;34m.\u001b[0m\u001b[0m_sampler_iter\u001b[0m \u001b[0;32mis\u001b[0m \u001b[0;32mNone\u001b[0m\u001b[0;34m:\u001b[0m\u001b[0;34m\u001b[0m\u001b[0;34m\u001b[0m\u001b[0m\n\u001b[1;32m    434\u001b[0m             \u001b[0mself\u001b[0m\u001b[0;34m.\u001b[0m\u001b[0m_reset\u001b[0m\u001b[0;34m(\u001b[0m\u001b[0;34m)\u001b[0m\u001b[0;34m\u001b[0m\u001b[0;34m\u001b[0m\u001b[0m\n\u001b[0;32m--> 435\u001b[0;31m         \u001b[0mdata\u001b[0m \u001b[0;34m=\u001b[0m \u001b[0mself\u001b[0m\u001b[0;34m.\u001b[0m\u001b[0m_next_data\u001b[0m\u001b[0;34m(\u001b[0m\u001b[0;34m)\u001b[0m\u001b[0;34m\u001b[0m\u001b[0;34m\u001b[0m\u001b[0m\n\u001b[0m\u001b[1;32m    436\u001b[0m         \u001b[0mself\u001b[0m\u001b[0;34m.\u001b[0m\u001b[0m_num_yielded\u001b[0m \u001b[0;34m+=\u001b[0m \u001b[0;36m1\u001b[0m\u001b[0;34m\u001b[0m\u001b[0;34m\u001b[0m\u001b[0m\n\u001b[1;32m    437\u001b[0m         \u001b[0;32mif\u001b[0m \u001b[0mself\u001b[0m\u001b[0;34m.\u001b[0m\u001b[0m_dataset_kind\u001b[0m \u001b[0;34m==\u001b[0m \u001b[0m_DatasetKind\u001b[0m\u001b[0;34m.\u001b[0m\u001b[0mIterable\u001b[0m \u001b[0;32mand\u001b[0m\u001b[0;31m \u001b[0m\u001b[0;31m\\\u001b[0m\u001b[0;34m\u001b[0m\u001b[0;34m\u001b[0m\u001b[0m\n",
      "\u001b[0;32m~/anaconda3/lib/python3.8/site-packages/torch/utils/data/dataloader.py\u001b[0m in \u001b[0;36m_next_data\u001b[0;34m(self)\u001b[0m\n\u001b[1;32m    473\u001b[0m     \u001b[0;32mdef\u001b[0m \u001b[0m_next_data\u001b[0m\u001b[0;34m(\u001b[0m\u001b[0mself\u001b[0m\u001b[0;34m)\u001b[0m\u001b[0;34m:\u001b[0m\u001b[0;34m\u001b[0m\u001b[0;34m\u001b[0m\u001b[0m\n\u001b[1;32m    474\u001b[0m         \u001b[0mindex\u001b[0m \u001b[0;34m=\u001b[0m \u001b[0mself\u001b[0m\u001b[0;34m.\u001b[0m\u001b[0m_next_index\u001b[0m\u001b[0;34m(\u001b[0m\u001b[0;34m)\u001b[0m  \u001b[0;31m# may raise StopIteration\u001b[0m\u001b[0;34m\u001b[0m\u001b[0;34m\u001b[0m\u001b[0m\n\u001b[0;32m--> 475\u001b[0;31m         \u001b[0mdata\u001b[0m \u001b[0;34m=\u001b[0m \u001b[0mself\u001b[0m\u001b[0;34m.\u001b[0m\u001b[0m_dataset_fetcher\u001b[0m\u001b[0;34m.\u001b[0m\u001b[0mfetch\u001b[0m\u001b[0;34m(\u001b[0m\u001b[0mindex\u001b[0m\u001b[0;34m)\u001b[0m  \u001b[0;31m# may raise StopIteration\u001b[0m\u001b[0;34m\u001b[0m\u001b[0;34m\u001b[0m\u001b[0m\n\u001b[0m\u001b[1;32m    476\u001b[0m         \u001b[0;32mif\u001b[0m \u001b[0mself\u001b[0m\u001b[0;34m.\u001b[0m\u001b[0m_pin_memory\u001b[0m\u001b[0;34m:\u001b[0m\u001b[0;34m\u001b[0m\u001b[0;34m\u001b[0m\u001b[0m\n\u001b[1;32m    477\u001b[0m             \u001b[0mdata\u001b[0m \u001b[0;34m=\u001b[0m \u001b[0m_utils\u001b[0m\u001b[0;34m.\u001b[0m\u001b[0mpin_memory\u001b[0m\u001b[0;34m.\u001b[0m\u001b[0mpin_memory\u001b[0m\u001b[0;34m(\u001b[0m\u001b[0mdata\u001b[0m\u001b[0;34m)\u001b[0m\u001b[0;34m\u001b[0m\u001b[0;34m\u001b[0m\u001b[0m\n",
      "\u001b[0;32m~/anaconda3/lib/python3.8/site-packages/torch/utils/data/_utils/fetch.py\u001b[0m in \u001b[0;36mfetch\u001b[0;34m(self, possibly_batched_index)\u001b[0m\n\u001b[1;32m     42\u001b[0m     \u001b[0;32mdef\u001b[0m \u001b[0mfetch\u001b[0m\u001b[0;34m(\u001b[0m\u001b[0mself\u001b[0m\u001b[0;34m,\u001b[0m \u001b[0mpossibly_batched_index\u001b[0m\u001b[0;34m)\u001b[0m\u001b[0;34m:\u001b[0m\u001b[0;34m\u001b[0m\u001b[0;34m\u001b[0m\u001b[0m\n\u001b[1;32m     43\u001b[0m         \u001b[0;32mif\u001b[0m \u001b[0mself\u001b[0m\u001b[0;34m.\u001b[0m\u001b[0mauto_collation\u001b[0m\u001b[0;34m:\u001b[0m\u001b[0;34m\u001b[0m\u001b[0;34m\u001b[0m\u001b[0m\n\u001b[0;32m---> 44\u001b[0;31m             \u001b[0mdata\u001b[0m \u001b[0;34m=\u001b[0m \u001b[0;34m[\u001b[0m\u001b[0mself\u001b[0m\u001b[0;34m.\u001b[0m\u001b[0mdataset\u001b[0m\u001b[0;34m[\u001b[0m\u001b[0midx\u001b[0m\u001b[0;34m]\u001b[0m \u001b[0;32mfor\u001b[0m \u001b[0midx\u001b[0m \u001b[0;32min\u001b[0m \u001b[0mpossibly_batched_index\u001b[0m\u001b[0;34m]\u001b[0m\u001b[0;34m\u001b[0m\u001b[0;34m\u001b[0m\u001b[0m\n\u001b[0m\u001b[1;32m     45\u001b[0m         \u001b[0;32melse\u001b[0m\u001b[0;34m:\u001b[0m\u001b[0;34m\u001b[0m\u001b[0;34m\u001b[0m\u001b[0m\n\u001b[1;32m     46\u001b[0m             \u001b[0mdata\u001b[0m \u001b[0;34m=\u001b[0m \u001b[0mself\u001b[0m\u001b[0;34m.\u001b[0m\u001b[0mdataset\u001b[0m\u001b[0;34m[\u001b[0m\u001b[0mpossibly_batched_index\u001b[0m\u001b[0;34m]\u001b[0m\u001b[0;34m\u001b[0m\u001b[0;34m\u001b[0m\u001b[0m\n",
      "\u001b[0;32m~/anaconda3/lib/python3.8/site-packages/torch/utils/data/_utils/fetch.py\u001b[0m in \u001b[0;36m<listcomp>\u001b[0;34m(.0)\u001b[0m\n\u001b[1;32m     42\u001b[0m     \u001b[0;32mdef\u001b[0m \u001b[0mfetch\u001b[0m\u001b[0;34m(\u001b[0m\u001b[0mself\u001b[0m\u001b[0;34m,\u001b[0m \u001b[0mpossibly_batched_index\u001b[0m\u001b[0;34m)\u001b[0m\u001b[0;34m:\u001b[0m\u001b[0;34m\u001b[0m\u001b[0;34m\u001b[0m\u001b[0m\n\u001b[1;32m     43\u001b[0m         \u001b[0;32mif\u001b[0m \u001b[0mself\u001b[0m\u001b[0;34m.\u001b[0m\u001b[0mauto_collation\u001b[0m\u001b[0;34m:\u001b[0m\u001b[0;34m\u001b[0m\u001b[0;34m\u001b[0m\u001b[0m\n\u001b[0;32m---> 44\u001b[0;31m             \u001b[0mdata\u001b[0m \u001b[0;34m=\u001b[0m \u001b[0;34m[\u001b[0m\u001b[0mself\u001b[0m\u001b[0;34m.\u001b[0m\u001b[0mdataset\u001b[0m\u001b[0;34m[\u001b[0m\u001b[0midx\u001b[0m\u001b[0;34m]\u001b[0m \u001b[0;32mfor\u001b[0m \u001b[0midx\u001b[0m \u001b[0;32min\u001b[0m \u001b[0mpossibly_batched_index\u001b[0m\u001b[0;34m]\u001b[0m\u001b[0;34m\u001b[0m\u001b[0;34m\u001b[0m\u001b[0m\n\u001b[0m\u001b[1;32m     45\u001b[0m         \u001b[0;32melse\u001b[0m\u001b[0;34m:\u001b[0m\u001b[0;34m\u001b[0m\u001b[0;34m\u001b[0m\u001b[0m\n\u001b[1;32m     46\u001b[0m             \u001b[0mdata\u001b[0m \u001b[0;34m=\u001b[0m \u001b[0mself\u001b[0m\u001b[0;34m.\u001b[0m\u001b[0mdataset\u001b[0m\u001b[0;34m[\u001b[0m\u001b[0mpossibly_batched_index\u001b[0m\u001b[0;34m]\u001b[0m\u001b[0;34m\u001b[0m\u001b[0;34m\u001b[0m\u001b[0m\n",
      "\u001b[0;32m<ipython-input-13-b30d5c9375f9>\u001b[0m in \u001b[0;36m__getitem__\u001b[0;34m(self, idx)\u001b[0m\n\u001b[1;32m    130\u001b[0m \u001b[0;34m\u001b[0m\u001b[0m\n\u001b[1;32m    131\u001b[0m         \u001b[0mprice_output\u001b[0m \u001b[0;34m=\u001b[0m \u001b[0mprice_data\u001b[0m\u001b[0;34m[\u001b[0m\u001b[0musable_stocks\u001b[0m\u001b[0;34m,\u001b[0m\u001b[0;34m:\u001b[0m\u001b[0;34m,\u001b[0m\u001b[0;34m:\u001b[0m\u001b[0;34m]\u001b[0m\u001b[0;34m\u001b[0m\u001b[0;34m\u001b[0m\u001b[0m\n\u001b[0;32m--> 132\u001b[0;31m         \u001b[0msmi_output\u001b[0m \u001b[0;34m=\u001b[0m \u001b[0msmi_data\u001b[0m\u001b[0;34m[\u001b[0m\u001b[0musable_stocks\u001b[0m\u001b[0;34m,\u001b[0m\u001b[0;34m:\u001b[0m\u001b[0;34m,\u001b[0m\u001b[0;34m:\u001b[0m\u001b[0;34m,\u001b[0m\u001b[0;34m:\u001b[0m\u001b[0;34m]\u001b[0m\u001b[0;34m\u001b[0m\u001b[0;34m\u001b[0m\u001b[0m\n\u001b[0m\u001b[1;32m    133\u001b[0m         \u001b[0mtweet_count\u001b[0m \u001b[0;34m=\u001b[0m \u001b[0mtweet_counts\u001b[0m\u001b[0;34m[\u001b[0m\u001b[0musable_stocks\u001b[0m\u001b[0;34m,\u001b[0m\u001b[0;34m:\u001b[0m\u001b[0;34m]\u001b[0m\u001b[0;34m\u001b[0m\u001b[0;34m\u001b[0m\u001b[0m\n\u001b[1;32m    134\u001b[0m         \u001b[0mm_mask\u001b[0m \u001b[0;34m=\u001b[0m \u001b[0mm_mask\u001b[0m\u001b[0;34m[\u001b[0m\u001b[0;34m:\u001b[0m\u001b[0;34m,\u001b[0m\u001b[0musable_stocks\u001b[0m\u001b[0;34m,\u001b[0m\u001b[0;34m:\u001b[0m\u001b[0;34m,\u001b[0m\u001b[0;34m:\u001b[0m\u001b[0;34m]\u001b[0m\u001b[0;34m\u001b[0m\u001b[0;34m\u001b[0m\u001b[0m\n",
      "\u001b[0;31mKeyboardInterrupt\u001b[0m: "
     ]
    }
   ],
   "source": [
    "for epoch in range(18):\n",
    "    mansf.train()\n",
    "    correct = 0.0\n",
    "    total = 0.0\n",
    "    running_loss = 0.0\n",
    "    for price, smi, n_tweets, usable_stocks, labels, m_mask in tqdm(train_dataloader):\n",
    "        price = price.type(torch.FloatTensor)\n",
    "        smi = smi.type(torch.FloatTensor)\n",
    "        \n",
    "        price = price.to(device).squeeze(axis=0)\n",
    "        smi = smi.to(device).squeeze(axis=0).permute(1, 0, 2, 3)\n",
    "        n_tweets = n_tweets.to(device).squeeze(axis=0)\n",
    "        usable_stocks = usable_stocks.to(device).squeeze(axis=0)\n",
    "        labels = labels.to(device)\n",
    "        m_mask = m_mask.to(device).squeeze(axis=0)\n",
    "\n",
    "        m = []\n",
    "        for t in range(6):\n",
    "            m.append(smi[t])\n",
    "\n",
    "        neighborhoods = torch.eye(87, 87)\n",
    "        neighborhoods = neighborhoods.to(device)\n",
    "        neighborhoods = neighborhoods[usable_stocks, :]\n",
    "        neighborhoods = neighborhoods[:, usable_stocks]\n",
    "\n",
    "        if price.shape[0] != 0:\n",
    "            y = mansf(price, smi, m_mask, neighborhoods)\n",
    "            loss = loss_fn(y.view(-1), labels.view(-1))\n",
    "            loss.backward()\n",
    "            optimizer.step()\n",
    "            optimizer.zero_grad()\n",
    "            correct += torch.sum(((y > 0.5).view(-1) == labels.view(-1))).item()\n",
    "            total += len(y)\n",
    "            running_loss = loss.item() * len(y)\n",
    "\n",
    "    train_acc = correct / total\n",
    "    train_acc_list.append(train_acc)\n",
    "\n",
    "    mansf.eval()\n",
    "    correct = 0.0\n",
    "    total = 0.0\n",
    "    for price, smi, n_tweets, usable_stocks, labels, m_mask in tqdm(val_dataloader):\n",
    "        price = price.type(torch.FloatTensor)\n",
    "        smi = smi.type(torch.FloatTensor)\n",
    "        \n",
    "        price = price.to(device).squeeze(axis=0)\n",
    "        smi = smi.to(device).squeeze(axis=0).permute(1, 0, 2, 3)\n",
    "        n_tweets = n_tweets.to(device).squeeze(axis=0)\n",
    "        usable_stocks = usable_stocks.to(device).squeeze(axis=0)\n",
    "        labels = labels.to(device)\n",
    "        m_mask = m_mask.to(device).squeeze(axis=0)\n",
    "\n",
    "        m = []\n",
    "        for t in range(6):\n",
    "            m.append(smi[t])\n",
    "\n",
    "        neighborhoods = torch.eye(87, 87)\n",
    "        neighborhoods = neighborhoods.to(device)\n",
    "        neighborhoods = neighborhoods[usable_stocks, :]\n",
    "        neighborhoods = neighborhoods[:, usable_stocks]\n",
    "\n",
    "        if price.shape[0] != 0:\n",
    "            y = mansf(price, smi, m_mask, neighborhoods)\n",
    "            correct += torch.sum((y > 0.5).view(-1) == labels.view(-1)).item()\n",
    "            total += len(y)\n",
    "\n",
    "    val_acc = correct / total\n",
    "    val_acc_list.append(val_acc)\n",
    "\n",
    "    print('epoch:', epoch, 'loss:', running_loss, 'train_acc:', train_acc, 'val_acc:', val_acc)"
   ]
  },
  {
   "cell_type": "code",
   "execution_count": 23,
   "metadata": {
    "id": "cxKSr2BV4k_z"
   },
   "outputs": [],
   "source": [
    "mansf.eval()\n",
    "\n",
    "price, smi, n_tweets, usable_stocks, labels, m_mask = next(iter(val_dataloader))\n",
    "\n",
    "price = price.type(torch.FloatTensor)\n",
    "smi = smi.type(torch.FloatTensor)\n",
    "\n",
    "price = price.to(device)\n",
    "smi = smi.to(device)\n",
    "n_tweets = n_tweets.to(device)\n",
    "usable_stocks = usable_stocks.to(device)\n",
    "labels = labels.to(device)\n",
    "m_mask = m_mask.to(device)\n",
    "\n",
    "price = price.view(price.shape[1], price.shape[2], price.shape[3])\n",
    "smi = smi.view(smi.shape[1], smi.shape[2], smi.shape[3], smi.shape[4])\n",
    "n_tweets = n_tweets.view(n_tweets.shape[1], n_tweets.shape[2])\n",
    "usable_stocks = usable_stocks.view(usable_stocks.shape[1])\n",
    "m_mask = m_mask.view(m_mask.shape[1], m_mask.shape[2], m_mask.shape[3], m_mask.shape[4])\n",
    "\n",
    "smi = smi.permute(1, 0, 2, 3)\n",
    "\n",
    "m = []\n",
    "for t in range(6):\n",
    "    m.append(smi[t])\n",
    "\n",
    "neighborhoods = torch.eye(87, 87)\n",
    "neighborhoods = neighborhoods.to(device)\n",
    "neighborhoods = neighborhoods[usable_stocks, :]\n",
    "neighborhoods = neighborhoods[:, usable_stocks]\n",
    "\n",
    "y = mansf(price, smi, m_mask, neighborhoods)"
   ]
  },
  {
   "cell_type": "code",
   "execution_count": null,
   "metadata": {
    "colab": {
     "base_uri": "https://localhost:8080/"
    },
    "id": "XqAGN_ND12G4",
    "outputId": "8a415adf-a839-4632-d3c4-32a8bd296471"
   },
   "outputs": [],
   "source": [
    "print(y)"
   ]
  },
  {
   "cell_type": "code",
   "execution_count": null,
   "metadata": {
    "colab": {
     "base_uri": "https://localhost:8080/"
    },
    "id": "j2S1py5m47Ts",
    "outputId": "eb6cc1ee-369c-41b6-e019-c8b57d1e9148"
   },
   "outputs": [],
   "source": [
    "print(labels)"
   ]
  },
  {
   "cell_type": "markdown",
   "metadata": {
    "id": "64uHrKiQrq4X"
   },
   "source": [
    "#Figures"
   ]
  },
  {
   "cell_type": "code",
   "execution_count": null,
   "metadata": {
    "id": "yGV8hlffrr9k"
   },
   "outputs": [],
   "source": [
    "def plot(X, Y, xlabel, ylabel, legend, title):\n",
    "    fig = plt.figure()\n",
    "    ax = fig.add_subplot(1, 1, 1)\n",
    "\n",
    "    for i in range(len(Y)):\n",
    "        ax.plot(X, Y[i], label=legend[i])\n",
    "\n",
    "    plt.grid(color='0.95')\n",
    "    plt.legend()\n",
    "    ax.set(xlabel=xlabel, ylabel=ylabel, title=title)"
   ]
  },
  {
   "cell_type": "code",
   "execution_count": null,
   "metadata": {
    "id": "M6pHZ4GIr1BI"
   },
   "outputs": [],
   "source": [
    "\"\"\"plot(range(18),\n",
    "     [train_acc_list, val_acc_list],\n",
    "     'epoch',\n",
    "     'accuracy',\n",
    "     ['training accuracy', 'validation accuracy'],\n",
    "     'accuracy vs. epoch')\"\"\""
   ]
  }
 ],
 "metadata": {
  "accelerator": "GPU",
  "colab": {
   "authorship_tag": "ABX9TyMkwD5KBuRvTKUZhZMRZdNb",
   "collapsed_sections": [],
   "include_colab_link": true,
   "name": "testing.ipynb",
   "provenance": [],
   "toc_visible": true
  },
  "kernelspec": {
   "display_name": "Python 3",
   "language": "python",
   "name": "python3"
  }
 },
 "nbformat": 4,
 "nbformat_minor": 1
}
