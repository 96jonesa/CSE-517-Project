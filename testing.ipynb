{
  "nbformat": 4,
  "nbformat_minor": 0,
  "metadata": {
    "colab": {
      "name": "testing.ipynb",
      "provenance": [],
      "collapsed_sections": [],
      "toc_visible": true,
      "authorship_tag": "ABX9TyPYOPJimsUPKM+onrWlKpFA",
      "include_colab_link": true
    },
    "kernelspec": {
      "name": "python3",
      "display_name": "Python 3"
    },
    "accelerator": "GPU"
  },
  "cells": [
    {
      "cell_type": "markdown",
      "metadata": {
        "id": "view-in-github",
        "colab_type": "text"
      },
      "source": [
        "<a href=\"https://colab.research.google.com/github/96jonesa/CSE-517-Project/blob/main/testing.ipynb\" target=\"_parent\"><img src=\"https://colab.research.google.com/assets/colab-badge.svg\" alt=\"Open In Colab\"/></a>"
      ]
    },
    {
      "cell_type": "markdown",
      "metadata": {
        "id": "Qp0_axn_A0RP"
      },
      "source": [
        "#Imports"
      ]
    },
    {
      "cell_type": "code",
      "metadata": {
        "id": "IouH5zC4C6tM"
      },
      "source": [
        "!pip3 install --quiet \"tensorflow-hub>=0.7.0\"\r\n",
        "!pip3 install --quiet seaborn\r\n",
        "!pip3 install --quiet pandas-market-calendars"
      ],
      "execution_count": null,
      "outputs": []
    },
    {
      "cell_type": "code",
      "metadata": {
        "id": "hkbW7y5PAL4E"
      },
      "source": [
        "import torch\r\n",
        "import torch.nn as nn\r\n",
        "from torch import optim\r\n",
        "import torch.nn.functional as F\r\n",
        "from absl import logging\r\n",
        "import tensorflow.compat.v1 as tf\r\n",
        "import tensorflow_hub as hub\r\n",
        "import matplotlib.pyplot as plt\r\n",
        "import numpy as np\r\n",
        "import pandas as pd\r\n",
        "import os\r\n",
        "import re\r\n",
        "import seaborn as sns\r\n",
        "import json\r\n",
        "import itertools\r\n",
        "import pandas as pd\r\n",
        "from tqdm import tqdm_notebook"
      ],
      "execution_count": 2,
      "outputs": []
    },
    {
      "cell_type": "markdown",
      "metadata": {
        "id": "B3_bjmyzAy67"
      },
      "source": [
        "#Layers"
      ]
    },
    {
      "cell_type": "code",
      "metadata": {
        "id": "V_I8XFDzAQaW"
      },
      "source": [
        "class GRU(nn.Module):\r\n",
        "    def __init__(self, input_size, hidden_size, batch_first=False):\r\n",
        "        super(GRU, self).__init__()\r\n",
        "        self.input_size = input_size\r\n",
        "        self.hidden_size = hidden_size\r\n",
        "        self.batch_first = batch_first\r\n",
        "\r\n",
        "        self.gru = nn.GRU(input_size, hidden_size, batch_first=self.batch_first)\r\n",
        "\r\n",
        "    def forward(self, input):\r\n",
        "        output, hn = self.gru(input)\r\n",
        "        return output, hn"
      ],
      "execution_count": 3,
      "outputs": []
    },
    {
      "cell_type": "code",
      "metadata": {
        "id": "8pc_MLjpAQsN"
      },
      "source": [
        "# attention weights are softmax(u^T tanh(W input + b)) where W is learned parameter matrix, u is a learned parameter vector, and b is a learned offset\r\n",
        "\r\n",
        "class LinearAttention(nn.Module):\r\n",
        "    def __init__(self, input_size, intermediate_size, weights_size):\r\n",
        "        super(LinearAttention, self).__init__()\r\n",
        "        self.input_size = input_size\r\n",
        "        self.intermediate_size = intermediate_size\r\n",
        "        self.weights_size = weights_size\r\n",
        "\r\n",
        "        self.linear_1 = nn.Linear(self.input_size, self.intermediate_size, bias=True)\r\n",
        "        self.linear_2 = nn.Linear(self.intermediate_size, self.weights_size, bias=False)\r\n",
        "        self.tanh = nn.Tanh()\r\n",
        "        self.softmax = nn.Softmax(dim=2)\r\n",
        "\r\n",
        "    def forward(self, input, mask=None):\r\n",
        "        intermediate = self.tanh(self.linear_1(input))\r\n",
        "        pre_attention = self.linear_2(intermediate)\r\n",
        "        if mask is not None:\r\n",
        "            zero_vec = -9e15*torch.ones_like(pre_attention)\r\n",
        "            pre_attention = torch.where(mask > 0, pre_attention, zero_vec)\r\n",
        "        attention_weights = self.softmax(pre_attention)\r\n",
        "        attention_weights = attention_weights.permute(0, 2, 1)\r\n",
        "        output_features = torch.bmm(attention_weights, input)\r\n",
        "\r\n",
        "        return output_features"
      ],
      "execution_count": 124,
      "outputs": []
    },
    {
      "cell_type": "code",
      "metadata": {
        "id": "eZ4wJCUJATJ5"
      },
      "source": [
        "# output is ReLU(left^T W right + b) where W is a learned paramater matrix\r\n",
        "# and b is a learned bias\r\n",
        "\r\n",
        "class Blend(nn.Module):\r\n",
        "    def __init__(self, left_size, right_size, output_size):\r\n",
        "        super(Blend, self).__init__()\r\n",
        "        self.left_size = left_size\r\n",
        "        self.right_size = right_size\r\n",
        "        self.output_size = output_size\r\n",
        "\r\n",
        "        self.bilinear = nn.Bilinear(self.left_size, self.right_size, output_size, bias=True)\r\n",
        "        self.relu = nn.ReLU()\r\n",
        "    \r\n",
        "    def forward(self, left, right):\r\n",
        "        output = self.relu(self.bilinear(left, right))\r\n",
        "\r\n",
        "        return output"
      ],
      "execution_count": 5,
      "outputs": []
    },
    {
      "cell_type": "code",
      "metadata": {
        "id": "UOSXvN33Ae-Q"
      },
      "source": [
        "# https://github.com/Diego999/pyGAT/blob/master/layers.py\r\n",
        "\r\n",
        "class SGAT(nn.Module):\r\n",
        "    def __init__(self, input_size, output_size, leakyrelu_slope=0.01):\r\n",
        "        super(SGAT, self).__init__()\r\n",
        "        self.input_size = input_size\r\n",
        "        self.output_size = output_size\r\n",
        "        self.leakyrelu_slope = leakyrelu_slope\r\n",
        "        \r\n",
        "        self.W = nn.Parameter(torch.empty(size=(input_size, output_size)))\r\n",
        "        nn.init.xavier_uniform_(self.W.data, gain=1.414)\r\n",
        "        self.a = nn.Parameter(torch.empty(size=(2*output_size, 1)))\r\n",
        "        nn.init.xavier_uniform_(self.a.data, gain=1.414)\r\n",
        "        self.leakyrelu = nn.LeakyReLU(self.leakyrelu_slope)\r\n",
        "\r\n",
        "    def forward(self, h, adj):\r\n",
        "        Wh = torch.mm(h, self.W)\r\n",
        "        a_input = self._prepare_attentional_mechanism_input(Wh)\r\n",
        "        e = self.leakyrelu(torch.matmul(a_input, self.a).squeeze(2))\r\n",
        "\r\n",
        "        zero_vec = -9e15*torch.ones_like(e)\r\n",
        "        attention = torch.where(adj > 0, e, zero_vec)\r\n",
        "        attention = F.softmax(attention, dim=1)\r\n",
        "        h_prime = torch.matmul(attention, Wh)\r\n",
        "\r\n",
        "        return h_prime\r\n",
        "\r\n",
        "    def _prepare_attentional_mechanism_input(self, Wh):\r\n",
        "        N = Wh.size()[0] # number of nodes\r\n",
        "        \r\n",
        "        Wh_repeated_in_chunks = Wh.repeat_interleave(N, dim=0)\r\n",
        "        Wh_repeated_alternating = Wh.repeat(N, 1)\r\n",
        "\r\n",
        "        all_combinations_matrix = torch.cat([Wh_repeated_in_chunks, Wh_repeated_alternating], dim=1)\r\n",
        "\r\n",
        "        return all_combinations_matrix.view(N, N, 2 * self.output_size)"
      ],
      "execution_count": 6,
      "outputs": []
    },
    {
      "cell_type": "code",
      "metadata": {
        "id": "SgbnNp3nAh47"
      },
      "source": [
        "class MANSF(nn.Module):\r\n",
        "    def __init__(self, T, num_stocks, gru_hidden_size, attn_inter_size, use_embed_size,\r\n",
        "                 blend_size, gat_1_inter_size, gat_2_inter_size, leakyrelu_slope, elu_alpha, U):\r\n",
        "        super(MANSF, self).__init__()\r\n",
        "        self.T = T\r\n",
        "        self.num_stocks = num_stocks\r\n",
        "        self.gru_hidden_size = gru_hidden_size\r\n",
        "        self.attn_inter_size = attn_inter_size\r\n",
        "        self.use_embed_size = use_embed_size\r\n",
        "        self.blend_size = blend_size\r\n",
        "        self.gat_1_inter_size = gat_1_inter_size\r\n",
        "        self.gat_2_inter_size = gat_2_inter_size\r\n",
        "        self.leakyrelu_slope = leakyrelu_slope\r\n",
        "        self.elu_alpha = elu_alpha\r\n",
        "        self.U = U\r\n",
        "\r\n",
        "        self.gru_p = GRU(3, gru_hidden_size, batch_first=True)\r\n",
        "        self.gru_m = GRU(use_embed_size, gru_hidden_size, batch_first=True)\r\n",
        "        self.gru_s = GRU(gru_hidden_size, gru_hidden_size, batch_first=True)\r\n",
        "        self.attn_p = LinearAttention(gru_hidden_size, attn_inter_size, 1)\r\n",
        "        self.attn_m = LinearAttention(gru_hidden_size, attn_inter_size, 1)\r\n",
        "        self.attn_s = LinearAttention(gru_hidden_size, attn_inter_size, 1)\r\n",
        "        self.blend = Blend(gru_hidden_size, gru_hidden_size, blend_size)\r\n",
        "        self.mgat_1 = nn.ModuleList([SGAT(blend_size, gat_1_inter_size, leakyrelu_slope=leakyrelu_slope) for u in range(U)])\r\n",
        "        self.mgat_2 = nn.ModuleList([SGAT(U * gat_1_inter_size, gat_2_inter_size, leakyrelu_slope=leakyrelu_slope) for u in range(U)])\r\n",
        "        self.sigmoid = nn.Sigmoid()\r\n",
        "        self.elu = nn.ELU(elu_alpha)\r\n",
        "        self.final_linear = nn.Linear(U * gat_2_inter_size, 1, bias=True)\r\n",
        "\r\n",
        "    # p is price data tensor of shape (num_stocks, T, 3), for the day under consideration\r\n",
        "    # m is smi data list of tensors of shape (num_stocks, K, use_embed_size) of length T,\r\n",
        "    #       where K is the number of tweets for the given stock on the day under consideration\r\n",
        "    # neighorhoods is a list of adjacency lists, where each stock is indexed with the same\r\n",
        "    #       indices they have in p and m\r\n",
        "    def forward(self, p, m, m_mask, neighborhoods):\r\n",
        "        ## price encoding\r\n",
        "        h_p, _ = self.gru_p(p)\r\n",
        "        q = self.attn_p(h_p)\r\n",
        "\r\n",
        "        ## smi encoding (day level)\r\n",
        "        r = torch.zeros(self.num_stocks, 0, self.gru_hidden_size)\r\n",
        "        r = r.to(device)\r\n",
        "        for t in range(self.T):\r\n",
        "            h_m, _ = self.gru_m(m[t])\r\n",
        "            r_t = self.attn_m(h_m, m_mask[t])\r\n",
        "            r = torch.cat((r, r_t), 1)\r\n",
        "\r\n",
        "        ## smi encoding (aggregate)\r\n",
        "        h_s, _ = self.gru_s(r)\r\n",
        "        c = self.attn_s(h_s)\r\n",
        "\r\n",
        "        ## blending\r\n",
        "        x = self.blend(q, c)\r\n",
        "\r\n",
        "        ## reshaping (eliminating superfluous dimension)\r\n",
        "        x = x.view(x.shape[0], x.shape[2])\r\n",
        "\r\n",
        "        ## first gat layer\r\n",
        "        #  first head\r\n",
        "        sgat = self.mgat_1[0]\r\n",
        "        z = sgat(x, neighborhoods)\r\n",
        "        z = self.elu(z)\r\n",
        "\r\n",
        "        #  remaining heads\r\n",
        "        for u in range(1, self.U):\r\n",
        "            sgat = self.mgat_1[u]\r\n",
        "            z_u = sgat(x, neighborhoods)\r\n",
        "            z_u = self.elu(z_u)\r\n",
        "            \r\n",
        "            z = torch.cat((z, z_u), 1)\r\n",
        "        \r\n",
        "        ## second gat layer\r\n",
        "        #  first head\r\n",
        "        sgat = self.mgat_2[0]\r\n",
        "        new_z = sgat(z, neighborhoods)\r\n",
        "        new_z = self.sigmoid(new_z)\r\n",
        "\r\n",
        "        #  remaining heads\r\n",
        "        for u in range(1, self.U):\r\n",
        "            sgat = self.mgat_2[u]\r\n",
        "            new_z_u = sgat(z, neighborhoods)\r\n",
        "            new_z_u = self.sigmoid(new_z_u)\r\n",
        "            \r\n",
        "            new_z = torch.cat((new_z, new_z_u), 1)\r\n",
        "        \r\n",
        "        ## final layer\r\n",
        "        y = self.sigmoid(self.final_linear(new_z))\r\n",
        "\r\n",
        "        ## return result\r\n",
        "        return y"
      ],
      "execution_count": 125,
      "outputs": []
    },
    {
      "cell_type": "markdown",
      "metadata": {
        "id": "TyyPL-psA4cU"
      },
      "source": [
        "#Data Processing"
      ]
    },
    {
      "cell_type": "code",
      "metadata": {
        "id": "JZhP9VnQCyZm"
      },
      "source": [
        "!wget https://github.com/yumoxu/stocknet-dataset/archive/master.zip"
      ],
      "execution_count": null,
      "outputs": []
    },
    {
      "cell_type": "code",
      "metadata": {
        "id": "aW75dPMQCzQ_"
      },
      "source": [
        "!unzip master.zip"
      ],
      "execution_count": null,
      "outputs": []
    },
    {
      "cell_type": "code",
      "metadata": {
        "id": "xqxlViAXArti"
      },
      "source": [
        "module_url = \"https://tfhub.dev/google/universal-sentence-encoder/2\" #@param [\"https://tfhub.dev/google/universal-sentence-encoder/2\", \"https://tfhub.dev/google/universal-sentence-encoder-large/3\"]"
      ],
      "execution_count": 10,
      "outputs": []
    },
    {
      "cell_type": "code",
      "metadata": {
        "id": "DRdIAHpeBJvw"
      },
      "source": [
        "tf.disable_v2_behavior()\r\n",
        "tf.compat.v1.disable_eager_execution()"
      ],
      "execution_count": null,
      "outputs": []
    },
    {
      "cell_type": "code",
      "metadata": {
        "id": "uK1ab2p7BLDm"
      },
      "source": [
        "stocknet_dataset_filepath = './stocknet-dataset-master'\r\n",
        "start_date = '2014-01-01'\r\n",
        "end_date = '2016-01-01'"
      ],
      "execution_count": 12,
      "outputs": []
    },
    {
      "cell_type": "code",
      "metadata": {
        "id": "XMrM3hZEBM6U"
      },
      "source": [
        "preprocessed_prices_filepath = stocknet_dataset_filepath + '/price/preprocessed'\r\n",
        "preprocessed_tweets_filepath = stocknet_dataset_filepath + '/tweet/preprocessed'\r\n",
        "\r\n",
        "company_to_price_df = {}\r\n",
        "company_to_tweets = {}\r\n",
        "\r\n",
        "for filename in os.listdir(preprocessed_prices_filepath):\r\n",
        "    with open(preprocessed_prices_filepath + '/' + filename) as file:\r\n",
        "        company_name = filename.split('.')[0]\r\n",
        "        \r\n",
        "        # Not enough data for GMRE\r\n",
        "        if company_name == 'GMRE':\r\n",
        "            continue\r\n",
        "        df = pd.read_csv(file, sep='\\t')\r\n",
        "        df.columns = ['date', 'open', 'high', 'low', 'close', 'adjust_close', 'volume']\r\n",
        "        company_to_price_df[company_name] = df.dropna()\r\n",
        "\r\n",
        "for filename in tqdm_notebook(os.listdir(preprocessed_tweets_filepath)):\r\n",
        "    company_name = filename.split('.')[0]\r\n",
        "    dates_to_tweets = {}\r\n",
        "    for tweet_filename in os.listdir(preprocessed_tweets_filepath + '/' + filename):\r\n",
        "        with open(preprocessed_tweets_filepath + '/' + filename + '/' + tweet_filename) as file:\r\n",
        "            list_of_tweets = []\r\n",
        "            for line in file:\r\n",
        "                tweet_json = json.loads(line)\r\n",
        "                list_of_tweets.append(tweet_json)\r\n",
        "            dates_to_tweets[tweet_filename] = list_of_tweets\r\n",
        "    company_to_tweets[company_name] = dates_to_tweets"
      ],
      "execution_count": null,
      "outputs": []
    },
    {
      "cell_type": "code",
      "metadata": {
        "id": "bODXPHhUBPLR"
      },
      "source": [
        "# Reduce logging output.\r\n",
        "logging.set_verbosity(logging.ERROR)\r\n",
        "tf.get_logger().setLevel(logging.ERROR)\r\n",
        "tf.compat.v1.logging.set_verbosity(tf.compat.v1.logging.ERROR)\r\n",
        "\r\n",
        "# Import the Universal Sentence Encoder's TF Hub module\r\n",
        "def embed_useT(module):\r\n",
        "    with tf.Graph().as_default():\r\n",
        "        sentences = tf.placeholder(tf.string)\r\n",
        "        embed = hub.Module(module)\r\n",
        "        embeddings = embed(sentences)\r\n",
        "        session = tf.train.MonitoredSession()\r\n",
        "    return lambda x: session.run(embeddings, {sentences: x})\r\n",
        "embed_fn = embed_useT(module_url)"
      ],
      "execution_count": 14,
      "outputs": []
    },
    {
      "cell_type": "code",
      "metadata": {
        "id": "R2WvvCs0BSyJ"
      },
      "source": [
        "# Generate embeddings\r\n",
        "for company in tqdm_notebook(company_to_tweets.keys()):\r\n",
        "  for date in company_to_tweets[company].keys():\r\n",
        "    messages = []\r\n",
        "    for j in range(len(company_to_tweets[company][date])):\r\n",
        "      messages.append(' '.join(company_to_tweets[company][date][j]['text']))\r\n",
        "    message_embeddings = embed_fn(messages)\r\n",
        "    for k in range(len(company_to_tweets[company][date])):\r\n",
        "      company_to_tweets[company][date][k]['embedding'] = list(message_embeddings[k])"
      ],
      "execution_count": null,
      "outputs": []
    },
    {
      "cell_type": "code",
      "metadata": {
        "id": "-ehvMNAkBURU"
      },
      "source": [
        "# Create date mapping\r\n",
        "date_universe = set()\r\n",
        "for company in company_to_price_df.keys():\r\n",
        "    date_universe = date_universe.union(set(company_to_price_df[company].date))\r\n",
        "for company in company_to_tweets.keys():\r\n",
        "    date_universe = date_universe.union(set(company_to_tweets[company].keys()))\r\n",
        "date_universe = sorted(list(date_universe))\r\n",
        "index_to_date = {i-5:d for i,d in enumerate(date_universe)}\r\n",
        "date_to_index = {d:i-5 for i,d in enumerate(date_universe)}"
      ],
      "execution_count": 16,
      "outputs": []
    },
    {
      "cell_type": "code",
      "metadata": {
        "id": "kSD54DIkBVvc"
      },
      "source": [
        "# Calculate dimensions for tensor\r\n",
        "n_stocks = len(company_to_tweets.keys())\r\n",
        "n_days = len(date_universe)\r\n",
        "max_tweets = 0\r\n",
        "for c,d in itertools.product(company_to_tweets.keys(), date_universe):\r\n",
        "    if d in company_to_tweets[c]:\r\n",
        "        max_tweets = max(max_tweets, len(company_to_tweets[c][d]))\r\n",
        "# Create index mapping for stocks alphabetically\r\n",
        "company_to_index = {c:i for i,c in enumerate(sorted(list(company_to_tweets.keys())))}\r\n",
        "# print dimensions\r\n",
        "print(n_stocks)\r\n",
        "print(n_days)\r\n",
        "print(max_tweets)"
      ],
      "execution_count": null,
      "outputs": []
    },
    {
      "cell_type": "code",
      "metadata": {
        "id": "MSETGErrBaxJ"
      },
      "source": [
        "n_days = 8"
      ],
      "execution_count": 332,
      "outputs": []
    },
    {
      "cell_type": "code",
      "metadata": {
        "id": "KHzz12UHdrlo"
      },
      "source": [
        "# Construct tensors\r\n",
        "price_tensor = np.zeros((n_stocks, n_days - 5, 6, 3))\r\n",
        "smi_tensor = np.zeros((n_stocks, n_days - 5, 6, max_tweets, 512))"
      ],
      "execution_count": 333,
      "outputs": []
    },
    {
      "cell_type": "code",
      "metadata": {
        "id": "4gBc1ffTdthd"
      },
      "source": [
        "# price tensor\r\n",
        "for company in tqdm_notebook(company_to_price_df.keys()):\r\n",
        "    dates = sorted(list(company_to_price_df[company].date))\r\n",
        "    lags = []\r\n",
        "    for date in dates[:5]:\r\n",
        "        entry = []\r\n",
        "        row = company_to_price_df[company].loc[company_to_price_df[company]['date'] == date]\r\n",
        "        entry.append(row['high'].values[0])\r\n",
        "        entry.append(row['low'].values[0])\r\n",
        "        entry.append(row['adjust_close'].values[0])\r\n",
        "        lags.append(entry)\r\n",
        "    date_index = 0\r\n",
        "    for date in dates[5:n_days]:\r\n",
        "        entry = []\r\n",
        "        row = company_to_price_df[company].loc[company_to_price_df[company]['date'] == date]\r\n",
        "        entry.append(row['high'].values[0])\r\n",
        "        entry.append(row['low'].values[0])\r\n",
        "        entry.append(row['adjust_close'].values[0])\r\n",
        "        lags.append(entry)\r\n",
        "        company_index = company_to_index[company]\r\n",
        "        for i,entry in enumerate(lags):\r\n",
        "            for j,price in enumerate(entry):\r\n",
        "                #stocks, day, lags, hi/lo/close\r\n",
        "                price_tensor[company_index, date_index, i, j] = price\r\n",
        "        lags.pop(0)\r\n",
        "        date_index += 1"
      ],
      "execution_count": null,
      "outputs": []
    },
    {
      "cell_type": "code",
      "metadata": {
        "id": "SeyHoYBbdvle"
      },
      "source": [
        "# SMI tensor\r\n",
        "for company in tqdm_notebook(company_to_tweets.keys()):\r\n",
        "    dates = sorted(list(company_to_tweets[company].keys()))\r\n",
        "    lags = []\r\n",
        "    for date in dates[:5]:\r\n",
        "        n_tweets = len(company_to_tweets[company][date])\r\n",
        "        lags.append([company_to_tweets[company][date][k]['embedding'] for k in range(n_tweets)])\r\n",
        "    date_index = 0\r\n",
        "    for date in dates[5:n_days]:\r\n",
        "        n_tweets = len(company_to_tweets[company][date])\r\n",
        "        lags.append([company_to_tweets[company][date][k]['embedding'] for k in range(n_tweets)])\r\n",
        "        company_index = company_to_index[company]\r\n",
        "        for i,messages in enumerate(lags):\r\n",
        "            for j,embedding in enumerate(messages):\r\n",
        "                #stocks, day, lags, tweet, embedding\r\n",
        "                smi_tensor[company_index, date_index, i, j, :] = embedding[:]\r\n",
        "        lags.pop(0)\r\n",
        "        date_index += 1"
      ],
      "execution_count": null,
      "outputs": []
    },
    {
      "cell_type": "markdown",
      "metadata": {
        "id": "tlOeo8caLWKK"
      },
      "source": [
        "#Separator"
      ]
    },
    {
      "cell_type": "code",
      "metadata": {
        "id": "ANYU8fO-BdS6"
      },
      "source": [
        "device = torch.device(\"cuda:0\" if torch.cuda.is_available() else \"cpu\")\r\n",
        "print(device)"
      ],
      "execution_count": null,
      "outputs": []
    },
    {
      "cell_type": "code",
      "metadata": {
        "id": "fafvtFA1BiHn"
      },
      "source": [
        "price_tensor = torch.from_numpy(price_tensor)\r\n",
        "smi_tensor = torch.from_numpy(smi_tensor)\r\n",
        "\r\n",
        "price_tensor = price_tensor.type(torch.FloatTensor)\r\n",
        "smi_tensor = smi_tensor.type(torch.FloatTensor)\r\n",
        "\r\n",
        "price_tensor = price_tensor.to(device)\r\n",
        "smi_tensor = smi_tensor.to(device)"
      ],
      "execution_count": 337,
      "outputs": []
    },
    {
      "cell_type": "code",
      "metadata": {
        "id": "tu_4Ir_QldXT"
      },
      "source": [
        "price_tensor.shape"
      ],
      "execution_count": null,
      "outputs": []
    },
    {
      "cell_type": "code",
      "metadata": {
        "id": "TTDG4dmYlYwU"
      },
      "source": [
        "price_tensor = price_tensor.permute(1, 0, 2, 3)"
      ],
      "execution_count": 339,
      "outputs": []
    },
    {
      "cell_type": "code",
      "metadata": {
        "id": "uCm2y8lRBkVr"
      },
      "source": [
        "p = price_tensor[0]"
      ],
      "execution_count": 340,
      "outputs": []
    },
    {
      "cell_type": "code",
      "metadata": {
        "id": "HLxdbacCmVvM"
      },
      "source": [
        "p_ = price_tensor[1]"
      ],
      "execution_count": 341,
      "outputs": []
    },
    {
      "cell_type": "code",
      "metadata": {
        "id": "bewKZeF9pQlD"
      },
      "source": [
        "p__ = price_tensor[2]"
      ],
      "execution_count": 342,
      "outputs": []
    },
    {
      "cell_type": "code",
      "metadata": {
        "id": "exXAKgzXllAM"
      },
      "source": [
        "p.shape"
      ],
      "execution_count": null,
      "outputs": []
    },
    {
      "cell_type": "code",
      "metadata": {
        "id": "wcnJweBIlzlF"
      },
      "source": [
        "smi_tensor.shape"
      ],
      "execution_count": null,
      "outputs": []
    },
    {
      "cell_type": "code",
      "metadata": {
        "id": "BVv7X3I0l1QS"
      },
      "source": [
        "smi_tensor = smi_tensor.permute(1, 2, 0, 3, 4)"
      ],
      "execution_count": 345,
      "outputs": []
    },
    {
      "cell_type": "code",
      "metadata": {
        "id": "Qg_tYBW_BlwI"
      },
      "source": [
        "m = []\r\n",
        "for t in range(6):\r\n",
        "    m.append(smi_tensor[0][t])"
      ],
      "execution_count": 346,
      "outputs": []
    },
    {
      "cell_type": "code",
      "metadata": {
        "id": "wajNGQMZmZuW"
      },
      "source": [
        "m_ = []\r\n",
        "for t in range(6):\r\n",
        "    m_.append(smi_tensor[1][t])"
      ],
      "execution_count": 347,
      "outputs": []
    },
    {
      "cell_type": "code",
      "metadata": {
        "id": "PjZhGt-NpUjv"
      },
      "source": [
        "m__ = []\r\n",
        "for t in range(6):\r\n",
        "    m__.append(smi_tensor[2][t])"
      ],
      "execution_count": 348,
      "outputs": []
    },
    {
      "cell_type": "code",
      "metadata": {
        "id": "0WGV4oCDBnHR"
      },
      "source": [
        "neighborhoods = torch.eye(n_stocks, n_stocks)\r\n",
        "neighborhoods = neighborhoods.to(device)"
      ],
      "execution_count": 349,
      "outputs": []
    },
    {
      "cell_type": "code",
      "metadata": {
        "id": "BEixKQYbkDrs"
      },
      "source": [
        "m_K = torch.ones(6, n_stocks)"
      ],
      "execution_count": 350,
      "outputs": []
    },
    {
      "cell_type": "code",
      "metadata": {
        "id": "Fn4M1kL-huI6"
      },
      "source": [
        "m_mask = torch.zeros(6, n_stocks, max_tweets, 1)\r\n",
        "for t in range(6):\r\n",
        "    for i in range(n_stocks):\r\n",
        "        for k in range(max_tweets):\r\n",
        "            if k <= m_K[t][i]:\r\n",
        "                m_mask[t][i][k][0] = 1\r\n",
        "\r\n",
        "m_mask = m_mask.to(device)"
      ],
      "execution_count": 351,
      "outputs": []
    },
    {
      "cell_type": "markdown",
      "metadata": {
        "id": "tzGtCej6Bu_n"
      },
      "source": [
        "#Training"
      ]
    },
    {
      "cell_type": "code",
      "metadata": {
        "id": "etylmeyDBtQ4"
      },
      "source": [
        "mansf = MANSF(T=6,\r\n",
        "              num_stocks=n_stocks,\r\n",
        "              gru_hidden_size=64,\r\n",
        "              attn_inter_size=32,\r\n",
        "              use_embed_size=512,\r\n",
        "              blend_size=32,\r\n",
        "              gat_1_inter_size=32,\r\n",
        "              gat_2_inter_size=32,\r\n",
        "              leakyrelu_slope=0.01,\r\n",
        "              elu_alpha=1.0,\r\n",
        "              U=8)"
      ],
      "execution_count": 352,
      "outputs": []
    },
    {
      "cell_type": "code",
      "metadata": {
        "id": "eNy0SuSXB0H2"
      },
      "source": [
        "mansf = mansf.to(device)"
      ],
      "execution_count": 353,
      "outputs": []
    },
    {
      "cell_type": "code",
      "metadata": {
        "id": "4H8KpJZaB8xs"
      },
      "source": [
        "y = mansf(p, m, m_mask, neighborhoods)"
      ],
      "execution_count": 354,
      "outputs": []
    },
    {
      "cell_type": "code",
      "metadata": {
        "id": "GaqeniRCB-Ot"
      },
      "source": [
        "print(y)  # initial predictions without training"
      ],
      "execution_count": null,
      "outputs": []
    },
    {
      "cell_type": "code",
      "metadata": {
        "id": "7rhZmxAWCAIn"
      },
      "source": [
        "Y = torch.zeros(n_stocks, 1)\r\n",
        "\r\n",
        "for i in range(n_stocks):\r\n",
        "    if p_[i][5][2] > 0:\r\n",
        "        Y[i][0] = 1.0"
      ],
      "execution_count": 356,
      "outputs": []
    },
    {
      "cell_type": "code",
      "metadata": {
        "id": "6Ao9VGIBCBiY"
      },
      "source": [
        "Y = Y.to(device)"
      ],
      "execution_count": 357,
      "outputs": []
    },
    {
      "cell_type": "code",
      "metadata": {
        "id": "ELS9f6JKCDCU"
      },
      "source": [
        "optimizer = optim.Adam(mansf.parameters())\r\n",
        "loss_fn = nn.BCELoss()"
      ],
      "execution_count": 358,
      "outputs": []
    },
    {
      "cell_type": "code",
      "metadata": {
        "id": "GhxL1HqYCEPD"
      },
      "source": [
        "for epoch in range(100):\r\n",
        "    mansf.train()\r\n",
        "    y = mansf(p, m, m_mask, neighborhoods)\r\n",
        "    loss = loss_fn(y.view(-1), Y.view(-1))\r\n",
        "    loss.backward()\r\n",
        "    optimizer.step()\r\n",
        "    optimizer.zero_grad()\r\n",
        "    print(epoch, loss.item())"
      ],
      "execution_count": null,
      "outputs": []
    },
    {
      "cell_type": "code",
      "metadata": {
        "id": "jhxlpE0SCFvV"
      },
      "source": [
        "ycatY = torch.cat((y, Y), dim=1)"
      ],
      "execution_count": 360,
      "outputs": []
    },
    {
      "cell_type": "code",
      "metadata": {
        "id": "gOb36eG3CJRs"
      },
      "source": [
        "print(ycatY)"
      ],
      "execution_count": null,
      "outputs": []
    },
    {
      "cell_type": "code",
      "metadata": {
        "id": "Vv2EG288FPNb"
      },
      "source": [
        "accuracy = torch.sum((y > 0.5) == Y) / len(y)"
      ],
      "execution_count": 362,
      "outputs": []
    },
    {
      "cell_type": "code",
      "metadata": {
        "id": "p_6RDsDOFdbB"
      },
      "source": [
        "print(accuracy)"
      ],
      "execution_count": null,
      "outputs": []
    },
    {
      "cell_type": "code",
      "metadata": {
        "id": "4DHMhau-mPwA"
      },
      "source": [
        "y_ = mansf(p_, m_, m_mask, neighborhoods)"
      ],
      "execution_count": 364,
      "outputs": []
    },
    {
      "cell_type": "code",
      "metadata": {
        "id": "OmQ-ZpIcmf2V"
      },
      "source": [
        "Y_ = torch.zeros(n_stocks, 1)\r\n",
        "\r\n",
        "for i in range(n_stocks):\r\n",
        "    if p__[i][5][2] > 0:\r\n",
        "        Y_[i][0] = 1.0"
      ],
      "execution_count": 365,
      "outputs": []
    },
    {
      "cell_type": "code",
      "metadata": {
        "id": "3-7AfbjzmofG"
      },
      "source": [
        "Y_ = Y_.to(device)"
      ],
      "execution_count": 366,
      "outputs": []
    },
    {
      "cell_type": "code",
      "metadata": {
        "id": "a0enyKzpmp89"
      },
      "source": [
        "ycatY_ = torch.cat((y_, Y_), dim=1)"
      ],
      "execution_count": 367,
      "outputs": []
    },
    {
      "cell_type": "code",
      "metadata": {
        "id": "7VO3KysfmuJh"
      },
      "source": [
        "print(ycatY_)"
      ],
      "execution_count": null,
      "outputs": []
    },
    {
      "cell_type": "code",
      "metadata": {
        "id": "k8dXZVFRmw0R"
      },
      "source": [
        "accuracy_ = torch.sum((y_ > 0.5) == Y_) / len(y_)"
      ],
      "execution_count": 369,
      "outputs": []
    },
    {
      "cell_type": "code",
      "metadata": {
        "id": "a_GInTGQm0M_"
      },
      "source": [
        "print(accuracy_)"
      ],
      "execution_count": null,
      "outputs": []
    }
  ]
}